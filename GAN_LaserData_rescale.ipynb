{
 "cells": [
  {
   "cell_type": "code",
   "execution_count": 1,
   "metadata": {
    "colab": {
     "base_uri": "https://localhost:8080/"
    },
    "id": "PrLfP7wCfj0e",
    "outputId": "5a84dd6e-39a4-449c-8d52-8d287c4ecfea"
   },
   "outputs": [],
   "source": [
    "# from google.colab import drive\n",
    "# drive.mount('/content/gdrive')"
   ]
  },
  {
   "cell_type": "code",
   "execution_count": 1,
   "metadata": {
    "id": "dt4827SleS3G"
   },
   "outputs": [],
   "source": [
    "import torch\n",
    "from torch import nn\n",
    "import numpy as np\n",
    "import pandas as pd\n",
    "import math\n",
    "import matplotlib.pyplot as plt\n",
    "from sklearn.preprocessing import MinMaxScaler, PolynomialFeatures\n",
    "from sklearn.pipeline import Pipeline\n",
    "from sklearn.linear_model import LinearRegression\n",
    "from sklearn.model_selection import train_test_split, cross_val_score\n",
    "from sklearn.metrics import accuracy_score, mean_squared_error, r2_score\n",
    "\n",
    "from sklearn.utils import shuffle\n",
    "# device = torch.device(\"cuda\")\n",
    "torch.manual_seed(20210614)\n",
    "\n",
    "import itertools\n",
    "from tensorflow.python.keras.layers import Input, Dense\n",
    "from tensorflow.python.keras.models import Model\n",
    "\n",
    "from numpy.random import seed\n",
    "seed(20210614)\n",
    "import tensorflow\n",
    "tensorflow.random.set_seed(20210614)"
   ]
  },
  {
   "cell_type": "markdown",
   "metadata": {
    "id": "vGXLCjsLeL2l"
   },
   "source": [
    "## Decide which Exp data set you want to use for generating data"
   ]
  },
  {
   "cell_type": "code",
   "execution_count": 2,
   "metadata": {
    "id": "Kf8bgtEMeS3J"
   },
   "outputs": [],
   "source": [
    "#------- reading data from file for training, first Exp set\n",
    "# df1 = pd.read_excel('RawData/Machine Learning Data_01.xlsx')\n",
    "\n",
    "# df1.dropna(how='any', axis=1, inplace = True)\n",
    "# # df1 = shuffle(df1, random_state=20210614)\n",
    "# ###------- normalizing data \n",
    "# normalizer = MinMaxScaler()\n",
    "# df_norm = normalizer.fit_transform(df1)\n",
    "\n",
    "# train_data_length = 189  ##### Exp set 1 : 189, Both Expsets: 235 \n",
    "# batch_size = 21          ##### Exp set 1 : 21, Both Expsets: 23"
   ]
  },
  {
   "cell_type": "code",
   "execution_count": 3,
   "metadata": {},
   "outputs": [
    {
     "name": "stdout",
     "output_type": "stream",
     "text": [
      "(203, 7)\n"
     ]
    }
   ],
   "source": [
    "\n",
    "df_clean = pd.read_csv('RawData/NewData_cleaned.csv')\n",
    "df_0 = pd.read_csv('RawData/ParametricStudy_0.csv')\n",
    "df_1 = pd.read_csv('RawData/ParametricStudy_1_inv.csv')\n",
    "df_2 = pd.read_csv('RawData/ParametricStudy_2_inv.csv')\n",
    "\n",
    "# combined_Exp = df_clean\n",
    "combined_Exp = pd.concat([df_clean, df_0, df_1, df_2], axis = 0, ignore_index = True)\n",
    "\n",
    "combined_Exp = shuffle(combined_Exp, random_state=20210614)\n",
    "print(combined_Exp.shape)\n",
    "\n",
    "###------- normalizing data \n",
    "normalizer = MinMaxScaler()\n",
    "df_norm = normalizer.fit_transform(combined_Exp)\n",
    "\n",
    "# df_norm = pd.DataFrame(df, columns=combined_Exp.columns )\n",
    "\n",
    "train_data_length = 200  ##### Exp set 2 : 203\n",
    "batch_size = 25          ##### "
   ]
  },
  {
   "cell_type": "code",
   "execution_count": 4,
   "metadata": {},
   "outputs": [],
   "source": [
    "# df_norm.astype(np.float32)"
   ]
  },
  {
   "cell_type": "code",
   "execution_count": 5,
   "metadata": {
    "colab": {
     "base_uri": "https://localhost:8080/"
    },
    "id": "LLtkGwt-eWRK",
    "outputId": "a18877be-7b1b-4501-fdcf-fa24b4e527ab"
   },
   "outputs": [],
   "source": [
    "##------- reading data from file for training, first Exp set\n",
    "# df1 = pd.read_excel('RawData/Machine Learning Data_01.xlsx')\n",
    "\n",
    "# df1.dropna(how='any', axis=1, inplace = True)\n",
    "\n",
    "# ############------- combining both Exp sets\n",
    "# df2 = pd.read_csv('RawData/Exp_Set2_02.csv')\n",
    "\n",
    "# combined_Exp = pd.concat([df1, df2], axis = 0, ignore_index = True)\n",
    "\n",
    "# combined_Exp = shuffle(combined_Exp, random_state=20210614)\n",
    "# print(combined_Exp.shape)\n",
    "\n",
    "# ###------- normalizing data \n",
    "# normalizer = MinMaxScaler()\n",
    "# df_norm = normalizer.fit_transform(combined_Exp)\n",
    "\n",
    "# train_data_length = 230  ##### Exp set 1 : 189, Both Expsets: 230 \n",
    "# batch_size = 23          ##### Exp set 1 : 21, Both Expsets: 23"
   ]
  },
  {
   "cell_type": "code",
   "execution_count": 4,
   "metadata": {
    "id": "l9eiLO5OeS3K"
   },
   "outputs": [],
   "source": [
    "train_data = torch.zeros((train_data_length, 7))   # 7 features must begenerated for each observation\n",
    "\n",
    "###------- turn the traianing data to a torch tensor\n",
    "train_data = torch.FloatTensor(df_norm.astype(np.float32))\n",
    "\n",
    "train_labels = torch.zeros(train_data_length)\n",
    "train_set = [\n",
    "    (train_data[i], train_labels[i]) for i in range(train_data_length)\n",
    "]\n"
   ]
  },
  {
   "cell_type": "code",
   "execution_count": 5,
   "metadata": {
    "id": "5JkgtH2DeS3L"
   },
   "outputs": [],
   "source": [
    "\n",
    "train_loader = torch.utils.data.DataLoader(\n",
    "    train_set, batch_size=batch_size, shuffle=True\n",
    ")"
   ]
  },
  {
   "cell_type": "code",
   "execution_count": 6,
   "metadata": {
    "id": "JbQPjs7teS3L"
   },
   "outputs": [],
   "source": [
    "class Discriminator(nn.Module):\n",
    "    def __init__(self):\n",
    "        super().__init__()\n",
    "        self.model = nn.Sequential(\n",
    "            nn.Linear(7, 128),\n",
    "            nn.LeakyReLU(),\n",
    "            nn.Dropout(0.5),\n",
    "            nn.Linear(128, 64),\n",
    "            # nn.BatchNorm1d(64),\n",
    "            nn.LeakyReLU(),\n",
    "            nn.Dropout(0.5),\n",
    "            nn.Linear(64, 32),\n",
    "            # nn.BatchNorm1d(32),\n",
    "            nn.LeakyReLU(),\n",
    "            nn.Dropout(0.5),\n",
    "            nn.Linear(32, 1),\n",
    "            # nn.BatchNorm1d(1),\n",
    "            nn.Sigmoid(),\n",
    "        )\n",
    "\n",
    "    def forward(self, x):\n",
    "        output = self.model(x)\n",
    "        return output\n",
    "    \n",
    "discriminator = Discriminator()\n"
   ]
  },
  {
   "cell_type": "code",
   "execution_count": 7,
   "metadata": {
    "id": "KZgn21WeeS3M"
   },
   "outputs": [],
   "source": [
    "class Generator(nn.Module):\n",
    "    def __init__(self):\n",
    "        super().__init__()\n",
    "        self.model = nn.Sequential(\n",
    "            nn.Linear(7, 16),\n",
    "            # nn.BatchNorm1d(16),\n",
    "            nn.ReLU(),\n",
    "            nn.Linear(16, 32),\n",
    "            # nn.BatchNorm1d(32),\n",
    "            nn.ReLU(),\n",
    "            nn.Linear(32, 7),\n",
    "            nn.Tanh(),\n",
    "        )\n",
    "\n",
    "    def forward(self, x):\n",
    "        output = self.model(x)\n",
    "        return output\n",
    "\n",
    "generator = Generator()"
   ]
  },
  {
   "cell_type": "code",
   "execution_count": 8,
   "metadata": {
    "id": "FIBIz6uTeS3M"
   },
   "outputs": [],
   "source": [
    "lr_dis = 0.001\n",
    "lr_gen = 0.0005\n",
    "num_epochs = 6000\n",
    "\n",
    "loss_function = nn.BCELoss()\n",
    "\n",
    "optimizer_discriminator = torch.optim.Adam(discriminator.parameters(), lr=lr_dis)\n",
    "optimizer_generator = torch.optim.Adam(generator.parameters(), lr=lr_gen)\n",
    "\n",
    "# optimizer_discriminator = torch.optim.SGD(discriminator.parameters(), lr=lr_dis, momentum=0.5)\n",
    "# optimizer_generator = torch.optim.SGD(generator.parameters(), lr=lr_gen, momentum=0.5)"
   ]
  },
  {
   "cell_type": "code",
   "execution_count": 9,
   "metadata": {
    "id": "AacWXcuxeS3M"
   },
   "outputs": [],
   "source": [
    "loss_disc = []\n",
    "loss_gen = []\n",
    "for epoch in range(num_epochs):\n",
    "    for n, (real_samples, _) in enumerate(train_loader):\n",
    "        ## --- Data for training the discriminator\n",
    "        real_samples_labels = torch.ones((batch_size, 1))\n",
    "        latent_space_samples = torch.randn((batch_size, 7))\n",
    "        generated_samples = generator(latent_space_samples)\n",
    "        generated_samples_labels = torch.zeros((batch_size, 1))\n",
    "        all_samples = torch.cat((real_samples, generated_samples))\n",
    "        all_samples_labels = torch.cat(\n",
    "            (real_samples_labels, generated_samples_labels)\n",
    "        )\n",
    "\n",
    "        ## --- Training the discriminator\n",
    "        discriminator.zero_grad()\n",
    "        output_discriminator = discriminator(all_samples)\n",
    "        \n",
    "        ## --- print(len(output_discriminator))\n",
    "        loss_discriminator = loss_function(\n",
    "            output_discriminator, all_samples_labels)\n",
    "        loss_discriminator.backward()\n",
    "        optimizer_discriminator.step()\n",
    "\n",
    "        ## --- Data for training the generator\n",
    "        latent_space_samples = torch.randn((batch_size, 7))\n",
    "\n",
    "        ## --- Training the generator\n",
    "        generator.zero_grad()\n",
    "        generated_samples = generator(latent_space_samples)\n",
    "        output_discriminator_generated = discriminator(generated_samples)\n",
    "        loss_generator = loss_function(\n",
    "            output_discriminator_generated, real_samples_labels\n",
    "        )\n",
    "        loss_generator.backward()\n",
    "        optimizer_generator.step()\n",
    "\n",
    "        #Show loss\n",
    "#         if epoch % 10 == 0 and n == batch_size - 1:\n",
    "#         print(f\"Epoch: {epoch} Loss D.: {loss_discriminator}\")\n",
    "#         print(f\"Epoch: {epoch} Loss G.: {loss_generator}\")\n",
    "    if epoch % 10 == 0:\n",
    "        loss_disc.append(loss_discriminator.item())\n",
    "        loss_gen.append(loss_generator.item())\n",
    "\n",
    "            "
   ]
  },
  {
   "cell_type": "code",
   "execution_count": 10,
   "metadata": {
    "colab": {
     "base_uri": "https://localhost:8080/",
     "height": 297
    },
    "id": "Yya9VAqceS3O",
    "outputId": "2dabd1c7-552b-406e-f601-8fe0903ef1f3"
   },
   "outputs": [],
   "source": [
    "latent_space_samples = torch.randn(5000, 7)\n",
    "generated_samples = generator(latent_space_samples)\n",
    "generated_samples = generated_samples.detach()\n"
   ]
  },
  {
   "cell_type": "code",
   "execution_count": 11,
   "metadata": {},
   "outputs": [
    {
     "data": {
      "image/png": "[encoded data removed]",
      "text/plain": [
       "<Figure size 864x324 with 2 Axes>"
      ]
     },
     "metadata": {
      "needs_background": "light"
     },
     "output_type": "display_data"
    }
   ],
   "source": [
    "\n",
    "fig = plt.figure(figsize=(12,4.5))\n",
    "ax1 = fig.add_subplot(121)\n",
    "ax2 = fig.add_subplot(122)\n",
    "\n",
    "ax1.plot(generated_samples[:, 5], generated_samples[:, 6], \".\")\n",
    "ax1.set_xlim(-0.1,1.05)\n",
    "ax1.set_ylim(-0.05,1.05)\n",
    "ax2.set_xlim(-0.1,1.05)\n",
    "ax2.set_ylim(-0.05,1.05)\n",
    "ax2.plot(train_data[:, 5], train_data[:, 6], \".\")\n",
    "\n",
    "plt.show()"
   ]
  },
  {
   "cell_type": "code",
   "execution_count": 12,
   "metadata": {
    "colab": {
     "base_uri": "https://localhost:8080/",
     "height": 320
    },
    "id": "ASa8Ew7EeS3N",
    "outputId": "aa971672-9656-4f79-8144-8078ef388773"
   },
   "outputs": [
    {
     "data": {
      "image/png": "[encoded data removed]",
      "text/plain": [
       "<Figure size 1296x360 with 1 Axes>"
      ]
     },
     "metadata": {
      "needs_background": "light"
     },
     "output_type": "display_data"
    }
   ],
   "source": [
    "fig = plt.figure(figsize=(18,5))\n",
    "plt.plot(loss_disc, 'r', label = 'discriminator loss')\n",
    "plt.plot(loss_gen, 'b', label = 'generator loss')\n",
    "# plt.xlim(250,300)\n",
    "plt.legend()\n",
    "plt.grid()\n",
    "plt.show()"
   ]
  },
  {
   "cell_type": "code",
   "execution_count": 13,
   "metadata": {
    "id": "IV4I_aZkeS3P"
   },
   "outputs": [],
   "source": [
    "# def mse_old(y,ypred):\n",
    "#     ### takes the real and predicted data and calcualtes the mean squared error\n",
    "#     return np.mean((y-ypred)**2)\n",
    "\n",
    "\n",
    "# def R2_old(y, predY):\n",
    "#     ### takes the real and predicted data and returns the R^2 value\n",
    "#     ### R2=0 => the model does nothing, \n",
    "#     ### R2=1 => the model is good as RSS=0,\n",
    "#     ### R2<0 => the model is bad as RSS is too big  \n",
    "#     res = y - predY  ### difference between the real and predicted values\n",
    "#     RSS = sum(res**2)  \n",
    "    \n",
    "#     res_ave = y - np.mean(y)  ### if the model prediction was the same as mean of the data\n",
    "#     TSS = sum(res_ave**2)     \n",
    "    \n",
    "#     return 1-RSS/TSS "
   ]
  },
  {
   "cell_type": "code",
   "execution_count": 14,
   "metadata": {
    "id": "-qE8waZQkkF0"
   },
   "outputs": [],
   "source": [
    "# def mse(y,ypred):\n",
    "#     return (np.mean((y.ravel()-ypred.ravel())**2)*100).round(4)\n",
    "\n",
    "\n",
    "# def R2(y, predY):\n",
    "#     res = y.ravel() - predY.ravel() \n",
    "#     RSS = sum(res**2)  \n",
    "    \n",
    "#     res_vs_ave = y.ravel() - np.mean(y.ravel())  \n",
    "#     TSS = sum(res_vs_ave**2)     \n",
    "    \n",
    "#     return ((1-RSS/TSS)*100).round(4) "
   ]
  },
  {
   "cell_type": "markdown",
   "metadata": {
    "id": "QmLha717aXXg"
   },
   "source": [
    "# Test the GAN data using\n",
    "- Neural network\n",
    "- 2nd order PN\n",
    "\n",
    "When the models are trained\n",
    "- with the original data and tested with GAN\n",
    "- with GAN and tested with original data \n"
   ]
  },
  {
   "cell_type": "markdown",
   "metadata": {
    "id": "5wxhx9ATxgJv"
   },
   "source": [
    "## Training Exp, Test GAN"
   ]
  },
  {
   "cell_type": "code",
   "execution_count": 15,
   "metadata": {},
   "outputs": [],
   "source": [
    "### Two hidden layers Keras Tensor flow\n",
    "def NN_twohidden(Xtrain, Y_train, Xtest, Y_test):\n",
    "    \n",
    "    tensorflow.random.set_seed(20210616)\n",
    "    input = Input(shape=(Xtrain.shape[1],))\n",
    "    # input = Input(shape=(5,))\n",
    "    x = Dense(128, activation='relu')(input)\n",
    "    x = Dense(64, activation='relu')(x)\n",
    "    # x = Dense(32, activation='relu')(x)\n",
    "    # x = Dense(16, activation='relu')(x)\n",
    "    output = Dense(2)(x)\n",
    "    model = Model(inputs=input, outputs=output)\n",
    "    model.compile(optimizer='adam', loss='mse')\n",
    "\n",
    "\n",
    "    model.fit(Xtrain, (Y_train) , epochs=1000, batch_size=128 ,verbose=0)\n",
    "    pred = model.predict(Xtest)\n",
    "\n",
    "    error = (mean_squared_error(pred[:, 0], Y_test[:,0]), \n",
    "           mean_squared_error(pred[:, 1], Y_test[:,1]))\n",
    "    print(f'NN test loss :{error}%')\n",
    "\n",
    "    Rsquare = (r2_score(pred[:,0], Y_test[:,0])*100, \n",
    "             r2_score(pred[:,1], Y_test[:,1])*100)\n",
    "    print(f'NN test R2 :{Rsquare}%')\n",
    "    return pred"
   ]
  },
  {
   "cell_type": "code",
   "execution_count": 17,
   "metadata": {
    "id": "prV-P3eigg9a"
   },
   "outputs": [],
   "source": [
    "\"\"\" Exp, GAN \"\"\"\n",
    "df_scl = pd.DataFrame(df_norm, columns=combined_Exp.columns )\n",
    "\n",
    "X_Exp = df_scl.drop(['Depth','Angle'], axis = 'columns')\n",
    "Y_Exp = np.c_[df_scl.Depth, df_scl.Angle]\n",
    "\n",
    "###------------------ \n",
    "df_GAN = pd.DataFrame(generated_samples.numpy(), columns=combined_Exp.columns )\n",
    "\n",
    "X_GAN = df_GAN.drop(['Depth','Angle'], axis = 'columns')\n",
    "\n",
    "Y_GAN = np.c_[df_GAN.Depth, df_GAN.Angle]"
   ]
  },
  {
   "cell_type": "code",
   "execution_count": 18,
   "metadata": {},
   "outputs": [
    {
     "name": "stderr",
     "output_type": "stream",
     "text": [
      "2021-09-22 14:49:33.153729: I tensorflow/core/platform/cpu_feature_guard.cc:142] This TensorFlow binary is optimized with oneAPI Deep Neural Network Library (oneDNN) to use the following CPU instructions in performance-critical operations:  AVX2 FMA\n",
      "To enable them in other operations, rebuild TensorFlow with the appropriate compiler flags.\n",
      "2021-09-22 14:49:33.211912: I tensorflow/compiler/mlir/mlir_graph_optimization_pass.cc:185] None of the MLIR Optimization Passes are enabled (registered 2)\n"
     ]
    },
    {
     "name": "stdout",
     "output_type": "stream",
     "text": [
      "NN test loss :(0.0027210199326730454, 0.020205561299077014)%\n",
      "NN test R2 :(93.33277983096006, 61.79522799397935)%\n"
     ]
    },
    {
     "data": {
      "image/png": "[encoded data removed]",
      "text/plain": [
       "<Figure size 864x360 with 2 Axes>"
      ]
     },
     "metadata": {
      "needs_background": "light"
     },
     "output_type": "display_data"
    }
   ],
   "source": [
    "Xtrain, Xtest, Y_train, Y_test = train_test_split(X_Exp, Y_Exp,\\\n",
    "                                                  test_size = 0.20, random_state = 20210614)\n",
    "\n",
    "\n",
    "pred = NN_twohidden(Xtrain, Y_train, Xtest, Y_test)\n",
    "fig = plt.figure(figsize=(12,5))\n",
    "# plt.subplots_adjust(wspace = 0.35)\n",
    "# fig, ax = plt.subplots(dpi = 120, nrows = 1, ncols = 3, figsize = (10,6))\n",
    "\n",
    "ax1 = fig.add_subplot(121)\n",
    "ax2 = fig.add_subplot(122)\n",
    "\n",
    "ax1.plot(pred[:, 0], Y_test[:,0], 'ob', label = 'Depth')\n",
    "ax1.plot(Y_test[:,0], Y_test[:,0])\n",
    "# print('Depth MSE, R2: ',mean_squared_error(pred[:, 0], Y_test[:,0]), r2_score(pred[:,0], Y_test[:,0])*100)\n",
    "\n",
    "ax2.plot(pred[:, 1], Y_test[:,1], 'ob', label= 'Angle')\n",
    "ax2.plot(Y_test[:,1], Y_test[:,1])\n",
    "# print('Angle MSE, R2:',mean_squared_error(pred[:,1], Y_test[:,1]), r2_score(pred[:,1], Y_test[:,1])*100)\n",
    "\n",
    "ax1.legend()\n",
    "ax2.legend()\n",
    "plt.show()"
   ]
  },
  {
   "cell_type": "code",
   "execution_count": 19,
   "metadata": {},
   "outputs": [
    {
     "name": "stdout",
     "output_type": "stream",
     "text": [
      "NN test loss :(0.0007182139, 0.0033706184)%\n",
      "NN test R2 :(97.13079135377542, 92.29544294943892)%\n"
     ]
    },
    {
     "data": {
      "image/png": "[encoded data removed]",
      "text/plain": [
       "<Figure size 864x360 with 2 Axes>"
      ]
     },
     "metadata": {
      "needs_background": "light"
     },
     "output_type": "display_data"
    }
   ],
   "source": [
    "Xtrain, Xtest, Y_train, Y_test = train_test_split(X_GAN, Y_GAN,\\\n",
    "                                                  test_size = 0.20, random_state = 20210614)\n",
    "\n",
    "\n",
    "pred = NN_twohidden(Xtrain, Y_train, Xtest, Y_test)\n",
    "fig = plt.figure(figsize=(12,5))\n",
    "# plt.subplots_adjust(wspace = 0.35)\n",
    "# fig, ax = plt.subplots(dpi = 120, nrows = 1, ncols = 3, figsize = (10,6))\n",
    "\n",
    "ax1 = fig.add_subplot(121)\n",
    "ax2 = fig.add_subplot(122)\n",
    "\n",
    "ax1.plot(pred[:, 0], Y_test[:,0], 'ob', label = 'Depth')\n",
    "ax1.plot(Y_test[:,0], Y_test[:,0])\n",
    "# print('Depth MSE, R2: ',mean_squared_error(pred[:, 0], Y_test[:,0]), r2_score(pred[:,0], Y_test[:,0])*100)\n",
    "\n",
    "ax2.plot(pred[:, 1], Y_test[:,1], 'ob', label= 'Angle')\n",
    "ax2.plot(Y_test[:,1], Y_test[:,1])\n",
    "# print('Angle MSE, R2:',mean_squared_error(pred[:,1], Y_test[:,1]), r2_score(pred[:,1], Y_test[:,1])*100)\n",
    "\n",
    "ax1.legend()\n",
    "ax2.legend()\n",
    "plt.show()"
   ]
  },
  {
   "cell_type": "code",
   "execution_count": 20,
   "metadata": {},
   "outputs": [
    {
     "name": "stdout",
     "output_type": "stream",
     "text": [
      "NN test loss :(0.004490425, 0.021410456)%\n",
      "NN test R2 :(86.86034070429893, 58.92131030369854)%\n"
     ]
    },
    {
     "data": {
      "image/png": "[encoded data removed]",
      "text/plain": [
       "<Figure size 864x360 with 2 Axes>"
      ]
     },
     "metadata": {
      "needs_background": "light"
     },
     "output_type": "display_data"
    }
   ],
   "source": [
    "##### Train Exp, Tets GAN\n",
    "Xtrain = X_Exp\n",
    "Y_train = Y_Exp\n",
    "Xtest = X_GAN\n",
    "Y_test = Y_GAN\n",
    "pred = NN_twohidden(Xtrain, Y_train, Xtest, Y_test)\n",
    "fig = plt.figure(figsize=(12,5))\n",
    "# plt.subplots_adjust(wspace = 0.35)\n",
    "# fig, ax = plt.subplots(dpi = 120, nrows = 1, ncols = 3, figsize = (10,6))\n",
    "\n",
    "ax1 = fig.add_subplot(121)\n",
    "ax2 = fig.add_subplot(122)\n",
    "\n",
    "ax1.plot(pred[:, 0], Y_test[:,0], 'ob', label = 'Depth')\n",
    "ax1.plot(Y_test[:,0], Y_test[:,0])\n",
    "# print('Depth MSE, R2: ',mean_squared_error(pred[:, 0], Y_test[:,0]), r2_score(pred[:,0], Y_test[:,0])*100)\n",
    "\n",
    "ax2.plot(pred[:, 1], Y_test[:,1], 'ob', label= 'Angle')\n",
    "ax2.plot(Y_test[:,1], Y_test[:,1])\n",
    "# print('Angle MSE, R2:',mean_squared_error(pred[:,1], Y_test[:,1]), r2_score(pred[:,1], Y_test[:,1])*100)\n",
    "\n",
    "ax1.legend()\n",
    "ax2.legend()\n",
    "plt.show()"
   ]
  },
  {
   "cell_type": "code",
   "execution_count": 21,
   "metadata": {},
   "outputs": [
    {
     "name": "stdout",
     "output_type": "stream",
     "text": [
      "NN test loss :(0.020239859450392864, 0.08554498018893476)%\n",
      "NN test R2 :(68.53825319400242, 55.08537304920444)%\n"
     ]
    },
    {
     "data": {
      "image/png": "[encoded data removed]",
      "text/plain": [
       "<Figure size 864x360 with 2 Axes>"
      ]
     },
     "metadata": {
      "needs_background": "light"
     },
     "output_type": "display_data"
    }
   ],
   "source": [
    "##### Train GAN, Tets Test\n",
    "Xtrain = X_GAN\n",
    "Y_train = Y_GAN\n",
    "Xtest = X_Exp\n",
    "Y_test = Y_Exp\n",
    "\n",
    "pred = NN_twohidden(Xtrain, Y_train, Xtest, Y_test)\n",
    "fig = plt.figure(figsize=(12,5))\n",
    "# plt.subplots_adjust(wspace = 0.35)\n",
    "# fig, ax = plt.subplots(dpi = 120, nrows = 1, ncols = 3, figsize = (10,6))\n",
    "\n",
    "ax1 = fig.add_subplot(121)\n",
    "ax2 = fig.add_subplot(122)\n",
    "\n",
    "ax1.plot(pred[:, 0], Y_test[:,0], 'ob', label = 'Depth')\n",
    "ax1.plot(Y_test[:,0], Y_test[:,0])\n",
    "# print('Depth MSE, R2: ',mean_squared_error(pred[:, 0], Y_test[:,0]), r2_score(pred[:,0], Y_test[:,0])*100)\n",
    "\n",
    "ax2.plot(pred[:, 1], Y_test[:,1], 'ob', label= 'Angle')\n",
    "ax2.plot(Y_test[:,1], Y_test[:,1])\n",
    "# print('Angle MSE, R2:',mean_squared_error(pred[:,1], Y_test[:,1]), r2_score(pred[:,1], Y_test[:,1])*100)\n",
    "\n",
    "ax1.legend()\n",
    "ax2.legend()\n",
    "plt.show()"
   ]
  },
  {
   "cell_type": "code",
   "execution_count": 3,
   "metadata": {
    "id": "qo2Q5ISbaerq"
   },
   "outputs": [],
   "source": [
    "# def KerasNN(Xtrain, Y_train, Xtest, Y_test):\n",
    "#   input = Input(shape=(5,))\n",
    "#   hidden_layer_1 = Dense(128, activation='relu')(input)\n",
    "#   output = Dense(Y_train.shape[1])(hidden_layer_1)\n",
    "\n",
    "#   model = Model(inputs=input, outputs=output)\n",
    "#   model.compile(\n",
    "#       optimizer='adam',\n",
    "#       loss=['mean_squared_error']\n",
    "#       )\n",
    "#   history = model.fit(Xtrain, Y_train, epochs=500, batch_size=8, verbose=0)\n",
    "\n",
    "#   predict_9 = model.predict(Xtest)\n",
    "#   error = (mse(Y_test[:,0], predict_9[:,0])+\n",
    "#            mse(Y_test[:,1], predict_9[:,1]))/2 \n",
    "#   print(f'NN test loss :{error}%')\n",
    "#   Rsquare = (R2(Y_test[:,0], predict_9[:,0])+\n",
    "#              R2(Y_test[:,1], predict_9[:,1]))/2\n",
    "#   print(f'NN test R2 :{Rsquare}%')\n",
    "#   return predict_9"
   ]
  },
  {
   "cell_type": "code",
   "execution_count": 18,
   "metadata": {
    "colab": {
     "base_uri": "https://localhost:8080/"
    },
    "id": "RyvzMPqglLbm",
    "outputId": "1ffe328b-3942-4ae7-db22-e8aba60dcee2"
   },
   "outputs": [
    {
     "name": "stderr",
     "output_type": "stream",
     "text": [
      "2021-08-16 15:23:32.444582: I tensorflow/core/platform/cpu_feature_guard.cc:142] This TensorFlow binary is optimized with oneAPI Deep Neural Network Library (oneDNN) to use the following CPU instructions in performance-critical operations:  AVX2 FMA\n",
      "To enable them in other operations, rebuild TensorFlow with the appropriate compiler flags.\n",
      "2021-08-16 15:23:32.496014: I tensorflow/compiler/mlir/mlir_graph_optimization_pass.cc:185] None of the MLIR Optimization Passes are enabled (registered 2)\n"
     ]
    },
    {
     "name": "stdout",
     "output_type": "stream",
     "text": [
      "NN test loss :0.3375%\n",
      "NN test R2 :81.98745%\n"
     ]
    }
   ],
   "source": [
    "# NNpred = KerasNN(Xtrain, Y_train, Xtest, Y_test)\n",
    "\n"
   ]
  },
  {
   "cell_type": "code",
   "execution_count": 19,
   "metadata": {
    "colab": {
     "base_uri": "https://localhost:8080/",
     "height": 483
    },
    "id": "4jZ5FV4LuVeK",
    "outputId": "cd35449f-a1fe-410a-b239-dae808ff2b7b"
   },
   "outputs": [],
   "source": [
    "# fig = plt.figure(figsize=(18,8))\n",
    "# # plt.subplots_adjust(wspace = 0.5)\n",
    "# ax1 = fig.add_subplot(211)\n",
    "# ax2 = fig.add_subplot(212)\n",
    "\n",
    "# ax1.plot(Y_test[:50, 0], 'o-r', label = 'depth')\n",
    "# ax1.plot(NNpred[:50, 0], color='b', label = 'NN_pred')\n",
    "\n",
    "# ax2.plot(Y_test[:50, 1], 'o-r', label = 'angle')\n",
    "# ax2.plot(NNpred[:50, 1], color='b', label = 'NN_pred')\n",
    "\n",
    "# ax1.legend()\n",
    "# ax2.legend()\n",
    "\n",
    "# plt.show()"
   ]
  },
  {
   "cell_type": "code",
   "execution_count": 20,
   "metadata": {
    "id": "OU7tr2RWeS3P"
   },
   "outputs": [],
   "source": [
    "# model2 = Pipeline([\n",
    "#     ('poly', PolynomialFeatures(degree=2, include_bias=False)),\n",
    "#     ('linear_regression', LinearRegression())\n",
    "# ])"
   ]
  },
  {
   "cell_type": "code",
   "execution_count": 21,
   "metadata": {
    "id": "Rc2BtXbyj0WR"
   },
   "outputs": [],
   "source": [
    "# def PN(Xtrain, Y_train, Xtest, Y_test):\n",
    "#   PN_model = model2.fit(Xtrain, Y_train)\n",
    "#   PN_pred = PN_model.predict(Xtest)\n",
    "#   error = (mse(Y_test[:,0], PN_pred[:,0])+\n",
    "#        mse(Y_test[:,1], PN_pred[:,1]))/2 \n",
    "#   print(f'PN test loss :{error}%')\n",
    "#   Rsquare = (R2(Y_test[:,0], PN_pred[:,0])+\n",
    "#          R2(Y_test[:,1], PN_pred[:,1]))/2\n",
    "#   print(f'PN test R2 :{Rsquare}%')\n",
    "#   return PN_pred"
   ]
  },
  {
   "cell_type": "code",
   "execution_count": 22,
   "metadata": {
    "colab": {
     "base_uri": "https://localhost:8080/"
    },
    "id": "AFMTaTycomUX",
    "outputId": "bbccb85b-187b-4e25-fc24-e7e06b560981"
   },
   "outputs": [],
   "source": [
    "# PNpred = PN(Xtrain, Y_train, Xtest, Y_test)\n"
   ]
  },
  {
   "cell_type": "code",
   "execution_count": 23,
   "metadata": {
    "colab": {
     "base_uri": "https://localhost:8080/",
     "height": 483
    },
    "id": "-SCldbsHuX2w",
    "outputId": "dc33932c-0aac-4d63-c3f5-52b3fe93f247"
   },
   "outputs": [],
   "source": [
    "# fig = plt.figure(figsize=(18,8))\n",
    "# # plt.subplots_adjust(wspace = 0.5)\n",
    "# ax1 = fig.add_subplot(211)\n",
    "# ax2 = fig.add_subplot(212)\n",
    "\n",
    "# ax1.plot(Y_test[:50, 0], 'o-r', label = 'test depth')\n",
    "# ax1.plot(PNpred[:50, 0], color='b', label = 'PN_pred')\n",
    "\n",
    "# ax2.plot(Y_test[:50, 1], 'o-r', label = 'test angle')\n",
    "# ax2.plot(PNpred[:50, 1], color='b', label = 'PN_pred')\n",
    "\n",
    "# ax1.legend()\n",
    "# ax2.legend()\n",
    "\n",
    "# plt.show()"
   ]
  },
  {
   "cell_type": "markdown",
   "metadata": {
    "id": "ol0ePounxRTZ"
   },
   "source": [
    "## Training GAN, Test Exp"
   ]
  },
  {
   "cell_type": "code",
   "execution_count": 24,
   "metadata": {
    "id": "8gnFrhALhktC"
   },
   "outputs": [],
   "source": [
    "# \"\"\" training: GAN, test:Exp \"\"\"\n",
    "# df_scl = pd.DataFrame(df_norm, columns=df1.columns )\n",
    "\n",
    "# Xtest = df_scl.drop(['Depth','Angle'], axis = 'columns')\n",
    "# Y_test = np.c_[df_scl.Depth, df_scl.Angle]\n",
    "\n",
    "# ## -----------------\n",
    "# df = pd.DataFrame(generated_samples.numpy(), columns=df1.columns )\n",
    "\n",
    "# Xtrain = df.drop(['Depth','Angle'], axis = 'columns')\n",
    "\n",
    "# Y_train = np.c_[df.Depth, df.Angle]"
   ]
  },
  {
   "cell_type": "code",
   "execution_count": 25,
   "metadata": {
    "colab": {
     "base_uri": "https://localhost:8080/"
    },
    "id": "bMJXz0lTxDtA",
    "outputId": "9c7a1da1-d252-4a7f-97ef-c11e94793313"
   },
   "outputs": [],
   "source": [
    "# NNpred = KerasNN(Xtrain, Y_train, Xtest, Y_test)"
   ]
  },
  {
   "cell_type": "code",
   "execution_count": 26,
   "metadata": {
    "colab": {
     "base_uri": "https://localhost:8080/",
     "height": 483
    },
    "id": "WVX2RDtOxEcT",
    "outputId": "22ec23af-3d26-4990-fbf8-0ad00b27d664"
   },
   "outputs": [],
   "source": [
    "# fig = plt.figure(figsize=(18,8))\n",
    "# # plt.subplots_adjust(wspace = 0.5)\n",
    "# ax1 = fig.add_subplot(211)\n",
    "# ax2 = fig.add_subplot(212)\n",
    "\n",
    "# ax1.plot(Y_test[:50, 0], 'o-r', label = 'depth')\n",
    "# ax1.plot(NNpred[:50, 0], color='b')\n",
    "\n",
    "# ax2.plot(Y_test[:50, 1], 'o-r', label = 'angle')\n",
    "# ax2.plot(NNpred[:50, 1], color='b')\n",
    "\n",
    "# ax1.legend()\n",
    "# ax2.legend()\n",
    "\n",
    "# plt.show()"
   ]
  },
  {
   "cell_type": "code",
   "execution_count": 27,
   "metadata": {
    "colab": {
     "base_uri": "https://localhost:8080/"
    },
    "id": "ZsLupestxHFz",
    "outputId": "550867c6-d3ff-4448-bf28-3ee52cf38bfb"
   },
   "outputs": [],
   "source": [
    "# PNpred = PN(Xtrain, Y_train, Xtest, Y_test)"
   ]
  },
  {
   "cell_type": "code",
   "execution_count": 28,
   "metadata": {
    "colab": {
     "base_uri": "https://localhost:8080/",
     "height": 486
    },
    "id": "5LsRJrMNxKQ_",
    "outputId": "20d29e2a-39da-46f4-9526-3ed2adc69b76"
   },
   "outputs": [],
   "source": [
    "# fig = plt.figure(figsize=(18,8))\n",
    "# # plt.subplots_adjust(wspace = 0.5)\n",
    "# ax1 = fig.add_subplot(211)\n",
    "# ax2 = fig.add_subplot(212)\n",
    "\n",
    "# ax1.plot(Y_test[:50, 0], 'o-r', label = 'test depth')\n",
    "# ax1.plot(PNpred[:50, 0], color='b')\n",
    "\n",
    "# ax2.plot(Y_test[:50, 1], 'o-r', label = 'test angle')\n",
    "# ax2.plot(PNpred[:50, 1], color='b')\n",
    "\n",
    "# ax1.legend()\n",
    "# ax2.legend()\n",
    "\n",
    "# plt.show()"
   ]
  },
  {
   "cell_type": "code",
   "execution_count": 29,
   "metadata": {
    "id": "ksHV7SmYB1Bp"
   },
   "outputs": [
    {
     "data": {
      "text/html": [
       "<div>\n",
       "<style scoped>\n",
       "    .dataframe tbody tr th:only-of-type {\n",
       "        vertical-align: middle;\n",
       "    }\n",
       "\n",
       "    .dataframe tbody tr th {\n",
       "        vertical-align: top;\n",
       "    }\n",
       "\n",
       "    .dataframe thead th {\n",
       "        text-align: right;\n",
       "    }\n",
       "</style>\n",
       "<table border=\"1\" class=\"dataframe\">\n",
       "  <thead>\n",
       "    <tr style=\"text-align: right;\">\n",
       "      <th></th>\n",
       "      <th>Frequency</th>\n",
       "      <th>Speed</th>\n",
       "      <th>Amplitude</th>\n",
       "      <th>Passes</th>\n",
       "      <th>Focal_Position</th>\n",
       "      <th>Depth</th>\n",
       "      <th>Angle</th>\n",
       "    </tr>\n",
       "  </thead>\n",
       "  <tbody>\n",
       "    <tr>\n",
       "      <th>0</th>\n",
       "      <td>709.320007</td>\n",
       "      <td>20.139999</td>\n",
       "      <td>0.51</td>\n",
       "      <td>76.839996</td>\n",
       "      <td>93.199997</td>\n",
       "      <td>530.770020</td>\n",
       "      <td>51.110001</td>\n",
       "    </tr>\n",
       "    <tr>\n",
       "      <th>1</th>\n",
       "      <td>664.070007</td>\n",
       "      <td>16.230000</td>\n",
       "      <td>0.31</td>\n",
       "      <td>104.449997</td>\n",
       "      <td>93.849998</td>\n",
       "      <td>599.349976</td>\n",
       "      <td>30.850000</td>\n",
       "    </tr>\n",
       "    <tr>\n",
       "      <th>2</th>\n",
       "      <td>188.610001</td>\n",
       "      <td>4.670000</td>\n",
       "      <td>0.73</td>\n",
       "      <td>48.590000</td>\n",
       "      <td>93.199997</td>\n",
       "      <td>883.630005</td>\n",
       "      <td>35.570000</td>\n",
       "    </tr>\n",
       "    <tr>\n",
       "      <th>3</th>\n",
       "      <td>780.099976</td>\n",
       "      <td>18.980000</td>\n",
       "      <td>0.58</td>\n",
       "      <td>112.480003</td>\n",
       "      <td>93.199997</td>\n",
       "      <td>719.500000</td>\n",
       "      <td>41.150002</td>\n",
       "    </tr>\n",
       "    <tr>\n",
       "      <th>4</th>\n",
       "      <td>986.280029</td>\n",
       "      <td>12.370000</td>\n",
       "      <td>0.51</td>\n",
       "      <td>78.400002</td>\n",
       "      <td>93.199997</td>\n",
       "      <td>561.960022</td>\n",
       "      <td>46.340000</td>\n",
       "    </tr>\n",
       "    <tr>\n",
       "      <th>...</th>\n",
       "      <td>...</td>\n",
       "      <td>...</td>\n",
       "      <td>...</td>\n",
       "      <td>...</td>\n",
       "      <td>...</td>\n",
       "      <td>...</td>\n",
       "      <td>...</td>\n",
       "    </tr>\n",
       "    <tr>\n",
       "      <th>4995</th>\n",
       "      <td>304.269989</td>\n",
       "      <td>7.560000</td>\n",
       "      <td>1.66</td>\n",
       "      <td>20.690001</td>\n",
       "      <td>94.650002</td>\n",
       "      <td>242.949997</td>\n",
       "      <td>62.639999</td>\n",
       "    </tr>\n",
       "    <tr>\n",
       "      <th>4996</th>\n",
       "      <td>658.590027</td>\n",
       "      <td>11.400000</td>\n",
       "      <td>0.52</td>\n",
       "      <td>76.760002</td>\n",
       "      <td>93.199997</td>\n",
       "      <td>581.559998</td>\n",
       "      <td>48.400002</td>\n",
       "    </tr>\n",
       "    <tr>\n",
       "      <th>4997</th>\n",
       "      <td>476.750000</td>\n",
       "      <td>11.990000</td>\n",
       "      <td>0.95</td>\n",
       "      <td>19.059999</td>\n",
       "      <td>93.209999</td>\n",
       "      <td>474.470001</td>\n",
       "      <td>57.380001</td>\n",
       "    </tr>\n",
       "    <tr>\n",
       "      <th>4998</th>\n",
       "      <td>519.440002</td>\n",
       "      <td>14.800000</td>\n",
       "      <td>0.41</td>\n",
       "      <td>39.000000</td>\n",
       "      <td>94.440002</td>\n",
       "      <td>456.220001</td>\n",
       "      <td>53.860001</td>\n",
       "    </tr>\n",
       "    <tr>\n",
       "      <th>4999</th>\n",
       "      <td>923.210022</td>\n",
       "      <td>5.700000</td>\n",
       "      <td>0.48</td>\n",
       "      <td>37.150002</td>\n",
       "      <td>93.790001</td>\n",
       "      <td>765.609985</td>\n",
       "      <td>20.959999</td>\n",
       "    </tr>\n",
       "  </tbody>\n",
       "</table>\n",
       "<p>5000 rows × 7 columns</p>\n",
       "</div>"
      ],
      "text/plain": [
       "       Frequency      Speed  Amplitude      Passes  Focal_Position  \\\n",
       "0     709.320007  20.139999       0.51   76.839996       93.199997   \n",
       "1     664.070007  16.230000       0.31  104.449997       93.849998   \n",
       "2     188.610001   4.670000       0.73   48.590000       93.199997   \n",
       "3     780.099976  18.980000       0.58  112.480003       93.199997   \n",
       "4     986.280029  12.370000       0.51   78.400002       93.199997   \n",
       "...          ...        ...        ...         ...             ...   \n",
       "4995  304.269989   7.560000       1.66   20.690001       94.650002   \n",
       "4996  658.590027  11.400000       0.52   76.760002       93.199997   \n",
       "4997  476.750000  11.990000       0.95   19.059999       93.209999   \n",
       "4998  519.440002  14.800000       0.41   39.000000       94.440002   \n",
       "4999  923.210022   5.700000       0.48   37.150002       93.790001   \n",
       "\n",
       "           Depth      Angle  \n",
       "0     530.770020  51.110001  \n",
       "1     599.349976  30.850000  \n",
       "2     883.630005  35.570000  \n",
       "3     719.500000  41.150002  \n",
       "4     561.960022  46.340000  \n",
       "...          ...        ...  \n",
       "4995  242.949997  62.639999  \n",
       "4996  581.559998  48.400002  \n",
       "4997  474.470001  57.380001  \n",
       "4998  456.220001  53.860001  \n",
       "4999  765.609985  20.959999  \n",
       "\n",
       "[5000 rows x 7 columns]"
      ]
     },
     "execution_count": 29,
     "metadata": {},
     "output_type": "execute_result"
    }
   ],
   "source": [
    "\"\"\"Saving generated data in .csv file\n",
    "We save the GAN data as well as their rescaled to original values \"\"\"\n",
    "\n",
    "# df.to_csv(r'RawData/GAN_02.csv', header=True, index = False)\n",
    "\n",
    "### --------- At first we need to scale the Exp data used for GAN \n",
    "normalizer = MinMaxScaler()\n",
    "df_norm = normalizer.fit_transform(combined_Exp)\n",
    "\n",
    "unscl_Target1 = normalizer.inverse_transform(df)\n",
    "unscl_target_df1 = pd.DataFrame(unscl_Target1.round(2), columns=df.columns )\n",
    "\n",
    "# unscl_target_df1.to_csv(r'RawData/rscl_GAN_02.csv', header=True, index = False)\n",
    "unscl_target_df1"
   ]
  },
  {
   "cell_type": "code",
   "execution_count": 30,
   "metadata": {},
   "outputs": [
    {
     "data": {
      "text/html": [
       "<div>\n",
       "<style scoped>\n",
       "    .dataframe tbody tr th:only-of-type {\n",
       "        vertical-align: middle;\n",
       "    }\n",
       "\n",
       "    .dataframe tbody tr th {\n",
       "        vertical-align: top;\n",
       "    }\n",
       "\n",
       "    .dataframe thead th {\n",
       "        text-align: right;\n",
       "    }\n",
       "</style>\n",
       "<table border=\"1\" class=\"dataframe\">\n",
       "  <thead>\n",
       "    <tr style=\"text-align: right;\">\n",
       "      <th></th>\n",
       "      <th>Frequency</th>\n",
       "      <th>Speed</th>\n",
       "      <th>Amplitude</th>\n",
       "      <th>Passes</th>\n",
       "      <th>Focal_Position</th>\n",
       "      <th>Depth</th>\n",
       "      <th>Angle</th>\n",
       "    </tr>\n",
       "  </thead>\n",
       "  <tbody>\n",
       "    <tr>\n",
       "      <th>0</th>\n",
       "      <td>709.320007</td>\n",
       "      <td>20.139999</td>\n",
       "      <td>0.51</td>\n",
       "      <td>76.839996</td>\n",
       "      <td>93.199997</td>\n",
       "      <td>610.409973</td>\n",
       "      <td>45.869999</td>\n",
       "    </tr>\n",
       "    <tr>\n",
       "      <th>1</th>\n",
       "      <td>664.070007</td>\n",
       "      <td>16.230000</td>\n",
       "      <td>0.31</td>\n",
       "      <td>104.449997</td>\n",
       "      <td>93.849998</td>\n",
       "      <td>564.469971</td>\n",
       "      <td>32.490002</td>\n",
       "    </tr>\n",
       "    <tr>\n",
       "      <th>2</th>\n",
       "      <td>188.610001</td>\n",
       "      <td>4.670000</td>\n",
       "      <td>0.73</td>\n",
       "      <td>48.590000</td>\n",
       "      <td>93.199997</td>\n",
       "      <td>1063.300049</td>\n",
       "      <td>34.279999</td>\n",
       "    </tr>\n",
       "    <tr>\n",
       "      <th>3</th>\n",
       "      <td>780.099976</td>\n",
       "      <td>18.980000</td>\n",
       "      <td>0.58</td>\n",
       "      <td>112.480003</td>\n",
       "      <td>93.199997</td>\n",
       "      <td>754.919983</td>\n",
       "      <td>41.560001</td>\n",
       "    </tr>\n",
       "    <tr>\n",
       "      <th>4</th>\n",
       "      <td>986.280029</td>\n",
       "      <td>12.370000</td>\n",
       "      <td>0.51</td>\n",
       "      <td>78.400002</td>\n",
       "      <td>93.199997</td>\n",
       "      <td>601.419983</td>\n",
       "      <td>48.200001</td>\n",
       "    </tr>\n",
       "    <tr>\n",
       "      <th>...</th>\n",
       "      <td>...</td>\n",
       "      <td>...</td>\n",
       "      <td>...</td>\n",
       "      <td>...</td>\n",
       "      <td>...</td>\n",
       "      <td>...</td>\n",
       "      <td>...</td>\n",
       "    </tr>\n",
       "    <tr>\n",
       "      <th>4995</th>\n",
       "      <td>304.269989</td>\n",
       "      <td>7.560000</td>\n",
       "      <td>1.66</td>\n",
       "      <td>20.690001</td>\n",
       "      <td>94.650002</td>\n",
       "      <td>378.040009</td>\n",
       "      <td>66.199997</td>\n",
       "    </tr>\n",
       "    <tr>\n",
       "      <th>4996</th>\n",
       "      <td>658.590027</td>\n",
       "      <td>11.400000</td>\n",
       "      <td>0.52</td>\n",
       "      <td>76.760002</td>\n",
       "      <td>93.199997</td>\n",
       "      <td>617.109985</td>\n",
       "      <td>49.770000</td>\n",
       "    </tr>\n",
       "    <tr>\n",
       "      <th>4997</th>\n",
       "      <td>476.750000</td>\n",
       "      <td>11.990000</td>\n",
       "      <td>0.95</td>\n",
       "      <td>19.059999</td>\n",
       "      <td>93.209999</td>\n",
       "      <td>408.299988</td>\n",
       "      <td>57.669998</td>\n",
       "    </tr>\n",
       "    <tr>\n",
       "      <th>4998</th>\n",
       "      <td>519.440002</td>\n",
       "      <td>14.800000</td>\n",
       "      <td>0.41</td>\n",
       "      <td>39.000000</td>\n",
       "      <td>94.440002</td>\n",
       "      <td>537.150024</td>\n",
       "      <td>48.939999</td>\n",
       "    </tr>\n",
       "    <tr>\n",
       "      <th>4999</th>\n",
       "      <td>923.210022</td>\n",
       "      <td>5.700000</td>\n",
       "      <td>0.48</td>\n",
       "      <td>37.150002</td>\n",
       "      <td>93.790001</td>\n",
       "      <td>667.219971</td>\n",
       "      <td>23.250000</td>\n",
       "    </tr>\n",
       "  </tbody>\n",
       "</table>\n",
       "<p>5000 rows × 7 columns</p>\n",
       "</div>"
      ],
      "text/plain": [
       "       Frequency      Speed  Amplitude      Passes  Focal_Position  \\\n",
       "0     709.320007  20.139999       0.51   76.839996       93.199997   \n",
       "1     664.070007  16.230000       0.31  104.449997       93.849998   \n",
       "2     188.610001   4.670000       0.73   48.590000       93.199997   \n",
       "3     780.099976  18.980000       0.58  112.480003       93.199997   \n",
       "4     986.280029  12.370000       0.51   78.400002       93.199997   \n",
       "...          ...        ...        ...         ...             ...   \n",
       "4995  304.269989   7.560000       1.66   20.690001       94.650002   \n",
       "4996  658.590027  11.400000       0.52   76.760002       93.199997   \n",
       "4997  476.750000  11.990000       0.95   19.059999       93.209999   \n",
       "4998  519.440002  14.800000       0.41   39.000000       94.440002   \n",
       "4999  923.210022   5.700000       0.48   37.150002       93.790001   \n",
       "\n",
       "            Depth      Angle  \n",
       "0      610.409973  45.869999  \n",
       "1      564.469971  32.490002  \n",
       "2     1063.300049  34.279999  \n",
       "3      754.919983  41.560001  \n",
       "4      601.419983  48.200001  \n",
       "...           ...        ...  \n",
       "4995   378.040009  66.199997  \n",
       "4996   617.109985  49.770000  \n",
       "4997   408.299988  57.669998  \n",
       "4998   537.150024  48.939999  \n",
       "4999   667.219971  23.250000  \n",
       "\n",
       "[5000 rows x 7 columns]"
      ]
     },
     "execution_count": 30,
     "metadata": {},
     "output_type": "execute_result"
    }
   ],
   "source": [
    "GAN_NNpred = np.c_[Xtest,NNpred]\n",
    "\n",
    "# ### --------- At first we need to scale the Exp data used for GAN \n",
    "normalizer = MinMaxScaler()\n",
    "df_norm = normalizer.fit_transform(combined_Exp)\n",
    "\n",
    "unscl_Target2 = normalizer.inverse_transform(GAN_NNpred)\n",
    "unscl_target_df2 = pd.DataFrame(unscl_Target2.round(2), columns=df.columns )\n",
    "\n",
    "unscl_target_df2\n",
    "\n",
    "# unscl_target_df2.to_csv(r'RawData/rscl_NNPred_GAN02.csv', header=True, index = False)"
   ]
  },
  {
   "cell_type": "code",
   "execution_count": 31,
   "metadata": {
    "id": "5sUYMCPJBQ7m"
   },
   "outputs": [],
   "source": [
    "# \"\"\"If we use the first Exp data set\"\"\"\n",
    "# df.to_csv(r'RawData/GAN_01.csv', header=True, index = False)\n",
    "\n",
    "# ### --------- At first we need to scale the Exp data used for GAN \n",
    "# normalizer = MinMaxScaler()\n",
    "# df_norm = normalizer.fit_transform(df1)\n",
    "\n",
    "# unscl_Target = normalizer.inverse_transform(df)\n",
    "# unscl_target_df = pd.DataFrame(unscl_Target, columns=df.columns )\n",
    "\n",
    "# unscl_target_df.to_csv(r'RawData/rscl_GAN_01.csv', header=True, index = False)"
   ]
  },
  {
   "cell_type": "code",
   "execution_count": 4,
   "metadata": {},
   "outputs": [
    {
     "name": "stdout",
     "output_type": "stream",
     "text": [
      "(235, 7)\n"
     ]
    },
    {
     "name": "stderr",
     "output_type": "stream",
     "text": [
      "2021-08-16 16:02:01.386254: I tensorflow/core/platform/cpu_feature_guard.cc:142] This TensorFlow binary is optimized with oneAPI Deep Neural Network Library (oneDNN) to use the following CPU instructions in performance-critical operations:  AVX2 FMA\n",
      "To enable them in other operations, rebuild TensorFlow with the appropriate compiler flags.\n",
      "2021-08-16 16:02:01.439247: I tensorflow/compiler/mlir/mlir_graph_optimization_pass.cc:185] None of the MLIR Optimization Passes are enabled (registered 2)\n"
     ]
    },
    {
     "name": "stdout",
     "output_type": "stream",
     "text": [
      "NN test loss :0.37825%\n",
      "NN test R2 :78.9345%\n"
     ]
    }
   ],
   "source": [
    "##------- reading data from file for training, first Exp set\n",
    "df1 = pd.read_excel('RawData/Machine Learning Data_01.xlsx')\n",
    "\n",
    "df1.dropna(how='any', axis=1, inplace = True)\n",
    "\n",
    "############------- combining both Exp sets\n",
    "df2 = pd.read_csv('RawData/Exp_Set2_02.csv')\n",
    "\n",
    "combined_Exp = pd.concat([df1, df2], axis = 0, ignore_index = True)\n",
    "\n",
    "# combined_Exp = shuffle(combined_Exp, random_state=20210614)\n",
    "print(combined_Exp.shape)\n",
    "\n",
    "###------- normalizing data \n",
    "normalizer = MinMaxScaler()\n",
    "df_norm = normalizer.fit_transform(combined_Exp)\n",
    "df_scl = pd.DataFrame(df_norm, columns=df1.columns )\n",
    "Xtrain = df_scl.drop(['Depth', 'Angle'], axis = 'columns')\n",
    "Y_train = np.c_[df_scl.Depth, df_scl.Angle]\n",
    "\n",
    "###############\n",
    "\n",
    "GAN = pd.read_csv(r'RawData/GAN_02_old.csv')\n",
    "Xtest = GAN.drop(['Depth', 'Angle'], axis = 'columns')\n",
    "Y_test = np.c_[GAN.Depth, GAN.Angle]\n",
    "\n",
    "NNpred = KerasNN(Xtrain, Y_train, Xtest, Y_test)\n",
    "GAN_NNpred = np.c_[Xtest, NNpred]"
   ]
  },
  {
   "cell_type": "code",
   "execution_count": 5,
   "metadata": {},
   "outputs": [
    {
     "data": {
      "text/html": [
       "<div>\n",
       "<style scoped>\n",
       "    .dataframe tbody tr th:only-of-type {\n",
       "        vertical-align: middle;\n",
       "    }\n",
       "\n",
       "    .dataframe tbody tr th {\n",
       "        vertical-align: top;\n",
       "    }\n",
       "\n",
       "    .dataframe thead th {\n",
       "        text-align: right;\n",
       "    }\n",
       "</style>\n",
       "<table border=\"1\" class=\"dataframe\">\n",
       "  <thead>\n",
       "    <tr style=\"text-align: right;\">\n",
       "      <th></th>\n",
       "      <th>Frequency</th>\n",
       "      <th>Speed</th>\n",
       "      <th>Amplitude</th>\n",
       "      <th>Passes</th>\n",
       "      <th>Focal_Position</th>\n",
       "      <th>Depth</th>\n",
       "      <th>Angle</th>\n",
       "    </tr>\n",
       "  </thead>\n",
       "  <tbody>\n",
       "    <tr>\n",
       "      <th>0</th>\n",
       "      <td>623.87</td>\n",
       "      <td>17.19</td>\n",
       "      <td>0.52</td>\n",
       "      <td>83.84</td>\n",
       "      <td>93.20</td>\n",
       "      <td>593.23</td>\n",
       "      <td>46.51</td>\n",
       "    </tr>\n",
       "    <tr>\n",
       "      <th>1</th>\n",
       "      <td>781.66</td>\n",
       "      <td>20.40</td>\n",
       "      <td>0.57</td>\n",
       "      <td>41.97</td>\n",
       "      <td>93.74</td>\n",
       "      <td>685.47</td>\n",
       "      <td>35.61</td>\n",
       "    </tr>\n",
       "    <tr>\n",
       "      <th>2</th>\n",
       "      <td>602.61</td>\n",
       "      <td>15.80</td>\n",
       "      <td>0.65</td>\n",
       "      <td>49.04</td>\n",
       "      <td>93.20</td>\n",
       "      <td>660.14</td>\n",
       "      <td>49.22</td>\n",
       "    </tr>\n",
       "    <tr>\n",
       "      <th>3</th>\n",
       "      <td>726.26</td>\n",
       "      <td>18.07</td>\n",
       "      <td>0.57</td>\n",
       "      <td>55.82</td>\n",
       "      <td>93.86</td>\n",
       "      <td>684.28</td>\n",
       "      <td>40.34</td>\n",
       "    </tr>\n",
       "    <tr>\n",
       "      <th>4</th>\n",
       "      <td>273.51</td>\n",
       "      <td>7.27</td>\n",
       "      <td>0.68</td>\n",
       "      <td>21.84</td>\n",
       "      <td>93.20</td>\n",
       "      <td>654.78</td>\n",
       "      <td>42.29</td>\n",
       "    </tr>\n",
       "    <tr>\n",
       "      <th>...</th>\n",
       "      <td>...</td>\n",
       "      <td>...</td>\n",
       "      <td>...</td>\n",
       "      <td>...</td>\n",
       "      <td>...</td>\n",
       "      <td>...</td>\n",
       "      <td>...</td>\n",
       "    </tr>\n",
       "    <tr>\n",
       "      <th>4995</th>\n",
       "      <td>665.19</td>\n",
       "      <td>19.23</td>\n",
       "      <td>0.59</td>\n",
       "      <td>86.51</td>\n",
       "      <td>93.20</td>\n",
       "      <td>664.30</td>\n",
       "      <td>45.24</td>\n",
       "    </tr>\n",
       "    <tr>\n",
       "      <th>4996</th>\n",
       "      <td>875.69</td>\n",
       "      <td>22.42</td>\n",
       "      <td>0.44</td>\n",
       "      <td>115.09</td>\n",
       "      <td>93.93</td>\n",
       "      <td>538.75</td>\n",
       "      <td>44.86</td>\n",
       "    </tr>\n",
       "    <tr>\n",
       "      <th>4997</th>\n",
       "      <td>1351.47</td>\n",
       "      <td>31.19</td>\n",
       "      <td>0.54</td>\n",
       "      <td>79.86</td>\n",
       "      <td>93.20</td>\n",
       "      <td>498.28</td>\n",
       "      <td>56.85</td>\n",
       "    </tr>\n",
       "    <tr>\n",
       "      <th>4998</th>\n",
       "      <td>741.06</td>\n",
       "      <td>18.87</td>\n",
       "      <td>0.44</td>\n",
       "      <td>23.42</td>\n",
       "      <td>93.92</td>\n",
       "      <td>480.04</td>\n",
       "      <td>50.08</td>\n",
       "    </tr>\n",
       "    <tr>\n",
       "      <th>4999</th>\n",
       "      <td>999.88</td>\n",
       "      <td>15.63</td>\n",
       "      <td>0.49</td>\n",
       "      <td>62.19</td>\n",
       "      <td>93.90</td>\n",
       "      <td>618.27</td>\n",
       "      <td>27.98</td>\n",
       "    </tr>\n",
       "  </tbody>\n",
       "</table>\n",
       "<p>5000 rows × 7 columns</p>\n",
       "</div>"
      ],
      "text/plain": [
       "      Frequency  Speed  Amplitude  Passes  Focal_Position   Depth  Angle\n",
       "0        623.87  17.19       0.52   83.84           93.20  593.23  46.51\n",
       "1        781.66  20.40       0.57   41.97           93.74  685.47  35.61\n",
       "2        602.61  15.80       0.65   49.04           93.20  660.14  49.22\n",
       "3        726.26  18.07       0.57   55.82           93.86  684.28  40.34\n",
       "4        273.51   7.27       0.68   21.84           93.20  654.78  42.29\n",
       "...         ...    ...        ...     ...             ...     ...    ...\n",
       "4995     665.19  19.23       0.59   86.51           93.20  664.30  45.24\n",
       "4996     875.69  22.42       0.44  115.09           93.93  538.75  44.86\n",
       "4997    1351.47  31.19       0.54   79.86           93.20  498.28  56.85\n",
       "4998     741.06  18.87       0.44   23.42           93.92  480.04  50.08\n",
       "4999     999.88  15.63       0.49   62.19           93.90  618.27  27.98\n",
       "\n",
       "[5000 rows x 7 columns]"
      ]
     },
     "execution_count": 5,
     "metadata": {},
     "output_type": "execute_result"
    }
   ],
   "source": [
    "\n",
    "################\n",
    "normalizer = MinMaxScaler()\n",
    "df_norm = normalizer.fit_transform(combined_Exp)\n",
    "\n",
    "unscl_Target2 = normalizer.inverse_transform(GAN_NNpred)\n",
    "unscl_target_df2 = pd.DataFrame(unscl_Target2.round(2), columns=df1.columns )\n",
    "unscl_target_df2.to_csv(r'RawData/rscl_GAN_02_Aug16.csv', header=True, index = False)\n",
    "unscl_target_df2"
   ]
  },
  {
   "cell_type": "code",
   "execution_count": 6,
   "metadata": {},
   "outputs": [
    {
     "data": {
      "text/html": [
       "<div>\n",
       "<style scoped>\n",
       "    .dataframe tbody tr th:only-of-type {\n",
       "        vertical-align: middle;\n",
       "    }\n",
       "\n",
       "    .dataframe tbody tr th {\n",
       "        vertical-align: top;\n",
       "    }\n",
       "\n",
       "    .dataframe thead th {\n",
       "        text-align: right;\n",
       "    }\n",
       "</style>\n",
       "<table border=\"1\" class=\"dataframe\">\n",
       "  <thead>\n",
       "    <tr style=\"text-align: right;\">\n",
       "      <th></th>\n",
       "      <th>Frequency</th>\n",
       "      <th>Speed</th>\n",
       "      <th>Amplitude</th>\n",
       "      <th>Passes</th>\n",
       "      <th>Focal_Position</th>\n",
       "      <th>Depth</th>\n",
       "      <th>Angle</th>\n",
       "    </tr>\n",
       "  </thead>\n",
       "  <tbody>\n",
       "    <tr>\n",
       "      <th>0</th>\n",
       "      <td>623.87</td>\n",
       "      <td>17.19</td>\n",
       "      <td>0.52</td>\n",
       "      <td>83.84</td>\n",
       "      <td>93.20</td>\n",
       "      <td>566.92</td>\n",
       "      <td>49.27</td>\n",
       "    </tr>\n",
       "    <tr>\n",
       "      <th>1</th>\n",
       "      <td>781.66</td>\n",
       "      <td>20.40</td>\n",
       "      <td>0.57</td>\n",
       "      <td>41.97</td>\n",
       "      <td>93.74</td>\n",
       "      <td>540.79</td>\n",
       "      <td>41.39</td>\n",
       "    </tr>\n",
       "    <tr>\n",
       "      <th>2</th>\n",
       "      <td>602.61</td>\n",
       "      <td>15.80</td>\n",
       "      <td>0.65</td>\n",
       "      <td>49.04</td>\n",
       "      <td>93.20</td>\n",
       "      <td>752.39</td>\n",
       "      <td>42.84</td>\n",
       "    </tr>\n",
       "    <tr>\n",
       "      <th>3</th>\n",
       "      <td>726.26</td>\n",
       "      <td>18.07</td>\n",
       "      <td>0.57</td>\n",
       "      <td>55.82</td>\n",
       "      <td>93.86</td>\n",
       "      <td>695.86</td>\n",
       "      <td>28.20</td>\n",
       "    </tr>\n",
       "    <tr>\n",
       "      <th>4</th>\n",
       "      <td>273.51</td>\n",
       "      <td>7.27</td>\n",
       "      <td>0.68</td>\n",
       "      <td>21.84</td>\n",
       "      <td>93.20</td>\n",
       "      <td>666.62</td>\n",
       "      <td>39.40</td>\n",
       "    </tr>\n",
       "    <tr>\n",
       "      <th>...</th>\n",
       "      <td>...</td>\n",
       "      <td>...</td>\n",
       "      <td>...</td>\n",
       "      <td>...</td>\n",
       "      <td>...</td>\n",
       "      <td>...</td>\n",
       "      <td>...</td>\n",
       "    </tr>\n",
       "    <tr>\n",
       "      <th>4995</th>\n",
       "      <td>665.19</td>\n",
       "      <td>19.23</td>\n",
       "      <td>0.59</td>\n",
       "      <td>86.51</td>\n",
       "      <td>93.20</td>\n",
       "      <td>813.16</td>\n",
       "      <td>41.99</td>\n",
       "    </tr>\n",
       "    <tr>\n",
       "      <th>4996</th>\n",
       "      <td>875.69</td>\n",
       "      <td>22.42</td>\n",
       "      <td>0.44</td>\n",
       "      <td>115.09</td>\n",
       "      <td>93.93</td>\n",
       "      <td>598.72</td>\n",
       "      <td>41.77</td>\n",
       "    </tr>\n",
       "    <tr>\n",
       "      <th>4997</th>\n",
       "      <td>1351.47</td>\n",
       "      <td>31.19</td>\n",
       "      <td>0.54</td>\n",
       "      <td>79.86</td>\n",
       "      <td>93.20</td>\n",
       "      <td>491.82</td>\n",
       "      <td>52.35</td>\n",
       "    </tr>\n",
       "    <tr>\n",
       "      <th>4998</th>\n",
       "      <td>741.06</td>\n",
       "      <td>18.87</td>\n",
       "      <td>0.44</td>\n",
       "      <td>23.42</td>\n",
       "      <td>93.92</td>\n",
       "      <td>461.89</td>\n",
       "      <td>42.41</td>\n",
       "    </tr>\n",
       "    <tr>\n",
       "      <th>4999</th>\n",
       "      <td>999.88</td>\n",
       "      <td>15.63</td>\n",
       "      <td>0.49</td>\n",
       "      <td>62.19</td>\n",
       "      <td>93.90</td>\n",
       "      <td>683.05</td>\n",
       "      <td>41.11</td>\n",
       "    </tr>\n",
       "  </tbody>\n",
       "</table>\n",
       "<p>5000 rows × 7 columns</p>\n",
       "</div>"
      ],
      "text/plain": [
       "      Frequency  Speed  Amplitude  Passes  Focal_Position   Depth  Angle\n",
       "0        623.87  17.19       0.52   83.84           93.20  566.92  49.27\n",
       "1        781.66  20.40       0.57   41.97           93.74  540.79  41.39\n",
       "2        602.61  15.80       0.65   49.04           93.20  752.39  42.84\n",
       "3        726.26  18.07       0.57   55.82           93.86  695.86  28.20\n",
       "4        273.51   7.27       0.68   21.84           93.20  666.62  39.40\n",
       "...         ...    ...        ...     ...             ...     ...    ...\n",
       "4995     665.19  19.23       0.59   86.51           93.20  813.16  41.99\n",
       "4996     875.69  22.42       0.44  115.09           93.93  598.72  41.77\n",
       "4997    1351.47  31.19       0.54   79.86           93.20  491.82  52.35\n",
       "4998     741.06  18.87       0.44   23.42           93.92  461.89  42.41\n",
       "4999     999.88  15.63       0.49   62.19           93.90  683.05  41.11\n",
       "\n",
       "[5000 rows x 7 columns]"
      ]
     },
     "execution_count": 6,
     "metadata": {},
     "output_type": "execute_result"
    }
   ],
   "source": [
    "\"\"\"Unscaling\"\"\"\n",
    "###############\n",
    "normalizer = MinMaxScaler()\n",
    "df_norm = normalizer.fit_transform(combined_Exp)\n",
    "\n",
    "unscl_Target1 = normalizer.inverse_transform(GAN)\n",
    "unscl_target_df1 = pd.DataFrame(unscl_Target1.round(2), columns=df1.columns )\n",
    "unscl_target_df1.to_csv(r'RawData/rscl_PredGAN_02_Aug16.csv', header=True, index = False)\n",
    "unscl_target_df1\n",
    "\n",
    "\n"
   ]
  },
  {
   "cell_type": "code",
   "execution_count": null,
   "metadata": {},
   "outputs": [],
   "source": []
  }
 ],
 "metadata": {
  "accelerator": "GPU",
  "colab": {
   "collapsed_sections": [],
   "name": "GAN_LaserData (2).ipynb",
   "provenance": []
  },
  "kernelspec": {
   "display_name": "Python 3 (ipykernel)",
   "language": "python",
   "name": "python3"
  },
  "language_info": {
   "codemirror_mode": {
    "name": "ipython",
    "version": 3
   },
   "file_extension": ".py",
   "mimetype": "text/x-python",
   "name": "python",
   "nbconvert_exporter": "python",
   "pygments_lexer": "ipython3",
   "version": "3.8.2"
  }
 },
 "nbformat": 4,
 "nbformat_minor": 1
}
