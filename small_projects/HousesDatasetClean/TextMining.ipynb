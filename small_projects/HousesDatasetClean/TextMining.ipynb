{
 "cells": [
  {
   "cell_type": "markdown",
   "id": "2b2413cd",
   "metadata": {},
   "source": [
    "# Text Mining using Dimensionality Reduction Methods\n",
    "\n",
    "\n",
    "This dataset comes from the website [Internet Movie Database](https://www.imdb.com/), and represents 1,000 reviews which were labeled (by humans) as positive or negative, see [here](http://ai.stanford.edu/~amaas/data/sentiment/) for more details. In this coursework, we will study how we can use dimensionality reduction methods to improve our understanding of text data and to predict the sentiment of a set of texts. This application of data science is called [sentiment analysis](https://en.wikipedia.org/wiki/Sentiment_analysis) and it is widely used across many fields to get automated feedback when text opinions are expressed. While most modern methods of sentiment analysis are using complex deep learning methods, the tools we have seen this week can be readily applied to get a good idea of what our users are expressing."
   ]
  },
  {
   "cell_type": "code",
   "execution_count": 344,
   "id": "a0346095",
   "metadata": {},
   "outputs": [],
   "source": [
    "# Import other packages if you need them!\n",
    "import numpy as np\n",
    "import pandas as pd\n",
    "import torch\n",
    "import torch.nn as nn\n",
    "import torch.nn.functional as F\n",
    "import sklearn.feature_extraction.text as sktext\n",
    "from sklearn.decomposition import PCA\n",
    "from sklearn.linear_model import LogisticRegressionCV, LogisticRegression\n",
    "from sklearn.model_selection import train_test_split\n",
    "from sklearn.metrics import roc_curve, roc_auc_score, auc\n",
    "\n",
    "\n",
    "# Plotting\n",
    "import matplotlib.pyplot as plt \n",
    "import seaborn as sns\n",
    "from mpl_toolkits.mplot3d import Axes3D\n",
    "%matplotlib inline"
   ]
  },
  {
   "cell_type": "markdown",
   "id": "859cb12a",
   "metadata": {},
   "source": [
    "## Data import\n",
    "\n",
    "The dataset comes with the text and a binary variable which represents the sentiment, either positive or negative. The following code imports the data, splits it into train and test, and applies the [Tf-Idf transform](https://scikit-learn.org/stable/modules/generated/sklearn.feature_extraction.text.TfidfTransformer.html) (see the lectures, slide 34)."
   ]
  },
  {
   "cell_type": "code",
   "execution_count": 174,
   "id": "fbc2e81f",
   "metadata": {},
   "outputs": [
    {
     "name": "stdout",
     "output_type": "stream",
     "text": [
      "Rating \"10/10\" Master pieceSome years ago, i heard Spielberg comment that he would redo the movie here and there if he had a chance. Well, Mr Spielberg, i guess nothing is perfect, but this movie - together with schindler's List - is your best. Even Oprah acts well in this one !What got me most is the realism of the story and drama. Stuff like this happened and is still happening in the world.'\n",
      "\n",
      "\n",
      "  (0, 234)\t0.2995571399523656\n",
      "  (0, 228)\t0.31845387467961445\n",
      "  (0, 51)\t0.3969415589322562\n",
      "  (0, 111)\t0.1939070474462102\n",
      "  (0, 0)\t0.5576500961578521\n",
      "  (0, 83)\t0.3243705784118214\n",
      "  (0, 134)\t0.2689214200650097\n",
      "  (0, 192)\t0.21692010935334918\n",
      "  (0, 18)\t0.2795123243302363\n",
      "\n",
      "\n",
      "[0.         0.         0.         0.         0.         0.\n",
      " 0.         0.         0.44416968 0.         0.         0.\n",
      " 0.         0.         0.         0.         0.         0.\n",
      " 0.         0.         0.         0.         0.         0.\n",
      " 0.         0.         0.         0.         0.         0.\n",
      " 0.         0.         0.         0.         0.         0.\n",
      " 0.         0.2480903  0.         0.         0.         0.\n",
      " 0.         0.         0.19172258 0.         0.         0.\n",
      " 0.         0.         0.         0.         0.         0.\n",
      " 0.         0.         0.         0.         0.         0.\n",
      " 0.         0.         0.         0.         0.         0.2141463\n",
      " 0.         0.         0.         0.         0.         0.\n",
      " 0.         0.         0.         0.         0.         0.\n",
      " 0.         0.         0.         0.         0.         0.20760367\n",
      " 0.         0.         0.         0.         0.         0.\n",
      " 0.         0.         0.23285321 0.         0.         0.\n",
      " 0.         0.         0.         0.         0.         0.\n",
      " 0.         0.         0.         0.         0.         0.\n",
      " 0.         0.         0.         0.         0.23635011 0.\n",
      " 0.         0.         0.         0.         0.         0.\n",
      " 0.         0.         0.         0.         0.25251006 0.\n",
      " 0.         0.         0.         0.         0.         0.\n",
      " 0.         0.24953141 0.21333223 0.         0.         0.\n",
      " 0.         0.         0.         0.         0.         0.\n",
      " 0.         0.         0.         0.         0.26595674 0.\n",
      " 0.         0.         0.         0.         0.18043399 0.\n",
      " 0.         0.21588688 0.         0.         0.         0.\n",
      " 0.         0.         0.         0.         0.         0.\n",
      " 0.         0.         0.         0.         0.         0.\n",
      " 0.         0.         0.         0.         0.         0.\n",
      " 0.         0.         0.         0.         0.         0.\n",
      " 0.         0.         0.         0.         0.         0.\n",
      " 0.         0.         0.         0.         0.         0.\n",
      " 0.         0.         0.         0.         0.         0.\n",
      " 0.         0.         0.         0.         0.         0.\n",
      " 0.         0.         0.25724205 0.         0.         0.\n",
      " 0.         0.         0.         0.16517049 0.         0.\n",
      " 0.         0.         0.23516408 0.         0.         0.1875518\n",
      " 0.         0.         0.         0.         0.         0.\n",
      " 0.         0.        ]\n"
     ]
    }
   ],
   "source": [
    "# Be sure to first leave the data here!\n",
    "imdb_data = pd.read_excel('IMDB_Sample.xlsx')\n",
    "# print(imdb_data.head())\n",
    "\n",
    "# Scikit-Learn works by first defining the der \n",
    "TfIDFTransformer = sktext.TfidfVectorizer(strip_accents='unicode', # Eliminate accents and special characters\n",
    "                      stop_words='english', # Eliminates stop words.\n",
    "                      min_df = 0.05, # Eliminate words that do not appear in more than 5% of texts\n",
    "                      max_df = 0.95, # Eliminate words that appear in more than 95% of texts\n",
    "                      sublinear_tf=True # Use sublinear weights (softplus)\n",
    "                      )\n",
    "\n",
    "\n",
    "# Train / test split\n",
    "x_train, x_test, y_train, y_test = train_test_split(imdb_data['texts'],\n",
    "                                                    imdb_data['class'],\n",
    "                                                    test_size=0.3,\n",
    "                                                    random_state=20210318)\n",
    "# print('\\n')\n",
    "print(x_train.iloc[340])\n",
    "# print(y_train)\n",
    "\n",
    "# Calculate the Tf-Idf transform.\n",
    "TfIDF_train = TfIDFTransformer.fit_transform(x_train)\n",
    "TfIDF_test = TfIDFTransformer.transform(x_test)\n",
    "\n",
    "print('\\n')\n",
    "print(TfIDF_train[340])\n",
    "print('\\n')\n",
    "# print(TfIDF_train.shape)\n",
    "\n",
    "\n",
    "# Turn to dense matrix as PCA does not like sparse ones.\n",
    "TfIDF_train = TfIDF_train.toarray()\n",
    "TfIDF_test = TfIDF_test.toarray()\n",
    "print(TfIDF_train[2])\n",
    "# print('\\n')\n",
    "# print(TfIDF_train[2])\n"
   ]
  },
  {
   "cell_type": "markdown",
   "id": "96941e6b",
   "metadata": {},
   "source": [
    "From here on, you will use the variables `TfIDF_train` and `TfIDF_test` as the input for the different tasks, and the `y_train` and `y_test` labels for each dataset (if required).  The output is a **sparse matrix** with the 236 words that do not appear in more than 95% of texts nor in less than 5% of texts. These matrices only store the relevant information! They are *much* more efficient in-memory.  Sadly, PCA nor torch deal very well with sparse matrices without further processing, so we turn them into dense matrices.\n",
    "\n",
    "We can check the outputs of the first row with the below code."
   ]
  },
  {
   "cell_type": "code",
   "execution_count": 160,
   "id": "60144b1a",
   "metadata": {},
   "outputs": [
    {
     "name": "stdout",
     "output_type": "stream",
     "text": [
      "[0.         0.         0.         0.         0.         0.16565558\n",
      " 0.         0.         0.         0.         0.         0.\n",
      " 0.         0.         0.         0.24573797 0.         0.\n",
      " 0.         0.         0.         0.         0.         0.\n",
      " 0.         0.         0.         0.         0.17111284 0.\n",
      " 0.         0.         0.         0.         0.17934085 0.\n",
      " 0.18989355 0.         0.20293873 0.         0.         0.\n",
      " 0.         0.         0.15861506 0.         0.28146216 0.15964171\n",
      " 0.         0.         0.13397591 0.         0.         0.\n",
      " 0.         0.         0.         0.         0.         0.\n",
      " 0.         0.         0.         0.         0.         0.\n",
      " 0.         0.2143442  0.         0.         0.         0.\n",
      " 0.         0.         0.         0.         0.         0.\n",
      " 0.         0.         0.         0.         0.11417021 0.\n",
      " 0.         0.         0.         0.         0.19858848 0.\n",
      " 0.         0.         0.         0.         0.         0.\n",
      " 0.         0.         0.         0.17507433 0.         0.\n",
      " 0.         0.         0.         0.         0.         0.\n",
      " 0.         0.         0.         0.         0.         0.\n",
      " 0.         0.         0.         0.         0.         0.\n",
      " 0.         0.         0.         0.         0.         0.\n",
      " 0.         0.         0.25421261 0.         0.         0.33802745\n",
      " 0.         0.         0.         0.         0.         0.\n",
      " 0.         0.         0.         0.         0.         0.\n",
      " 0.         0.         0.         0.         0.         0.\n",
      " 0.         0.         0.         0.         0.         0.\n",
      " 0.         0.         0.         0.         0.         0.\n",
      " 0.         0.         0.         0.         0.         0.\n",
      " 0.         0.         0.         0.         0.         0.\n",
      " 0.         0.19455489 0.         0.         0.         0.\n",
      " 0.         0.         0.36503031 0.         0.         0.\n",
      " 0.         0.         0.         0.         0.         0.\n",
      " 0.11485888 0.         0.         0.19079499 0.         0.\n",
      " 0.         0.         0.         0.         0.         0.12018884\n",
      " 0.         0.         0.         0.         0.         0.\n",
      " 0.         0.         0.         0.         0.         0.21148444\n",
      " 0.         0.         0.         0.         0.         0.\n",
      " 0.         0.         0.19455489 0.         0.         0.\n",
      " 0.         0.         0.         0.         0.         0.\n",
      " 0.         0.        ]\n"
     ]
    }
   ],
   "source": [
    "print(TfIDF_train[1,:])"
   ]
  },
  {
   "cell_type": "markdown",
   "id": "53ac25d8",
   "metadata": {},
   "source": [
    "Each column represents one word and each non-zero value represents the Tf-IDF weight as seen in the lectures. To find out which word is which in the index, you can use the [`TfIDFTransformer.get_feature_names()` method](https://scikit-learn.org/stable/modules/generated/sklearn.feature_extraction.text.TfidfTransformer.html)."
   ]
  },
  {
   "cell_type": "code",
   "execution_count": 40,
   "id": "cf45df8b",
   "metadata": {},
   "outputs": [
    {
     "name": "stdout",
     "output_type": "stream",
     "text": [
      "There are 236 words in the index.\n"
     ]
    }
   ],
   "source": [
    "print('There are %i words in the index.' % len(TfIDFTransformer.get_feature_names()))"
   ]
  },
  {
   "cell_type": "code",
   "execution_count": 41,
   "id": "d6c811ae",
   "metadata": {},
   "outputs": [
    {
     "data": {
      "text/plain": [
       "['10',\n",
       " 'absolutely',\n",
       " 'acting',\n",
       " 'action',\n",
       " 'actor',\n",
       " 'actors',\n",
       " 'actress',\n",
       " 'actually',\n",
       " 'age',\n",
       " 'amazing',\n",
       " 'american',\n",
       " 'art',\n",
       " 'audience',\n",
       " 'away',\n",
       " 'awful',\n",
       " 'bad',\n",
       " 'beautiful',\n",
       " 'believe',\n",
       " 'best',\n",
       " 'better',\n",
       " 'big',\n",
       " 'bit',\n",
       " 'black',\n",
       " 'book',\n",
       " 'boring',\n",
       " 'budget',\n",
       " 'came',\n",
       " 'camera',\n",
       " 'cast',\n",
       " 'character',\n",
       " 'characters',\n",
       " 'children',\n",
       " 'classic',\n",
       " 'close',\n",
       " 'come',\n",
       " 'comedy',\n",
       " 'comes',\n",
       " 'completely',\n",
       " 'couldn',\n",
       " 'course',\n",
       " 'day',\n",
       " 'days',\n",
       " 'death',\n",
       " 'did',\n",
       " 'didn',\n",
       " 'different',\n",
       " 'director',\n",
       " 'does',\n",
       " 'doesn',\n",
       " 'doing',\n",
       " 'don',\n",
       " 'drama',\n",
       " 'dvd',\n",
       " 'early',\n",
       " 'effects',\n",
       " 'end',\n",
       " 'ending',\n",
       " 'especially',\n",
       " 'excellent',\n",
       " 'experience',\n",
       " 'eyes',\n",
       " 'face',\n",
       " 'fact',\n",
       " 'family',\n",
       " 'fan',\n",
       " 'far',\n",
       " 'feel',\n",
       " 'film',\n",
       " 'films',\n",
       " 'finally',\n",
       " 'fine',\n",
       " 'friends',\n",
       " 'fun',\n",
       " 'funny',\n",
       " 'gave',\n",
       " 'gets',\n",
       " 'girl',\n",
       " 'girls',\n",
       " 'given',\n",
       " 'gives',\n",
       " 'goes',\n",
       " 'going',\n",
       " 'good',\n",
       " 'got',\n",
       " 'great',\n",
       " 'guy',\n",
       " 'happy',\n",
       " 'hard',\n",
       " 'having',\n",
       " 'head',\n",
       " 'high',\n",
       " 'highly',\n",
       " 'hollywood',\n",
       " 'home',\n",
       " 'hope',\n",
       " 'horror',\n",
       " 'house',\n",
       " 'idea',\n",
       " 'instead',\n",
       " 'interesting',\n",
       " 'isn',\n",
       " 'job',\n",
       " 'john',\n",
       " 'just',\n",
       " 'kind',\n",
       " 'know',\n",
       " 'late',\n",
       " 'later',\n",
       " 'left',\n",
       " 'let',\n",
       " 'life',\n",
       " 'like',\n",
       " 'line',\n",
       " 'little',\n",
       " 'll',\n",
       " 'long',\n",
       " 'look',\n",
       " 'looking',\n",
       " 'looks',\n",
       " 'lost',\n",
       " 'lot',\n",
       " 'love',\n",
       " 'loved',\n",
       " 'low',\n",
       " 'main',\n",
       " 'make',\n",
       " 'makes',\n",
       " 'making',\n",
       " 'man',\n",
       " 'maybe',\n",
       " 'mean',\n",
       " 'mind',\n",
       " 'minutes',\n",
       " 'money',\n",
       " 'movie',\n",
       " 'movies',\n",
       " 'music',\n",
       " 'need',\n",
       " 'new',\n",
       " 'nice',\n",
       " 'night',\n",
       " 'old',\n",
       " 'original',\n",
       " 'people',\n",
       " 'performance',\n",
       " 'performances',\n",
       " 'person',\n",
       " 'picture',\n",
       " 'piece',\n",
       " 'place',\n",
       " 'play',\n",
       " 'played',\n",
       " 'playing',\n",
       " 'plays',\n",
       " 'plot',\n",
       " 'point',\n",
       " 'poor',\n",
       " 'pretty',\n",
       " 'probably',\n",
       " 'quite',\n",
       " 'read',\n",
       " 'real',\n",
       " 'really',\n",
       " 'reason',\n",
       " 'recommend',\n",
       " 'right',\n",
       " 'role',\n",
       " 'roles',\n",
       " 'said',\n",
       " 'saw',\n",
       " 'say',\n",
       " 'scene',\n",
       " 'scenes',\n",
       " 'school',\n",
       " 'screen',\n",
       " 'script',\n",
       " 'second',\n",
       " 'seeing',\n",
       " 'seen',\n",
       " 'sense',\n",
       " 'series',\n",
       " 'set',\n",
       " 'sex',\n",
       " 'short',\n",
       " 'shot',\n",
       " 'shows',\n",
       " 'simply',\n",
       " 'small',\n",
       " 'sound',\n",
       " 'special',\n",
       " 'star',\n",
       " 'stars',\n",
       " 'story',\n",
       " 'stupid',\n",
       " 'supposed',\n",
       " 'sure',\n",
       " 'takes',\n",
       " 'tell',\n",
       " 'terrible',\n",
       " 'thing',\n",
       " 'things',\n",
       " 'think',\n",
       " 'thought',\n",
       " 'time',\n",
       " 'times',\n",
       " 'title',\n",
       " 'true',\n",
       " 'truly',\n",
       " 'try',\n",
       " 'trying',\n",
       " 'tv',\n",
       " 'understand',\n",
       " 'use',\n",
       " 'used',\n",
       " 've',\n",
       " 'version',\n",
       " 'video',\n",
       " 'want',\n",
       " 'wasn',\n",
       " 'watch',\n",
       " 'watched',\n",
       " 'watching',\n",
       " 'way',\n",
       " 'woman',\n",
       " 'women',\n",
       " 'won',\n",
       " 'wonderful',\n",
       " 'work',\n",
       " 'world',\n",
       " 'worst',\n",
       " 'worth',\n",
       " 'written',\n",
       " 'wrong',\n",
       " 'year',\n",
       " 'years',\n",
       " 'young']"
      ]
     },
     "execution_count": 41,
     "metadata": {},
     "output_type": "execute_result"
    }
   ],
   "source": [
    "TfIDFTransformer.get_feature_names()\n"
   ]
  },
  {
   "cell_type": "markdown",
   "id": "065df6da",
   "metadata": {},
   "source": [
    "## Task 1: PCA decomposition of the texts. [35 pts]\n",
    "\n",
    "Now you have the TfIDF matrix, We can start working on the data. As a first step, we want to explore what some commonly occuring concepts in the text reviews. We can do this using PCA. A PCA transform of the TF-IDF matrix will give you a basis of the text data, each representing a *concept* or set of words that are correlated. Correlation in text can be interpreted as a relation to a similar topic.\n",
    "\n",
    "1. First, calculate a PCA transform of the training data using the **maximum** number of concepts possible. Make a plot of the explained variance that shows the cumulative explained variance per number of concepts. \n",
    "\n",
    "**Written answer: Exactly how many concepts do you need to correctly explain at least 75% of the data? (note we need the exact # of concepts)**  [15 pts]"
   ]
  },
  {
   "cell_type": "code",
   "execution_count": 168,
   "id": "1a100d49",
   "metadata": {},
   "outputs": [
    {
     "name": "stdout",
     "output_type": "stream",
     "text": [
      "           Explained_var\n",
      "Component               \n",
      "1               0.019683\n",
      "2               0.015244\n",
      "3               0.013678\n",
      "4               0.013156\n",
      "5               0.012507\n",
      "...                  ...\n",
      "232             0.000793\n",
      "233             0.000770\n",
      "234             0.000735\n",
      "235             0.000724\n",
      "236             0.000666\n",
      "\n",
      "[236 rows x 1 columns]\n"
     ]
    },
    {
     "data": {
      "image/png": "[encoded data removed]",
      "text/plain": [
       "<Figure size 600x400 with 1 Axes>"
      ]
     },
     "metadata": {
      "needs_background": "light"
     },
     "output_type": "display_data"
    }
   ],
   "source": [
    "# Your code here.\n",
    "PCA_1 = PCA(n_components = 236)\n",
    "X_1 = PCA_1.fit_transform(TfIDF_train)\n",
    "\n",
    "# print(PCA_1.explained_variance_ratio_.sum())\n",
    "DF = (pd.DataFrame({'Component':[i for i in range(1,237)],\n",
    "                    'Explained_var': PCA_1.explained_variance_ratio_.round(6)}).set_index('Component'))\n",
    "\n",
    "print(DF)\n",
    "# Make the plot\n",
    "Cum_variance = []\n",
    "acc_variance = 0\n",
    "for j in range(1,237):\n",
    "    acc_variance += DF.Explained_var[j]  \n",
    "    Cum_variance.append(acc_variance)\n",
    "\n",
    "    \n",
    "fig, ax = plt.subplots(dpi = 100)    \n",
    "plt.plot(Cum_variance)\n",
    "# plt.plot(np.cumsum(PCA_1.explained_variance_ratio_))\n",
    "ax.set_xlabel('Number of concepts')\n",
    "ax.set_ylabel('Cumulative accuracy')\n",
    "plt.show()\n",
    "    "
   ]
  },
  {
   "cell_type": "code",
   "execution_count": 170,
   "id": "1bfea10a",
   "metadata": {},
   "outputs": [
    {
     "name": "stdout",
     "output_type": "stream",
     "text": [
      "The min number of concepts to correctly explain at least 75% of data is: 113 \n"
     ]
    },
    {
     "data": {
      "text/plain": [
       "113"
      ]
     },
     "execution_count": 170,
     "metadata": {},
     "output_type": "execute_result"
    }
   ],
   "source": [
    "# To get the exact index where the variance is above 75%\n",
    "for j in range(len(Cum_variance)):\n",
    "    if Cum_variance[j] > 0.75:\n",
    "        print(f'The min number of concepts to correctly explain at least 75% of data is: {j} ')\n",
    "        break\n",
    "        \n",
    "np.argwhere(np.cumsum(PCA_1.explained_variance_ratio_)>0.75).min()\n",
    "\n"
   ]
  },
  {
   "cell_type": "markdown",
   "id": "d81a078d",
   "metadata": {},
   "source": [
    "**Written answer: **"
   ]
  },
  {
   "cell_type": "markdown",
   "id": "a3b66884",
   "metadata": {},
   "source": [
    "2. Study the first three concepts. To do this, show the 10 words that are the most important in the each of these three concepts (as revealed by the absolute value of the PCA weight in each concept).\n",
    "\n",
    "**Written answer: What is the cumulative variance explained by these three concepts? What would you name each of these concepts?** [10 pts]\n",
    "*Hint: if in a concept you would get the words 'dog', 'cat', 'fish' as the most important ones, you could name the concept 'animals' or 'pets'.*"
   ]
  },
  {
   "cell_type": "code",
   "execution_count": 180,
   "id": "970d8276",
   "metadata": {},
   "outputs": [
    {
     "data": {
      "text/plain": [
       "['10', 'absolutely', 'acting']"
      ]
     },
     "execution_count": 180,
     "metadata": {},
     "output_type": "execute_result"
    }
   ],
   "source": [
    "# Get words per component\n",
    "\n",
    "TfIDFTransformer.get_feature_names()[0:3]"
   ]
  },
  {
   "cell_type": "code",
   "execution_count": 175,
   "id": "ca25c4d5",
   "metadata": {},
   "outputs": [
    {
     "name": "stdout",
     "output_type": "stream",
     "text": [
      "[340 265 492 631 252 305 347 105 272 496]\n",
      "Rating \"10/10\" Master pieceSome years ago, i heard Spielberg comment that he would redo the movie here and there if he had a chance. Well, Mr Spielberg, i guess nothing is perfect, but this movie - together with schindler's List - is your best. Even Oprah acts well in this one !What got me most is the realism of the story and drama. Stuff like this happened and is still happening in the world.'\n",
      "\n",
      "\n",
      "After being hugely entertained by Mr. Brosnan's performance as a cad in \"The Tailor of Panama\" (which I rate 10/10 across the board: casting, acting, script, story, editing, pace, music, emotional impact, etc.), I enthusiastically anticipated this film. I was hugely disappointed. It is a script reading not a film, vulgar for the sake of being vulgar, bankrupt in every way that \"The Tailor of Panama\" is rich and satisfying. Blame it on the screen writing and directing. I sat in the theater waiting for the \"good part;\" it never came. I neither laughed nor cried, although one line of dialog did make me smile. Worth $7? Hardly.'\n",
      "\n",
      "\n",
      "I'm biased towards any movie that paints a luxuriant picture of Italy - in my opinion the most romantic country in the world. Unfortunately the movie was rather short, unusually so for a period piece, and a little sparse on the cinematography aspect. However, the excellent story makes up for it. The four ladies embark on a much-needed relaxing vacation with problems on their minds. Over the course of the movie, they realize their problems and begin fixing them. They believe San Salvatore, the castle they stay in, has an enchanting effect on people. \"It's a tub of love,\" says Lottie Wilkins. You can watch their gradual change from dissatisfied to exuberant as the Italian seaside works its magic on them.All their problems and their solutions are plausible. The actresses were great. The background music seemed very appropriate for an romantic Italian locale. All in all, a 10/10 movie for me.'\n",
      "\n",
      "\n",
      "Sorry, gave it a 1, which is the rating I give to movies on which I walk out or fall asleep. In this case I fell asleep 10 minutes from the end, really, really bored and not caring at all about what happened next.'\n",
      "\n",
      "\n",
      "I have to say, Seventeen & Missing is much better than I expected. The perception I took from the previews was that it would be just humdrum but I was pleasantly surprised with this impressive mystery.Dedee Pfeiffer is Emilie, a mom who insists her daughter, Lori (Tegan Moss), not attend a so-called graduation party one weeknight, but Lori ignores her mother's wishes and takes off for the party anyway. When Lori does not come home, Emilie knows something is wrong and she begins to have visions of her daughter and the events that led to her disappearance.Seventeen & Missing is better than so many other TV movies of this type, as it is not so predictable. Pfeiffer is the reason to see this movie, and most of it comes off as believable. This LMN Original Movie premiered last night. 10/10\"\n",
      "\n",
      "\n",
      "Telemundo should definitely consider making a DVD collection of the novela Xica! I know tons of people including myself who would like to be able to purchase the novela Xica! It is a very entertaining novela which is set in Brazil. The costumes worn by the actors are beautiful and the town in which the novela takes place is beautiful. Xica contains a lot of history of that time period. I wish Telemundo would televise it again even if it was a 2 in the morning. I would highly recommend watching Xica if it is ever shown again on Telemundo. I've e-mailed Telemundo a million times already to show the novela again but my pleas have fallen on deaf ears. The only cautionary statement about Xica is that it occasionally contains some harsh scenes therefore I would recommend that children under 14 do not watch Xica. Overall Xica merits a 10 out of 10!\"\n",
      "\n",
      "\n",
      "This movie is incredible. If you have the chance, watch it. Although, a warning, you'll cry your eyes out. I do, every time I see it, and I own it and have watched it many times. The performances are outstanding. It deals with darkness and pain and loss, but there is hope. This movie made me look at the world differently: vicarious experience, according to my English teacher. Also, if you've seen it, note the interesting use of shadows and light. Home room is a phenomenal movie, and I rate it 10/10 - for real - because of the excellent acting, amazing plot, and heart-wrenching dialogue. Very tense, very moving. Doesn't give all the answers, but makes many good points about humankind\"\n",
      "\n",
      "\n",
      "This movie is so bad, I knew how it ends right after this little girl killed the first person. Very bad acting very bad plot very bad moviedo yourself a favour and DON'T watch it 1/10\"\n",
      "\n",
      "\n",
      "Well, i can and will be very short. This is a wrong-balanced, non-convincing film that could have been a little bit better. The script seems to not know which way to go ... from funny to cliche-wise serious... it's a bit silly. That plus too much sentences we have heard before \"the hacker is in florida, or no, he is in madrid, no he is in ... , he is screwing the signal\". 4 out of 10'\n",
      "\n",
      "\n",
      "I really enjoyed the reunion a lot! I would have rated it a 10 if they had had \"Hassie\" and \"Little Luke\". There wasn't even a mention of where they are today or why they didn't participate in the reunion. They were very popular characters and I think it was a mistake not to give an explanation about their lack of appearance.Anyway, I was glad that TNN ran the series again! I had been looking for episodes for years and what a joy to be able to tape the whole series (I may have missed a few episodes). Jenny Hanahan'\n",
      "\n",
      "\n"
     ]
    }
   ],
   "source": [
    "## Component 1 \"10 \" => label : \"rating\"\n",
    "index_max_comp1 = np.array((sorted( ((x,i) for (i,x) in enumerate(TfIDF_train[:,0])), reverse=True )[:10]))\n",
    "index_1 = (index_max_comp1[:,[1]].ravel()).astype(int)\n",
    "print(index_1)\n",
    "for j in index_1:\n",
    "    print(x_train.iloc[j])\n",
    "    print('\\n')\n"
   ]
  },
  {
   "cell_type": "code",
   "execution_count": 176,
   "id": "56a40fd8",
   "metadata": {},
   "outputs": [
    {
     "name": "stdout",
     "output_type": "stream",
     "text": [
      "[673 107 663   6  38 120 380 468 561 133]\n",
      "Just a stilted rip-off of the infinitely better \"Murder, She Wrote\", it is absolutely amazing that this poorly-written garbage lasted for a full eight years. I'm sure most of the people who watched this unentertaining crap were in their sixties and seventies and just tuned in because they had nothing better to do, or simply remembered its star from the old Dick Van Dyke Show. Van Dyke, who only had a decent career in the 1960s, never was much of an actor at all (by his own admission) and he was already far too old to play a doctor when the series began in 1993. He looks absolutely ancient as a result of years of chain smoking and heavy drinking. His talentless real life son Barry, a wooden actor who has rarely been in anything that didn't involve his father, plays his son in the series.'\n",
      "\n",
      "\n",
      "It's very simple to qualify that movie: \"A PURE MASTERPIECE\". This opinion is formulated for the following reasons: the performance of the actors, they seem to be citizens of that epoch, 1100 B.C. They personalize perfectly the characters. A second reason is that the poetry expressed by Homere in his poem is well given by the production. Among others the narrations made by the chorus give a particular atmosphere that makes us party of the artistic rendition. Third reason: the reconstitution of the decor is absolutely perfect, in Mediterranean regions, where the action of the poem occurred. And most of all, the emotion is on the rendezvous. I repeat my appreciation: \"A PURE MASTERPIECE\".'\n",
      "\n",
      "\n",
      "\"The Color Purple\", is truly amazing. There is none like it, and I don't think there ever will be. It's a roller coster of emotion and pain that the viewer takes on. The actors are flawless and the directing is superb. I absolutely loved it. A movie has never made me so happy. It is beautiful, that's the best way to explain it.'\n",
      "\n",
      "\n",
      "This movie is a crappy and forgettable Sean Connery vehicle. The performances are generally crappy especially by Capshaw, Fishburne, and the usually solid Ed Harris. Connery seems miscast as a Harvard Academic. The movie absolutely gets worse as it goes along. It is a third rate mystery that becomes extremely contrived by the time it unravels. The movie squanders an excellent supporting cast. George Plimpton also turns up in a minor role to add some gravitas to Connery as they debate the death penalty. The violence and the atmosphere pepper a third rate mystery/thriller that is manipulation to the highest degree. The scripting and direction are extremely poor. Connery's charisma and screen presence are the film's only virtue. Manipulative, Violent, and Ridiculous. 2/10 Avoid It.\"\n",
      "\n",
      "\n",
      "This is one of those rare movies, it's lovely and compelling, dignified and quirky, a true gift. I consider it a prerequisite for any trip to Italy, or any vacation at all, because it reminds you to open yourself up to a broader experience (yup, find the magic). I especially loved Josie Lawrence, as Lottie Wilkins, but every lead and supporting actor is flawless in this film. Further the costumes, if you're drawn to fashion and costumes, are extraordinarily well done. I just wish they'd release it on DVD because I'm wearing my tape version out! Absolutely well worth your time, just make sure to settle in to watch it, without any interruptions.\"\n",
      "\n",
      "\n",
      "Absolutely one of my favorite movies of all time. I have seen it at least a hundred times and I can't go through it without crying. I defy anyone to watch the reunion of Celie and Nettie, or Shug and father and not feel your eyes getting misty. Whoopie Goldberg should have one an award for amazing portrayal. And for the person who said you can't love the movie if you loved the book, wrong! Im a testament to that.\"\n",
      "\n",
      "\n",
      "This film is one of the few quality films of 2000 and definitely one of my best. The scenario is based on the novel by Vladimir Nabokov and the transfer to the big screen is absolutely brilliant. The photography of the film is excellent as is the acting of both Turturro and Watson. Turturro definitely gives his best performance to date proving he's worth much more than what we thought. Watson also performs brilliantly.The story is about a phenomenal chess player (Turturro) which is also extremely eccentric in his everyday life. The film is presented in a non linear time, with multiple flashbacks of Luzhin's childhood. Through those, the complex character of Luzhin is described. I have nothing more to say, but to suggest this film to anyone.\"\n",
      "\n",
      "\n",
      "This movie is traditional bollywood fare as far as the star power, sentimentality and love triangle of emotions. What really bothered me about this movie was the makers' absurd notion of surrogate mother. A whore who conceives a child with someone after have sex with the man (of the family desiring a child) is not a surrogate mother. Neither is she a good candidate for a surrogate mother. I have seen Indian movies and television shows that made 10 to 15 years ago that dealt with this issue more intelligently. The whole concept of the movie is ridiculous and absolutely implausible. I realize that most bollywood movies aren't meant to be plausible, but they don't pretend to be either. This movie wants us to emote along with the characters, but this can't done with such a ridiculous, contrived conflict. I would have expected better from Abbas and Mustan.\"\n",
      "\n",
      "\n",
      "I really wanted to like this movie. I absolutely love kenny hotz, and spenny rice has a charming side to him. Not that I like spenny at all. Spenny ruins this movie. He should of let kenny and his hot girlfriend pitch the movie.Anyways, it's pretty boring aside from a scene with Roger Ebert in it. There really isn't too many celebrities in this movie, and most don't seem to say more than one line. Overall this movie was disappointing. I would only suggest watching it if you got it with the season 1 DVD of kenny vs spenny (it comes for free on the 3rd disc). Regardless of this production, I am still very excited to check out The Papel Chase.\"\n",
      "\n",
      "\n",
      "This is a movie that relies solely on the somewhat controversial image of incest and lesbianism to get noticed.That is it.The dialogs are pathetic and the sensuality of the \"sex scenes\" is absolutely absent.The acting and the dialog are more suited for high-school children,yet the subject is intended for adult audiences. It is a gutless and shallow movie.It could have been way better if it had a story and more drama. Ah and on top of that, one more thing: why are inner monologues so excessively used? Makes it seem so cheap.All in all an embarrassing movie for Romanian cinema as well as for mature audiences attempting to view it.I know the means are scarce but, that is not always an excuse for a movie flopping as this one does.And please start using some good actors in your movies and stop recycling them from musicians (Tudor Chirila) - they can't act!'\n",
      "\n",
      "\n"
     ]
    }
   ],
   "source": [
    "# Concept 2 \"absolutely\" => \"overal movie overview\"\n",
    "index_max_comp2 = np.array((sorted( ((x,i) for (i,x) in enumerate(TfIDF_train[:,1])), reverse=True )[:10]))\n",
    "index_2 = (index_max_comp2[:,[1]].ravel()).astype(int)\n",
    "print(index_2)\n",
    "for j in index_2:\n",
    "#     print(TfIDF_train[j,0])\n",
    "    print(x_train.iloc[j])\n",
    "    print('\\n')"
   ]
  },
  {
   "cell_type": "code",
   "execution_count": 177,
   "id": "90c01aea",
   "metadata": {},
   "outputs": [
    {
     "name": "stdout",
     "output_type": "stream",
     "text": [
      "[436 443 421 407 406 554 142 521 223 217]\n",
      "Wow. This is really not that good. I would like to agree with the others in that at least the acting is good... it is, but it is nothing special.The movie is so precictable and i for one am sick of receiving culture info through movies.*/****'\n",
      "\n",
      "\n",
      "Yes, indeed, it could have been a good movie. A love biangle, (sorry for the poetical license, but is not a triangle!) an interesting story, unfortunately badly told. The image is sometimes weird, sometimes OK, the picture looks crowded and narrow-sighted. The sound needs more attention (it usually does in Romanian movies), the light and color filters are sometimes badly chosen. The soundtrack is short and is not helping the action. About the acting... sorry but the best actress is the landlady. The others are acting immaturely and cannot convince the viewer. The acting is poetical when it should be realistic, and realistic when it should be poetical. It's a picture for adults, told by the children. Bother only if extremely curious.\"\n",
      "\n",
      "\n",
      "Return to Cabin by the Lake does not, in any way, stand up to the original. With only one main character (Stanley) returning for the sequal, the film is not even worth the 2 hours of your time. I am a huge fan of the first film, the story line and acting was really good, but this is one movie that I will never again watch. It is basically equal to what the sequals to Urban Legends and Blair Witch were like, but with much worse acting. I've personally seen better acting in soap operas, it is so pitiful that you just have to laugh. I, in no way, recommend this movie to anyone, watching it will just detract from the first.\"\n",
      "\n",
      "\n",
      "Although I didn't like Stanley & Iris tremendously as a film, I did admire the acting. Jane Fonda and Robert De Niro are great in this movie. I haven't always been a fan of Fonda's work but here she is delicate and strong at the same time. De Niro has the ability to make every role he portrays into acting gold. He gives a great performance in this film and there is a great scene where he has to take his father to a home for elderly people because he can't care for him anymore that will break your heart. I wouldn't really recommend this film as a great cinematic entertainment, but I will say you won't see much bette acting anywhere.\"\n",
      "\n",
      "\n",
      "If you fast forward through the horrible singing, you will find a classic fairy tale underneath. Christopher Walken is very humorous and surprisingly good in the role. His trademark style of acting works well for the sly Puss in Boots. The other actors are well for their parts. I did not find any of the acting terribly fake or awkward. The king in particular appears a real dunce though, and I wonder if he is supposed to be. I can not remember the original tale. The special effects are typical of the eighties, but at least they are not overly fake like some of the computer generated fare that we see today. Overall, I recommend this movie for children and adults who are a child at heart.'\n",
      "\n",
      "\n",
      "Liked Stanley & Iris very much. Acting was very good. Story had a unique and interesting arrangement. The absence of violence and sex was refreshing. Characters were very convincing and felt like you could understand their feelings. Very enjoyable movie.'\n",
      "\n",
      "\n",
      "After a day at work, I sat down to relax and turned on the movie channels. The movie came up on the guide and sounded interesting so I tuned in just before it started. The first 30 minutes were enough to make me interested, but the lack of acting ability in Jamie Foxx and the slow plot movement made me want to get up and find food during the movie. If there is any credit to be given for acting in this movie it should go to David Morse who at least tries to make the movie interesting. All in all, don't plan on impressing your friends by picking this one as a renter for a movie night.\"\n",
      "\n",
      "\n",
      "This film is predictable; it is more predictable then a Vinnie Testaverdi pass, when he huts the ball for the Jets. One saw the ending coming up halfway through the film. The politics reminds me when I was back east. Many people know when the fix is in. I gave this four because of the acting, but the story is lame.'\n",
      "\n",
      "\n",
      "This was a very good film. I didn't go into it with very high expectations and was pleasantly surprised by the acting, the script, and the scenery. Miranda Richardson was fantastic and so was Joan Plowright. They stole the show. But the other actors played their parts wonderfully also. Very enjoyable film.\"\n",
      "\n",
      "\n",
      "The Color Purple is a masterpiece. It displays the amazing acting abilities of Whoopi Goldberg, Oprah Winfrey, and Danny Glover. Not only is Steven Spielberg the most incredible director of all time but his versatility shines through in this film. If you ever want to see what a movie can do watch this. It's a beautiful portrayal of one of the most moving stories of all time!\"\n",
      "\n",
      "\n"
     ]
    }
   ],
   "source": [
    "# Concept 3 concept :\"acting\" => \n",
    "index_max_comp3 = np.array((sorted( ((x,i) for (i,x) in enumerate(TfIDF_train[:,2])), reverse=True )[:10]))\n",
    "index_3 = (index_max_comp3[:,[1]].ravel()).astype(int)\n",
    "print(index_3)\n",
    "for j in index_3:\n",
    "#     print(TfIDF_train[j,0])\n",
    "    print(x_train.iloc[j])\n",
    "    print('\\n')"
   ]
  },
  {
   "cell_type": "markdown",
   "id": "f420f9ae",
   "metadata": {},
   "source": [
    "**Written answer: **"
   ]
  },
  {
   "cell_type": "markdown",
   "id": "847de483",
   "metadata": {},
   "source": [
    "3. Apply the PCA transformation to the test dataset. Using only the first two components, make a scatter plot of the cases. Identify positive and negative cases by colouring points with different sentiments with different colours. \n",
    "\n",
    "**Written answer: What can you say about where the positive and negative cases lie in your plot? Could we use these concepts to discriminate positive and negative cases? If yes, why? If no, why not? Discuss your findings.** [10 pts]"
   ]
  },
  {
   "cell_type": "code",
   "execution_count": 369,
   "id": "6a9984ce",
   "metadata": {
    "scrolled": false
   },
   "outputs": [
    {
     "data": {
      "text/plain": [
       "Text(0.5, 1.0, 'Two first components in the test dataset')"
      ]
     },
     "execution_count": 369,
     "metadata": {},
     "output_type": "execute_result"
    },
    {
     "data": {
      "image/png": "[encoded data removed]",
      "text/plain": [
       "<Figure size 864x432 with 2 Axes>"
      ]
     },
     "metadata": {
      "needs_background": "light"
     },
     "output_type": "display_data"
    }
   ],
   "source": [
    "# Apply the test data\n",
    "PCA_2 = PCA(n_components = 2)\n",
    "\n",
    "Z_test_Total = PCA_2.fit_transform(TfIDF_test)\n",
    "\n",
    "Z_test = PCA_2.fit_transform(TfIDF_test[:,0:2])\n",
    "\n",
    "# Plot the two different set of points filtering by label.\n",
    "\n",
    "fig = plt.figure(figsize=(12,6))\n",
    "ax1 = fig.add_subplot(121)\n",
    "ax2 = fig.add_subplot(122)\n",
    "\n",
    "color = np.array(['b' for x in range(300)])\n",
    "color[y_test.values == 0] = 'r'\n",
    "\n",
    "ax1.scatter(Z_test_Total[:,0], Z_test_Total[:,1] ,color = color, alpha = 0.3)\n",
    "ax1.scatter(Z_test_Total[:,0], Z_test_Total[:,1], color = color, alpha = 0.3)\n",
    "ax1.set_title('All components in the test dataset')\n",
    "\n",
    "\n",
    "ax2.scatter(Z_test[:,0], Z_test[:,1] ,color = color, alpha = 0.3)\n",
    "ax2.scatter(Z_test[:,0], Z_test[:,1], color = color, alpha = 0.3)\n",
    "ax2.set_title('Two first components in the test dataset')\n"
   ]
  },
  {
   "cell_type": "markdown",
   "id": "4652f6be",
   "metadata": {},
   "source": [
    "**Written answer:** \n",
    "Because it was not clear to me if I should use whole the test dataset or just the first two components, I considered both of the cases, on left and right graphs respectively. \n",
    "\n",
    "On the left graph, we can see the red dots which are corresponding to negative view, are mostly on the lower than the blue dots. But we have a big region filled with both red and blue dots, which means the model was not much successful in separating two groups. \n",
    "\n",
    "On the right graph that we are just looking at the first two components of the data, we have more red dots on the almost horizontal axis and more blue dots on the almost vertical axis, but still no perfect separation is seen.\n",
    "\n",
    "I don't think this model is suitable for discriminating positive and negative cases."
   ]
  },
  {
   "cell_type": "markdown",
   "id": "c26269ed",
   "metadata": {},
   "source": [
    "## Task 2: Autoencoders [35 pts]\n",
    "\n",
    "We will see now the ability of autoencoders to compress the data. Train an autoencoder that compresses the data to 60 neurons in the encoding layer as shown in lab 10.2, to be trained over the original TfIDF train dataset. Use a total of 5 fully connected layers going from 236 to 100 to 60 to 100 to 236 units. Use a relu non-linearity for each of them. Then try at two more variations of this network. You could vary the number of hidden units, number of layers, or the type of nonlinearity that you are using. Train the models, each time reducing model reconstruction error. For each model you train, plot the reconstruction error (MSE) over the train set and the test set as you train every 100 rounds. \n",
    "\n",
    "**Written answer: Which of your models performs the best? After how many epochs does your best model reach convergence? Does your model overfit? If yes, why do you think this is? If no, why?** [10 pts each architecture plus 5 pts arguing which one is better plus the explaining of overfitting]"
   ]
  },
  {
   "cell_type": "code",
   "execution_count": 326,
   "id": "69745532",
   "metadata": {},
   "outputs": [],
   "source": [
    "# Model architecture and definition\n",
    "class autoencoder(nn.Module):\n",
    "    def __init__(self):\n",
    "        super(autoencoder, self).__init__()\n",
    "        self.encoder = nn.Sequential(\n",
    "            nn.Linear(236,100),\n",
    "            nn.ReLU(inplace =True),\n",
    "            nn.Linear(100,60),\n",
    "            nn.ReLU(inplace =True),\n",
    "            )\n",
    "        self.decoder = nn.Sequential(\n",
    "            nn.Linear(60,100),\n",
    "            nn.ReLU(inplace =True),\n",
    "            nn.Linear(100,236),\n",
    "            nn.ReLU(inplace =True),\n",
    "            )\n",
    "\n",
    "    def forward(self, x):\n",
    "        x = self.encoder(x)\n",
    "        x = self.decoder(x)\n",
    "        return x"
   ]
  },
  {
   "cell_type": "code",
   "execution_count": 327,
   "id": "6469e112",
   "metadata": {},
   "outputs": [],
   "source": [
    "# Train! #build model\n",
    "auto_enc = autoencoder()\n",
    "\n",
    "#define loss function\n",
    "loss_fn = torch.nn.MSELoss()\n",
    "\n",
    "#define learning rate\n",
    "learning_rate = 1e-1\n",
    "\n",
    "#convert dataset to tensors\n",
    "Xtrain_scaled = torch.from_numpy(TfIDF_train.astype(np.float32))\n",
    "Xtest_scaled = torch.from_numpy(TfIDF_test.astype(np.float32))\n",
    "\n",
    "Train_loss = []\n",
    "Test_loss = []\n",
    "# #train model\n",
    "for t in range (5000):\n",
    "    y_pred = auto_enc(Xtrain_scaled)\n",
    "    loss = loss_fn(y_pred, Xtrain_scaled)         # what we get from autoencoder is X^\n",
    "    if t % 100 == 99:\n",
    "        Train_loss.append(loss.item())\n",
    "    auto_enc.zero_grad()\n",
    "    loss.backward()\n",
    "    with torch.no_grad():\n",
    "        for param in auto_enc.parameters():\n",
    "            param -= learning_rate * param.grad \n",
    "        if t % 100 == 99:\n",
    "            ytest_pred = auto_enc(Xtest_scaled)\n",
    "            loss = loss_fn(ytest_pred, Xtest_scaled)\n",
    "            Test_loss.append(loss.item())"
   ]
  },
  {
   "cell_type": "code",
   "execution_count": 328,
   "id": "9f46f8c2",
   "metadata": {},
   "outputs": [
    {
     "data": {
      "text/plain": [
       "[<matplotlib.lines.Line2D at 0x7fcc0e415a30>]"
      ]
     },
     "execution_count": 328,
     "metadata": {},
     "output_type": "execute_result"
    },
    {
     "data": {
      "image/png": "[encoded data removed]",
      "text/plain": [
       "<Figure size 432x288 with 1 Axes>"
      ]
     },
     "metadata": {
      "needs_background": "light"
     },
     "output_type": "display_data"
    }
   ],
   "source": [
    "# Plot errors\n",
    "# x = np.arange(5000)\n",
    "# x.sha\"pe\n",
    "plt.plot(Test_loss, 'r')\n",
    "plt.plot(Train_loss, 'b')\n",
    "# plt.xticks(np.arange(0,50,10))"
   ]
  },
  {
   "cell_type": "markdown",
   "id": "f4427a3d",
   "metadata": {},
   "source": [
    "**Written answer:**"
   ]
  },
  {
   "cell_type": "markdown",
   "id": "dba30949",
   "metadata": {},
   "source": [
    "## Task 3: Benchmarking predictive capabilities of the compressed data. [30 pts]\n",
    "\n",
    "For the final task, you will benchmark the different compression algorithms over the original data. For this:\n",
    "\n",
    "1. Train a regularized logistic regression over the original TfIDF train set (with no compression) to predict the positive / negative class label for each movie. Calculate the AUROC over the test set.\n",
    "2. Train a regularized logistic regression over the PCA-reduced dataset (with 60 components), and calculate the AUROC over the PCA-transformed test set.\n",
    "3. Train a regularized logistic regression over the encoded dataset (with 60 variables), and calculate AUROC over the encoded test set.\n",
    "\n",
    "**Written answer 1: Compare the performance of the three models: how do they compare?**\n",
    "\n",
    "**Written answer 2: Which of the two compression methods (methods 2 and 3) is better at compressing the data without altering its predictive capacity? Why do you think this happens?**"
   ]
  },
  {
   "cell_type": "code",
   "execution_count": 345,
   "id": "71fd2b2f",
   "metadata": {},
   "outputs": [
    {
     "name": "stdout",
     "output_type": "stream",
     "text": [
      "0.859\n"
     ]
    },
    {
     "name": "stderr",
     "output_type": "stream",
     "text": [
      "/Library/Frameworks/Python.framework/Versions/3.8/lib/python3.8/site-packages/seaborn/_decorators.py:36: FutureWarning: Pass the following variables as keyword args: x, y. From version 0.12, the only valid positional argument will be `data`, and passing other arguments without an explicit keyword will result in an error or misinterpretation.\n",
      "  warnings.warn(\n"
     ]
    },
    {
     "name": "stdout",
     "output_type": "stream",
     "text": [
      "0.8589663760896638\n"
     ]
    },
    {
     "data": {
      "image/png": "[encoded data removed]",
      "text/plain": [
       "<Figure size 720x480 with 1 Axes>"
      ]
     },
     "metadata": {
      "needs_background": "light"
     },
     "output_type": "display_data"
    }
   ],
   "source": [
    "# Full dataset regression and AUC plot / calculation\n",
    "\n",
    "model = LogisticRegressionCV(cv =5, max_iter = 1000000, multi_class='auto')\n",
    "\n",
    "M1 = model.fit(TfIDF_train, y_train.values.ravel())\n",
    "\n",
    "y_pred = M1.predict(TfIDF_test)\n",
    "y_probs = M1.predict_proba(TfIDF_test)\n",
    "\n",
    "\n",
    "auroc = np.round(roc_auc_score(y_true = y_test.values.ravel(), \n",
    "                             y_score = y_probs[:,1]), decimals = 3)\n",
    "print(auroc)\n",
    "fpr_t, tpr_t , _ = roc_curve(y_test, y_probs[:,1], pos_label = 1)\n",
    "\n",
    "fig, ax = plt.subplots(dpi = 120)\n",
    "\n",
    "ax = sns.lineplot(fpr_t, tpr_t)\n",
    "plt.xlabel('TPR=tp/p')\n",
    "plt.ylabel('FPR=fp/n')\n",
    "print(auc(fpr_t, tpr_t))"
   ]
  },
  {
   "cell_type": "code",
   "execution_count": 354,
   "id": "f63ae355",
   "metadata": {},
   "outputs": [
    {
     "name": "stdout",
     "output_type": "stream",
     "text": [
      "0.83\n"
     ]
    },
    {
     "name": "stderr",
     "output_type": "stream",
     "text": [
      "/Library/Frameworks/Python.framework/Versions/3.8/lib/python3.8/site-packages/seaborn/_decorators.py:36: FutureWarning: Pass the following variables as keyword args: x, y. From version 0.12, the only valid positional argument will be `data`, and passing other arguments without an explicit keyword will result in an error or misinterpretation.\n",
      "  warnings.warn(\n"
     ]
    },
    {
     "name": "stdout",
     "output_type": "stream",
     "text": [
      "0.8298345490126312\n"
     ]
    },
    {
     "data": {
      "image/png": "[encoded data removed]",
      "text/plain": [
       "<Figure size 720x480 with 1 Axes>"
      ]
     },
     "metadata": {
      "needs_background": "light"
     },
     "output_type": "display_data"
    }
   ],
   "source": [
    "# PCA dataset regression and AUC plot / calculation\n",
    "\n",
    "PCA_3 = PCA(n_components = 60)\n",
    "\n",
    "Z3_train = PCA_3.fit_transform(TfIDF_train)\n",
    "Z3_test = PCA_3.transform(TfIDF_test)\n",
    "\n",
    "\n",
    "model = LogisticRegressionCV(cv =5, max_iter = 1000000, multi_class='auto')\n",
    "\n",
    "\n",
    "M2 = model.fit(Z3_train, y_train.values.ravel())\n",
    "\n",
    "y_pred = M2.predict(Z3_test)\n",
    "y_probs = M2.predict_proba(Z3_test)\n",
    "\n",
    "\n",
    "auroc = np.round(roc_auc_score(y_true = y_test.values.ravel(), \n",
    "                             y_score = y_probs[:,1]), decimals = 3)\n",
    "print(auroc)\n",
    "fpr_t, tpr_t , _ = roc_curve(y_test, y_probs[:,1], pos_label = 1)\n",
    "\n",
    "fig, ax = plt.subplots(dpi = 120)\n",
    "\n",
    "ax = sns.lineplot(fpr_t, tpr_t)\n",
    "plt.xlabel('TPR=tp/p')\n",
    "plt.ylabel('FPR=fp/n')\n",
    "print(auc(fpr_t, tpr_t))"
   ]
  },
  {
   "cell_type": "code",
   "execution_count": 352,
   "id": "3f9ceef8",
   "metadata": {},
   "outputs": [
    {
     "name": "stdout",
     "output_type": "stream",
     "text": [
      "0.613\n"
     ]
    },
    {
     "name": "stderr",
     "output_type": "stream",
     "text": [
      "/Library/Frameworks/Python.framework/Versions/3.8/lib/python3.8/site-packages/seaborn/_decorators.py:36: FutureWarning: Pass the following variables as keyword args: x, y. From version 0.12, the only valid positional argument will be `data`, and passing other arguments without an explicit keyword will result in an error or misinterpretation.\n",
      "  warnings.warn(\n"
     ]
    },
    {
     "name": "stdout",
     "output_type": "stream",
     "text": [
      "0.6129247464863904\n"
     ]
    },
    {
     "data": {
      "image/png": "[encoded data removed]",
      "text/plain": [
       "<Figure size 720x480 with 1 Axes>"
      ]
     },
     "metadata": {
      "needs_background": "light"
     },
     "output_type": "display_data"
    }
   ],
   "source": [
    "# Autoencoder dataset regression and AUC plot / calculation\n",
    "Z4_train = auto_enc.encoder(Xtrain_scaled).detach().numpy()\n",
    "Z4_test = auto_enc.encoder(Xtest_scaled).detach().numpy()\n",
    "\n",
    "model = LogisticRegressionCV(cv =5, max_iter = 1000000, multi_class='auto')\n",
    "\n",
    "\n",
    "M3 = model.fit(Z4_train, y_train.values.ravel())\n",
    "\n",
    "y_pred = M3.predict(Z4_test)\n",
    "y_probs = M3.predict_proba(Z4_test)\n",
    "\n",
    "\n",
    "auroc = np.round(roc_auc_score(y_true = y_test.values.ravel(), \n",
    "                             y_score = y_probs[:,1]), decimals = 3)\n",
    "print(auroc)\n",
    "fpr_t, tpr_t , _ = roc_curve(y_test, y_probs[:,1], pos_label = 1)\n",
    "\n",
    "fig, ax = plt.subplots(dpi = 120)\n",
    "\n",
    "ax = sns.lineplot(fpr_t, tpr_t)\n",
    "plt.xlabel('TPR=tp/p')\n",
    "plt.ylabel('FPR=fp/n')\n",
    "print(auc(fpr_t, tpr_t))"
   ]
  },
  {
   "cell_type": "markdown",
   "id": "43746494",
   "metadata": {},
   "source": [
    "**Written answer:**"
   ]
  }
 ],
 "metadata": {
  "kernelspec": {
   "display_name": "Python 3 (ipykernel)",
   "language": "python",
   "name": "python3"
  },
  "language_info": {
   "codemirror_mode": {
    "name": "ipython",
    "version": 3
   },
   "file_extension": ".py",
   "mimetype": "text/x-python",
   "name": "python",
   "nbconvert_exporter": "python",
   "pygments_lexer": "ipython3",
   "version": "3.8.9"
  }
 },
 "nbformat": 4,
 "nbformat_minor": 5
}
