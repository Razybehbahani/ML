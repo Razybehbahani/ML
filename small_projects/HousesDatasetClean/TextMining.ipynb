{
 "cells": [
  {
   "cell_type": "markdown",
   "id": "2b2413cd",
   "metadata": {},
   "source": [
    "# Text Mining using Dimensionality Reduction Methods\n",
    "\n",
    "\n",
    "This dataset comes from the website [Internet Movie Database](https://www.imdb.com/), and represents 1,000 reviews which were labeled (by humans) as positive or negative, see [here](http://ai.stanford.edu/~amaas/data/sentiment/) for more details. In this coursework, we will study how we can use dimensionality reduction methods to improve our understanding of text data and to predict the sentiment of a set of texts. This application of data science is called [sentiment analysis](https://en.wikipedia.org/wiki/Sentiment_analysis) and it is widely used across many fields to get automated feedback when text opinions are expressed. While most modern methods of sentiment analysis are using complex deep learning methods, the tools we have learned can be applied to get a good idea of what our users are expressing."
   ]
  },
  {
   "cell_type": "code",
   "execution_count": 1,
   "id": "a0346095",
   "metadata": {},
   "outputs": [],
   "source": [
    "# Import other packages if you need them!\n",
    "import numpy as np\n",
    "import pandas as pd\n",
    "import torch\n",
    "import torch.nn as nn\n",
    "import torch.nn.functional as F\n",
    "import sklearn.feature_extraction.text as sktext\n",
    "from sklearn.decomposition import PCA\n",
    "from sklearn.linear_model import LogisticRegressionCV, LogisticRegression\n",
    "from sklearn.model_selection import train_test_split\n",
    "from sklearn.metrics import roc_curve, roc_auc_score, auc\n",
    "\n",
    "\n",
    "# Plotting\n",
    "import matplotlib.pyplot as plt \n",
    "import seaborn as sns\n",
    "from mpl_toolkits.mplot3d import Axes3D\n",
    "%matplotlib inline"
   ]
  },
  {
   "cell_type": "markdown",
   "id": "859cb12a",
   "metadata": {},
   "source": [
    "## Data import\n",
    "\n",
    "The dataset comes with the text and a binary variable which represents the sentiment, either positive or negative. The following code imports the data, splits it into train and test, and applies the [Tf-Idf transform](https://scikit-learn.org/stable/modules/generated/sklearn.feature_extraction.text.TfidfTransformer.html)."
   ]
  },
  {
   "cell_type": "code",
   "execution_count": 18,
   "id": "fbc2e81f",
   "metadata": {},
   "outputs": [
    {
     "name": "stdout",
     "output_type": "stream",
     "text": [
      "                                               texts  class\n",
      "0  Lars Von Triers Europa is an extremely good fi...      1\n",
      "1  Emily Watson's Natalia is absolutely the most ...      1\n",
      "2  Two thirds of nearly 2,000 IMDb users who have...      1\n",
      "3  This is what I was expecting when star trek DS...      1\n",
      "4  An ultra-nervous old man, \"Mr. Goodrich,\" terr...      1\n",
      "\n",
      "As an example\n",
      "Text:  Rating \"10/10\" Master pieceSome years ago, i heard Spielberg comment that he would redo the movie here and there if he had a chance. Well, Mr Spielberg, i guess nothing is perfect, but this movie - together with schindler's List - is your best. Even Oprah acts well in this one !What got me most is the realism of the story and drama. Stuff like this happened and is still happening in the world.'\n",
      "Class:  1\n",
      "\n",
      "*****************\n",
      "To see what happens after applying TfIDF\n",
      "  (0, 234)\t0.2995571399523656\n",
      "  (0, 228)\t0.31845387467961445\n",
      "  (0, 51)\t0.3969415589322562\n",
      "  (0, 111)\t0.1939070474462102\n",
      "  (0, 0)\t0.5576500961578521\n",
      "  (0, 83)\t0.3243705784118214\n",
      "  (0, 134)\t0.2689214200650097\n",
      "  (0, 192)\t0.21692010935334918\n",
      "  (0, 18)\t0.2795123243302363\n",
      "\n",
      "The number of independent variables that texts are analyzed based on:\n",
      "236\n",
      "\n",
      "The same text as a dense matrix\n",
      "[0.5576501  0.         0.         0.         0.         0.\n",
      " 0.         0.         0.         0.         0.         0.\n",
      " 0.         0.         0.         0.         0.         0.\n",
      " 0.27951232 0.         0.         0.         0.         0.\n",
      " 0.         0.         0.         0.         0.         0.\n",
      " 0.         0.         0.         0.         0.         0.\n",
      " 0.         0.         0.         0.         0.         0.\n",
      " 0.         0.         0.         0.         0.         0.\n",
      " 0.         0.         0.         0.39694156 0.         0.\n",
      " 0.         0.         0.         0.         0.         0.\n",
      " 0.         0.         0.         0.         0.         0.\n",
      " 0.         0.         0.         0.         0.         0.\n",
      " 0.         0.         0.         0.         0.         0.\n",
      " 0.         0.         0.         0.         0.         0.32437058\n",
      " 0.         0.         0.         0.         0.         0.\n",
      " 0.         0.         0.         0.         0.         0.\n",
      " 0.         0.         0.         0.         0.         0.\n",
      " 0.         0.         0.         0.         0.         0.\n",
      " 0.         0.         0.         0.19390705 0.         0.\n",
      " 0.         0.         0.         0.         0.         0.\n",
      " 0.         0.         0.         0.         0.         0.\n",
      " 0.         0.         0.         0.         0.         0.\n",
      " 0.         0.         0.26892142 0.         0.         0.\n",
      " 0.         0.         0.         0.         0.         0.\n",
      " 0.         0.         0.         0.         0.         0.\n",
      " 0.         0.         0.         0.         0.         0.\n",
      " 0.         0.         0.         0.         0.         0.\n",
      " 0.         0.         0.         0.         0.         0.\n",
      " 0.         0.         0.         0.         0.         0.\n",
      " 0.         0.         0.         0.         0.         0.\n",
      " 0.         0.         0.         0.         0.         0.\n",
      " 0.         0.         0.         0.         0.         0.\n",
      " 0.21692011 0.         0.         0.         0.         0.\n",
      " 0.         0.         0.         0.         0.         0.\n",
      " 0.         0.         0.         0.         0.         0.\n",
      " 0.         0.         0.         0.         0.         0.\n",
      " 0.         0.         0.         0.         0.         0.\n",
      " 0.         0.         0.         0.         0.         0.\n",
      " 0.31845387 0.         0.         0.         0.         0.\n",
      " 0.29955714 0.        ]\n"
     ]
    }
   ],
   "source": [
    "imdb_data = pd.read_excel('IMDB_Sample.xlsx')\n",
    "print(imdb_data.head())\n",
    "\n",
    "# Scikit-Learn works by first defining the der \n",
    "TfIDFTransformer = sktext.TfidfVectorizer(strip_accents='unicode', # Eliminate accents and special characters\n",
    "                      stop_words='english', # Eliminates stop words.\n",
    "                      min_df = 0.05, # Eliminate words that do not appear in more than 5% of texts\n",
    "                      max_df = 0.95, # Eliminate words that appear in more than 95% of texts\n",
    "                      sublinear_tf=True # Use sublinear weights (softplus)\n",
    "                      )\n",
    "\n",
    "\n",
    "# Train / test split\n",
    "x_train, x_test, y_train, y_test = train_test_split(imdb_data['texts'],\n",
    "                                                    imdb_data['class'],\n",
    "                                                    test_size=0.3,\n",
    "                                                    random_state=20210318)\n",
    "print('\\nAs an example')\n",
    "print('Text: ',x_train.iloc[340])\n",
    "print('Class: ',y_train.iloc[340])\n",
    "\n",
    "# Calculate the Tf-Idf transform.\n",
    "TfIDF_train = TfIDFTransformer.fit_transform(x_train)\n",
    "TfIDF_test = TfIDFTransformer.transform(x_test)\n",
    "\n",
    "print('\\n*****************\\nTo see what happens after applying TfIDF')\n",
    "print(TfIDF_train[340,:])\n",
    "print('\\nThe number of independent variables that texts are analyzed based on:')\n",
    "print(TfIDF_train.shape[1])\n",
    "\n",
    "\n",
    "# Turn to dense matrix as PCA does not like sparse ones.\n",
    "TfIDF_train = TfIDF_train.toarray()\n",
    "TfIDF_test = TfIDF_test.toarray()\n",
    "\n",
    "print('\\nThe same text as a dense matrix')\n",
    "print(TfIDF_train[340,:])\n"
   ]
  },
  {
   "cell_type": "markdown",
   "id": "96941e6b",
   "metadata": {},
   "source": [
    "From here on, you will use the variables `TfIDF_train` and `TfIDF_test` as the input for the different tasks, and the `y_train` and `y_test` labels for each dataset (if required).  The output is a **sparse matrix** with the 236 words that do not appear in more than 95% of texts nor in less than 5% of texts. These matrices only store the relevant information! They are *much* more efficient in-memory.  Sadly, PCA nor torch deal very well with sparse matrices without further processing, so we turn them into dense matrices."
   ]
  },
  {
   "cell_type": "markdown",
   "id": "53ac25d8",
   "metadata": {},
   "source": [
    "Each column represents one word and each non-zero value represents the Tf-IDF weight as seen in the lectures. To find out which word is which in the index, you can use the [`TfIDFTransformer.get_feature_names()` method](https://scikit-learn.org/stable/modules/generated/sklearn.feature_extraction.text.TfidfTransformer.html)."
   ]
  },
  {
   "cell_type": "code",
   "execution_count": 40,
   "id": "cf45df8b",
   "metadata": {},
   "outputs": [
    {
     "name": "stdout",
     "output_type": "stream",
     "text": [
      "There are 236 words in the index.\n"
     ]
    }
   ],
   "source": [
    "print('There are %i words in the index.' % len(TfIDFTransformer.get_feature_names()))"
   ]
  },
  {
   "cell_type": "code",
   "execution_count": 94,
   "id": "d6c811ae",
   "metadata": {},
   "outputs": [
    {
     "data": {
      "text/plain": [
       "['10',\n",
       " 'absolutely',\n",
       " 'acting',\n",
       " 'action',\n",
       " 'actor',\n",
       " 'actors',\n",
       " 'actress',\n",
       " 'actually',\n",
       " 'age',\n",
       " 'amazing']"
      ]
     },
     "execution_count": 94,
     "metadata": {},
     "output_type": "execute_result"
    }
   ],
   "source": [
    "TfIDFTransformer.get_feature_names()[:10]\n"
   ]
  },
  {
   "cell_type": "markdown",
   "id": "065df6da",
   "metadata": {},
   "source": [
    "## Task 1: PCA decomposition of the texts\n",
    "\n",
    "Now you have the TfIDF matrix, We can start working on the data. As a first step, we want to explore what some commonly occuring concepts in the text reviews. We can do this using PCA. A PCA transform of the TF-IDF matrix will give you a basis of the text data, each representing a *concept* or set of words that are correlated. Correlation in text can be interpreted as a relation to a similar topic.\n",
    "\n",
    "1. First, calculate a PCA transform of the training data using the **maximum** number of concepts possible. Make a plot of the explained variance that shows the cumulative explained variance per number of concepts. \n",
    "\n",
    "**Written answer: Exactly how many concepts do you need to correctly explain at least 75% of the data? (note we need the exact # of concepts)**  [15 pts]"
   ]
  },
  {
   "cell_type": "code",
   "execution_count": 56,
   "id": "1a100d49",
   "metadata": {
    "scrolled": false
   },
   "outputs": [
    {
     "data": {
      "text/html": [
       "<div>\n",
       "<style scoped>\n",
       "    .dataframe tbody tr th:only-of-type {\n",
       "        vertical-align: middle;\n",
       "    }\n",
       "\n",
       "    .dataframe tbody tr th {\n",
       "        vertical-align: top;\n",
       "    }\n",
       "\n",
       "    .dataframe thead th {\n",
       "        text-align: right;\n",
       "    }\n",
       "</style>\n",
       "<table border=\"1\" class=\"dataframe\">\n",
       "  <thead>\n",
       "    <tr style=\"text-align: right;\">\n",
       "      <th></th>\n",
       "      <th>Explained_var</th>\n",
       "    </tr>\n",
       "    <tr>\n",
       "      <th>Component</th>\n",
       "      <th></th>\n",
       "    </tr>\n",
       "  </thead>\n",
       "  <tbody>\n",
       "    <tr>\n",
       "      <th>1</th>\n",
       "      <td>0.019683</td>\n",
       "    </tr>\n",
       "    <tr>\n",
       "      <th>2</th>\n",
       "      <td>0.015244</td>\n",
       "    </tr>\n",
       "    <tr>\n",
       "      <th>3</th>\n",
       "      <td>0.013678</td>\n",
       "    </tr>\n",
       "    <tr>\n",
       "      <th>4</th>\n",
       "      <td>0.013156</td>\n",
       "    </tr>\n",
       "    <tr>\n",
       "      <th>5</th>\n",
       "      <td>0.012507</td>\n",
       "    </tr>\n",
       "    <tr>\n",
       "      <th>...</th>\n",
       "      <td>...</td>\n",
       "    </tr>\n",
       "    <tr>\n",
       "      <th>232</th>\n",
       "      <td>0.000793</td>\n",
       "    </tr>\n",
       "    <tr>\n",
       "      <th>233</th>\n",
       "      <td>0.000770</td>\n",
       "    </tr>\n",
       "    <tr>\n",
       "      <th>234</th>\n",
       "      <td>0.000735</td>\n",
       "    </tr>\n",
       "    <tr>\n",
       "      <th>235</th>\n",
       "      <td>0.000724</td>\n",
       "    </tr>\n",
       "    <tr>\n",
       "      <th>236</th>\n",
       "      <td>0.000666</td>\n",
       "    </tr>\n",
       "  </tbody>\n",
       "</table>\n",
       "<p>236 rows × 1 columns</p>\n",
       "</div>"
      ],
      "text/plain": [
       "           Explained_var\n",
       "Component               \n",
       "1               0.019683\n",
       "2               0.015244\n",
       "3               0.013678\n",
       "4               0.013156\n",
       "5               0.012507\n",
       "...                  ...\n",
       "232             0.000793\n",
       "233             0.000770\n",
       "234             0.000735\n",
       "235             0.000724\n",
       "236             0.000666\n",
       "\n",
       "[236 rows x 1 columns]"
      ]
     },
     "metadata": {},
     "output_type": "display_data"
    },
    {
     "data": {
      "image/png": "[encoded data removed]",
      "text/plain": [
       "<Figure size 432x288 with 1 Axes>"
      ]
     },
     "metadata": {
      "needs_background": "light"
     },
     "output_type": "display_data"
    }
   ],
   "source": [
    "\n",
    "PCA_IMDB = PCA(n_components = 236)\n",
    "PCA_IMDB.fit(TfIDF_train)\n",
    "PCA_variances = PCA_IMDB.explained_variance_ratio_\n",
    "\n",
    "\n",
    "DF = (pd.DataFrame({'Component':[i for i in range(1,237)],\n",
    "                    'Explained_var': PCA_variances.round(6)}).set_index('Component'))\n",
    "\n",
    "display(DF)\n",
    "\n",
    "### Make the plot\n",
    "    \n",
    "plt.plot(np.arange(1, 237), np.cumsum(PCA_variances), 'b')\n",
    "plt.hlines(0.75, xmin=1, xmax=237, colors='r', ls='dashed')\n",
    "plt.xlabel('Number of concepts')\n",
    "plt.ylabel('Explained variance %')\n",
    "plt.show()\n",
    "    "
   ]
  },
  {
   "cell_type": "code",
   "execution_count": 25,
   "id": "1bfea10a",
   "metadata": {},
   "outputs": [
    {
     "name": "stdout",
     "output_type": "stream",
     "text": [
      "The min number of concepts to correctly explain at least 75% of data is: 113 \n"
     ]
    },
    {
     "data": {
      "text/plain": [
       "113"
      ]
     },
     "execution_count": 25,
     "metadata": {},
     "output_type": "execute_result"
    }
   ],
   "source": [
    "# To get the exact index where the variance is above 75%\n",
    "for j in range(len(Cum_variance)):\n",
    "    if Cum_variance[j] > 0.75:\n",
    "        print(f'The min number of concepts to correctly explain at least 75% of data is: {j} ')\n",
    "        break\n",
    "        \n",
    "np.argwhere(np.cumsum(PCA_1.explained_variance_ratio_)>0.75).min()\n",
    "\n"
   ]
  },
  {
   "cell_type": "markdown",
   "id": "d81a078d",
   "metadata": {},
   "source": [
    "**Written answer:** We need at least 113 parameters to accurately predict 75% of the data."
   ]
  },
  {
   "cell_type": "markdown",
   "id": "a3b66884",
   "metadata": {},
   "source": [
    "2. Study the first three concepts. To do this, show the 10 words that are the most important in the each of these three concepts (as revealed by the absolute value of the PCA weight in each concept).\n",
    "\n",
    "**Written answer: What is the cumulative variance explained by these three concepts? What would you name each of these concepts?** [10 pts]\n",
    "*Hint: if in a concept you would get the words 'dog', 'cat', 'fish' as the most important ones, you could name the concept 'animals' or 'pets'.*"
   ]
  },
  {
   "cell_type": "code",
   "execution_count": 58,
   "id": "83455d72",
   "metadata": {},
   "outputs": [
    {
     "name": "stdout",
     "output_type": "stream",
     "text": [
      "The first three components explain 4.86% of the variance\n"
     ]
    }
   ],
   "source": [
    "# Explained variance.\n",
    "print('The first three components explain %.2f%% of the variance' % (np.cumsum(PCA_variances)[2] * 100))"
   ]
  },
  {
   "cell_type": "code",
   "execution_count": 63,
   "id": "970d8276",
   "metadata": {},
   "outputs": [],
   "source": [
    "# Get words per component\n",
    "words_per_row = TfIDFTransformer.get_feature_names()\n",
    "\n",
    "most_important = [np.argpartition(np.abs(PCA_IMDB.components_[i]), -10)[-10:] for i in range(3)]"
   ]
  },
  {
   "cell_type": "code",
   "execution_count": 64,
   "id": "ca25c4d5",
   "metadata": {
    "scrolled": false
   },
   "outputs": [
    {
     "data": {
      "text/plain": [
       "['don',\n",
       " 'best',\n",
       " 'woman',\n",
       " 'films',\n",
       " 'like',\n",
       " 'movies',\n",
       " 'film',\n",
       " 'bad',\n",
       " 'watch',\n",
       " 'movie']"
      ]
     },
     "execution_count": 64,
     "metadata": {},
     "output_type": "execute_result"
    }
   ],
   "source": [
    "# Concept 1\n",
    "[words_per_row[i] for i in most_important[0]]\n"
   ]
  },
  {
   "cell_type": "code",
   "execution_count": 65,
   "id": "56a40fd8",
   "metadata": {
    "scrolled": false
   },
   "outputs": [
    {
     "data": {
      "text/plain": [
       "['say',\n",
       " 'love',\n",
       " 'films',\n",
       " 'film',\n",
       " 'like',\n",
       " 'great',\n",
       " 'way',\n",
       " 'series',\n",
       " 'story',\n",
       " 'bad']"
      ]
     },
     "execution_count": 65,
     "metadata": {},
     "output_type": "execute_result"
    }
   ],
   "source": [
    "# Concept 2\n",
    "[words_per_row[i] for i in most_important[1]]"
   ]
  },
  {
   "cell_type": "code",
   "execution_count": 66,
   "id": "90c01aea",
   "metadata": {},
   "outputs": [
    {
     "data": {
      "text/plain": [
       "['new',\n",
       " 'acting',\n",
       " 'old',\n",
       " 'seen',\n",
       " 'funny',\n",
       " 'star',\n",
       " 'man',\n",
       " 'series',\n",
       " 'movie',\n",
       " 'film']"
      ]
     },
     "execution_count": 66,
     "metadata": {},
     "output_type": "execute_result"
    }
   ],
   "source": [
    "# Concept 3\n",
    "[words_per_row[i] for i in most_important[2]]"
   ]
  },
  {
   "cell_type": "code",
   "execution_count": 43,
   "id": "e5ea9a2f",
   "metadata": {},
   "outputs": [
    {
     "name": "stdout",
     "output_type": "stream",
     "text": [
      "The cumulative variance for the first three components is : 0.048605\n"
     ]
    }
   ],
   "source": [
    "acc_var = 0\n",
    "for j in range(1,4):\n",
    "    acc_var += DF.Explained_var[j]  \n",
    "    \n",
    "print(f\"The cumulative variance for the first three components is : {round(acc_var,6)}\")"
   ]
  },
  {
   "cell_type": "markdown",
   "id": "f420f9ae",
   "metadata": {},
   "source": [
    "**answer:** \n",
    " There are several interpretations that can be done here, but in general we can say that the first component identifies movies with generally an `intense sentiment` (\"best\", \"like\", \"bad\", etc.), the second one could be `movies with a story` (good and bad ones) and the third one `hints at comedies`."
   ]
  },
  {
   "cell_type": "markdown",
   "id": "847de483",
   "metadata": {},
   "source": [
    "3. Apply the PCA transformation to the test dataset. Using only the first two components, make a scatter plot of the cases. Identify positive and negative cases by colouring points with different sentiments with different colours. \n",
    "\n",
    "**Written answer: What can you say about where the positive and negative cases lie in your plot? Could we use these concepts to discriminate positive and negative cases? If yes, why? If no, why not? Discuss your findings.** [10 pts]"
   ]
  },
  {
   "cell_type": "code",
   "execution_count": 73,
   "id": "6a9984ce",
   "metadata": {
    "scrolled": false
   },
   "outputs": [
    {
     "data": {
      "image/png": "[encoded data removed]",
      "text/plain": [
       "<Figure size 432x288 with 1 Axes>"
      ]
     },
     "metadata": {
      "needs_background": "light"
     },
     "output_type": "display_data"
    }
   ],
   "source": [
    "# Apply the test data\n",
    "test_pca = PCA_IMDB.transform(TfIDF_test)\n",
    "\n",
    "# Plot the two different set of points filtering by label.\n",
    "\n",
    "fig = plt.figure()\n",
    "ax = fig.add_subplot(111)\n",
    "\n",
    "\n",
    "\n",
    "ax.scatter(test_pca[:,0][y_test == 0], test_pca[:,1][y_test == 0],\\\n",
    "           marker='o', label='Negative sentiment')\n",
    "ax.scatter(test_pca[:,0][y_test == 1], test_pca[:,1][y_test == 1],\\\n",
    "           marker='^', label='Positive sentiment')\n",
    "\n",
    "ax.set_xlabel('Emotional responses')\n",
    "ax.set_ylabel('Story centric Movies')\n",
    "plt.legend()\n",
    "plt.show()"
   ]
  },
  {
   "cell_type": "markdown",
   "id": "4652f6be",
   "metadata": {},
   "source": [
    "**answer:** \n",
    "While the two components do not explain too much variance, there are two clear accumulation points. Several movies that are story-centric with a relatively low emotional response are characterized as good, while movies with little story and strong emotional response are poorly classified."
   ]
  },
  {
   "cell_type": "markdown",
   "id": "c26269ed",
   "metadata": {},
   "source": [
    "## Task 2: Autoencoders\n",
    "\n",
    "We will see now the ability of autoencoders to compress the data. Train an autoencoder that compresses the data to 60 neurons in the encoding layer, to be trained over the original TfIDF train dataset. Use a total of 5 fully connected layers going from 236 to 100 to 60 to 100 to 236 units. Use a relu non-linearity for each of them. Plot the reconstruction error (MSE) over the train set and the test set as you train every 100 rounds. \n",
    "\n",
    "**Written answer: After how many epochs does your best model reach convergence? Does your model overfit? If yes, why do you think this is? If no, why?**"
   ]
  },
  {
   "cell_type": "code",
   "execution_count": 74,
   "id": "69745532",
   "metadata": {},
   "outputs": [],
   "source": [
    "# Model architecture and definition\n",
    "class autoencoder(nn.Module):\n",
    "    def __init__(self):\n",
    "        super(autoencoder, self).__init__()\n",
    "        self.encoder = nn.Sequential(\n",
    "            nn.Linear(236,100),\n",
    "            nn.ReLU(inplace =True),\n",
    "            nn.Linear(100,60),\n",
    "            nn.ReLU(inplace =True),\n",
    "            )\n",
    "        self.decoder = nn.Sequential(\n",
    "            nn.Linear(60,100),\n",
    "            nn.ReLU(inplace =True),\n",
    "            nn.Linear(100,236),\n",
    "            nn.ReLU(inplace =True),\n",
    "            )\n",
    "\n",
    "    def forward(self, x):\n",
    "        x = self.encoder(x)\n",
    "        x = self.decoder(x)\n",
    "        return x"
   ]
  },
  {
   "cell_type": "code",
   "execution_count": 75,
   "id": "6469e112",
   "metadata": {},
   "outputs": [],
   "source": [
    "#build model\n",
    "auto_enc = autoencoder()\n",
    "\n",
    "#define loss function\n",
    "loss_fn = torch.nn.MSELoss()\n",
    "\n",
    "#define learning rate\n",
    "learning_rate = 1e-1\n",
    "\n",
    "#convert dataset to tensors\n",
    "x_train_tensor = torch.from_numpy(TfIDF_train).float()\n",
    "x_test_tensor = torch.from_numpy(TfIDF_test).float()\n",
    "\n",
    "\n",
    "##train model\n",
    "loss_per_batch_train = []\n",
    "loss_per_batch_test = []\n",
    "\n",
    "for t in range(5000):\n",
    "    train_aut = auto_enc(x_train_tensor)\n",
    "    loss = loss_fn(x_train_tensor, train_aut)      # what we get from autoencoder is X^\n",
    "    if t % 100 == 99:\n",
    "        test_aut = auto_enc(x_test_tensor)\n",
    "        loss_test = loss_fn(x_test_tensor, test_aut)\n",
    "        loss_per_batch_test.append(loss_test.item())\n",
    "        loss_per_batch_train.append(loss.item())\n",
    "    auto_enc.zero_grad()\n",
    "    loss.backward()\n",
    "    with torch.no_grad():\n",
    "        for param in auto_enc.parameters():\n",
    "            param -= learning_rate * param.grad \n"
   ]
  },
  {
   "cell_type": "code",
   "execution_count": 77,
   "id": "9f46f8c2",
   "metadata": {},
   "outputs": [
    {
     "data": {
      "image/png": "[encoded data removed]",
      "text/plain": [
       "<Figure size 432x288 with 1 Axes>"
      ]
     },
     "metadata": {
      "needs_background": "light"
     },
     "output_type": "display_data"
    }
   ],
   "source": [
    "# Plot errors\n",
    "\n",
    "plt.plot(loss_per_batch_test, 'r', label='Test loss')\n",
    "plt.plot(loss_per_batch_train, 'b', label='Training loss')\n",
    "plt.xlabel('Epoch (x100)')\n",
    "plt.ylabel('MSE')\n",
    "plt.legend()\n",
    "plt.show()"
   ]
  },
  {
   "cell_type": "markdown",
   "id": "f4427a3d",
   "metadata": {},
   "source": [
    "**answer:** The autoencoder reaches stability after approximately 2000 epochs, and that it performs equivalently for train and test. The model does not overfit, which is to be expected: an autoencoder is simply a compression algorithm, so it always reduces information, thus it cannot overfit as there is no noise that could be learnt (it would always be discarded)"
   ]
  },
  {
   "cell_type": "markdown",
   "id": "dba30949",
   "metadata": {},
   "source": [
    "## Task 3: Benchmarking predictive capabilities of the compressed data.\n",
    "\n",
    "For the final task, you will benchmark the different compression algorithms over the original data. For this:\n",
    "\n",
    "1. Train a regularized logistic regression over the original TfIDF train set (with no compression) to predict the positive / negative class label for each movie. Calculate the AUROC over the test set.\n",
    "2. Train a regularized logistic regression over the PCA-reduced dataset (with 60 components), and calculate the AUROC over the PCA-transformed test set.\n",
    "3. Train a regularized logistic regression over the encoded dataset (with 60 variables), and calculate AUROC over the encoded test set.\n",
    "\n",
    "**Written answer 1: Compare the performance of the three models: how do they compare?**\n",
    "\n",
    "**Written answer 2: Which of the two compression methods (methods 2 and 3) is better at compressing the data without altering its predictive capacity? Why do you think this happens?**"
   ]
  },
  {
   "cell_type": "code",
   "execution_count": 89,
   "id": "71fd2b2f",
   "metadata": {},
   "outputs": [
    {
     "name": "stderr",
     "output_type": "stream",
     "text": [
      "/Users/razbeh/Library/Python/3.8/lib/python/site-packages/seaborn/_decorators.py:36: FutureWarning: Pass the following variables as keyword args: x, y. From version 0.12, the only valid positional argument will be `data`, and passing other arguments without an explicit keyword will result in an error or misinterpretation.\n",
      "  warnings.warn(\n"
     ]
    },
    {
     "data": {
      "image/png": "[encoded data removed]",
      "text/plain": [
       "<Figure size 720x480 with 1 Axes>"
      ]
     },
     "metadata": {
      "needs_background": "light"
     },
     "output_type": "display_data"
    }
   ],
   "source": [
    "# Full dataset regression and AUC plot / calculation\n",
    "\n",
    "LogRegFull = LogisticRegressionCV(cv =5, max_iter = 1000, multi_class='auto')\n",
    "\n",
    "LogRegFull.fit(TfIDF_train, y_train.values.ravel())\n",
    "\n",
    "y_pred = LogRegFull.predict(TfIDF_test)\n",
    "y_probs = LogRegFull.predict_proba(TfIDF_test)\n",
    "\n",
    "\n",
    "auroc = np.round(roc_auc_score(y_true = y_test.values.ravel(), \n",
    "                             y_score = y_probs[:,1]), decimals = 3)\n",
    "\n",
    "fpr_t, tpr_t , _ = roc_curve(y_test, y_probs[:,1], pos_label = 1)\n",
    "\n",
    "fig, ax = plt.subplots(dpi = 120)\n",
    "\n",
    "ax = sns.lineplot(fpr_t, tpr_t)\n",
    "plt.xlabel('TPR=tp/p')\n",
    "plt.ylabel('FPR=fp/n')\n",
    "plt.title('Train and test over original TfIDF datasets, auc='+str(auroc))\n",
    "plt.show()"
   ]
  },
  {
   "cell_type": "code",
   "execution_count": 90,
   "id": "f63ae355",
   "metadata": {},
   "outputs": [
    {
     "name": "stderr",
     "output_type": "stream",
     "text": [
      "/Users/razbeh/Library/Python/3.8/lib/python/site-packages/seaborn/_decorators.py:36: FutureWarning: Pass the following variables as keyword args: x, y. From version 0.12, the only valid positional argument will be `data`, and passing other arguments without an explicit keyword will result in an error or misinterpretation.\n",
      "  warnings.warn(\n"
     ]
    },
    {
     "data": {
      "image/png": "[encoded data removed]",
      "text/plain": [
       "<Figure size 720x480 with 1 Axes>"
      ]
     },
     "metadata": {
      "needs_background": "light"
     },
     "output_type": "display_data"
    }
   ],
   "source": [
    "# PCA dataset regression and AUC plot / calculation\n",
    "\n",
    "PCA_IMDB = PCA(n_components = 60)\n",
    "\n",
    "x_train_pca = PCA_IMDB.fit_transform(TfIDF_train)\n",
    "x_test_pca = PCA_IMDB.transform(TfIDF_test)\n",
    "\n",
    "\n",
    "LogRegPCA = LogisticRegressionCV(cv =5, max_iter = 1000, multi_class='auto')\n",
    "\n",
    "\n",
    "LogRegPCA.fit(x_train_pca, y_train.values.ravel())\n",
    "\n",
    "y_pred = LogRegPCA.predict(x_test_pca)\n",
    "y_probs = LogRegPCA.predict_proba(x_test_pca)\n",
    "\n",
    "\n",
    "auroc = np.round(roc_auc_score(y_true = y_test.values.ravel(), \n",
    "                             y_score = y_probs[:,1]), decimals = 3)\n",
    "\n",
    "fpr_t, tpr_t , _ = roc_curve(y_test, y_probs[:,1], pos_label = 1)\n",
    "\n",
    "fig, ax = plt.subplots(dpi = 120)\n",
    "\n",
    "ax = sns.lineplot(fpr_t, tpr_t)\n",
    "plt.xlabel('TPR=tp/p')\n",
    "plt.ylabel('FPR=fp/n')\n",
    "\n",
    "plt.title('Train and test over PCA datasets, auc='+str(auroc))\n",
    "plt.show()"
   ]
  },
  {
   "cell_type": "code",
   "execution_count": 93,
   "id": "3f9ceef8",
   "metadata": {},
   "outputs": [
    {
     "name": "stderr",
     "output_type": "stream",
     "text": [
      "/Users/razbeh/Library/Python/3.8/lib/python/site-packages/seaborn/_decorators.py:36: FutureWarning: Pass the following variables as keyword args: x, y. From version 0.12, the only valid positional argument will be `data`, and passing other arguments without an explicit keyword will result in an error or misinterpretation.\n",
      "  warnings.warn(\n"
     ]
    },
    {
     "data": {
      "image/png": "[encoded data removed]",
      "text/plain": [
       "<Figure size 720x480 with 1 Axes>"
      ]
     },
     "metadata": {
      "needs_background": "light"
     },
     "output_type": "display_data"
    }
   ],
   "source": [
    "# Autoencoder dataset regression and AUC plot / calculation\n",
    "x_train_auto = auto_enc.encoder(x_train_tensor).detach().numpy()\n",
    "x_test_auto = auto_enc.encoder(x_test_tensor).detach().numpy()\n",
    "\n",
    "LogRegAuto = LogisticRegressionCV(cv =5, max_iter = 1000, multi_class='auto')\n",
    "\n",
    "\n",
    "LogRegAuto.fit(x_train_auto, y_train.values.ravel())\n",
    "\n",
    "y_pred = LogRegAuto.predict(x_test_auto)\n",
    "y_probs = LogRegAuto.predict_proba(x_test_auto)\n",
    "\n",
    "\n",
    "auroc = np.round(roc_auc_score(y_true = y_test.values.ravel(), \n",
    "                             y_score = y_probs[:,1]), decimals = 3)\n",
    "\n",
    "fpr_t, tpr_t , _ = roc_curve(y_test, y_probs[:,1], pos_label = 1)\n",
    "\n",
    "fig, ax = plt.subplots(dpi = 120)\n",
    "\n",
    "ax = sns.lineplot(fpr_t, tpr_t)\n",
    "plt.xlabel('TPR=tp/p')\n",
    "plt.ylabel('FPR=fp/n')\n",
    "plt.title('Train and test over Autoencoded PCA datasets, auc='+str(auroc))\n",
    "plt.show()"
   ]
  },
  {
   "cell_type": "markdown",
   "id": "43746494",
   "metadata": {},
   "source": [
    "**answer:** We can clearly see the PCA method is superior in keeping the predictive capability intact. The rotation method preserves most of the variance (around 50%), and this variance is related to the sentiment as we saw in task 1.1. The autoencoder, on the other hand, has no guarantees regarding the difference between the original data and the new variables. Besides, it is a non-linear method of compression, so logistic regression might not be the best method to measure its performance. In this case, PCA is clearly the superior alternative"
   ]
  },
  {
   "cell_type": "code",
   "execution_count": null,
   "id": "b2987084",
   "metadata": {},
   "outputs": [],
   "source": []
  }
 ],
 "metadata": {
  "kernelspec": {
   "display_name": "Python 3 (ipykernel)",
   "language": "python",
   "name": "python3"
  },
  "language_info": {
   "codemirror_mode": {
    "name": "ipython",
    "version": 3
   },
   "file_extension": ".py",
   "mimetype": "text/x-python",
   "name": "python",
   "nbconvert_exporter": "python",
   "pygments_lexer": "ipython3",
   "version": "3.8.9"
  }
 },
 "nbformat": 4,
 "nbformat_minor": 5
}
