{
 "cells": [
  {
   "cell_type": "code",
   "execution_count": 1,
   "id": "b41fbf0a",
   "metadata": {},
   "outputs": [],
   "source": [
    "import numpy as np\n",
    "import pandas as pd\n",
    "import seaborn as sns\n",
    "import matplotlib.pyplot as plt \n",
    "\n",
    "from sklearn.preprocessing import MinMaxScaler, PolynomialFeatures\n",
    "from sklearn.metrics import accuracy_score, mean_squared_error, r2_score\n",
    "from sklearn.model_selection import KFold\n",
    "from sklearn.model_selection import train_test_split, cross_val_score, GridSearchCV\n",
    "from sklearn.utils import shuffle\n",
    "from xgboost import XGBRegressor\n",
    "# import itertools\n",
    "# import time"
   ]
  },
  {
   "cell_type": "code",
   "execution_count": 2,
   "id": "ba18888e",
   "metadata": {},
   "outputs": [
    {
     "name": "stdout",
     "output_type": "stream",
     "text": [
      "Index(['Frequency', 'Speed', 'Amplitude', 'Passes', 'Focal_Position', 'Depth',\n",
      "       'Top_width', 'Bot_width'],\n",
      "      dtype='object')\n"
     ]
    }
   ],
   "source": [
    "df_0 = pd.read_csv('RawData/two_widths/Param0_2width.csv')\n",
    "df_1 = pd.read_csv('RawData/two_widths/Param1_2width.csv')\n",
    "df_2 = pd.read_csv('RawData/two_widths/Param2_2width.csv')\n",
    "df_3 = pd.read_csv('RawData/two_widths/Param3_2width.csv')\n",
    "df_4 = pd.read_csv('RawData/two_widths/Param4_2width.csv')\n",
    "\n",
    "df1 = pd.concat([df_0, df_1, df_2, df_3, df_4], axis = 0, ignore_index = True)\n",
    "print(df1.keys())\n",
    "df1 = shuffle(df1, random_state=20210614)"
   ]
  },
  {
   "cell_type": "code",
   "execution_count": 3,
   "id": "7e3c84a0",
   "metadata": {},
   "outputs": [
    {
     "name": "stdout",
     "output_type": "stream",
     "text": [
      "Index(['f or V', 'Speed', 'A', 'N', 'F$_l$', 'Depth', 'Top_width',\n",
      "       'Bot_width'],\n",
      "      dtype='object')\n"
     ]
    }
   ],
   "source": [
    "# ###------- normalizing data \n",
    "normalizer = MinMaxScaler()\n",
    "df_norm = normalizer.fit_transform(df1)\n",
    "\n",
    "column_names = ['f or V', 'Speed', 'A', 'N', 'F$_l$', 'Depth', 'Top_width', 'Bot_width']\n",
    "\n",
    "df = pd.DataFrame(df_norm, columns=column_names )\n",
    "print(df.keys())"
   ]
  },
  {
   "cell_type": "code",
   "execution_count": 4,
   "id": "4568dd07",
   "metadata": {},
   "outputs": [],
   "source": [
    "X = df.drop(['Depth', 'Top_width', 'Bot_width', 'Speed'], axis = 'columns')\n",
    "Dpt = df.Depth.values\n",
    "Topw = df.Top_width.values\n",
    "Botw = df.Bot_width.values\n",
    "\n",
    "##-------- split the data to training (80%) and test (20%) data sets\n",
    "Xtrain, Xtest,Dpt_train, Dpt_test, Topw_train, Topw_test, Botw_train, Botw_test  =\\\n",
    "            train_test_split(X, Dpt,Topw ,Botw ,\n",
    "            test_size = 0.2, random_state = 20210614)"
   ]
  },
  {
   "cell_type": "code",
   "execution_count": 5,
   "id": "81f3461b",
   "metadata": {},
   "outputs": [],
   "source": [
    "# ##-------- If you want to predict Depth\n",
    "Y_train1 = np.c_[Dpt_train]\n",
    "Y_test1 = np.c_[Dpt_test]\n",
    "\n",
    "# # # ##-------- If you want to predict Top width\n",
    "Y_train2 = np.c_[Topw_train]\n",
    "Y_test2 = np.c_[Topw_test]\n",
    "\n",
    "\n",
    "# # # # ##-------- If you want to predict Bottom width\n",
    "Y_train3 = np.c_[Botw_train]\n",
    "Y_test3 = np.c_[Botw_test]"
   ]
  },
  {
   "cell_type": "code",
   "execution_count": 20,
   "id": "b3eb859a",
   "metadata": {},
   "outputs": [],
   "source": [
    "\"\"\"\n",
    "Tree: as we don't have many data points we use\n",
    "XGBoosting and find the best params\n",
    "\"\"\"\n",
    "XGB_Dpt = XGBRegressor(max_depth=3,                 # Depth of each tree\n",
    "                            learning_rate=0.1,            # How much to shrink error in each subsequent training. Trade-off with no. estimators.\n",
    "                            n_estimators=100,             # How many trees to use, the more the better, but decrease learning rate if many used.\n",
    "                            verbosity=1,                  # If to show more errors or not.\n",
    "                            objective='reg:squarederror',  # Type of target variable. for classifieer use 'binary:logistic'\n",
    "                            booster='gbtree',             # What to boost. Trees in this case.\n",
    "                            n_jobs=4,                     # Parallel jobs to run. Set your processor number.\n",
    "                            gamma=0.001,                  # Minimum loss reduction required to make a further partition on a leaf node of the tree. (Controls growth!)\n",
    "                            subsample=1,              # Subsample ratio. Can set lower than 1. If we want perfect boosting\n",
    "                            colsample_bytree=1,           # Subsample ratio of columns when constructing each tree.\n",
    "                            colsample_bylevel=1,          # Subsample ratio of columns when constructing each level. 0.33 is similar to random forest. sqrt(no.var)\n",
    "                            colsample_bynode=1,           # Subsample ratio of columns when constructing each split.\n",
    "                            reg_alpha=1,                  # Regularizer for first fit. alpha = 1, lambda = 0 is LASSO.\n",
    "                            reg_lambda=0,                 # Regularizer for first fit.\n",
    "                            scale_pos_weight=1,           # Balancing of positive and negative weights.\n",
    "                            base_score=0.5,               # Global bias. Set to average of the target rate.\n",
    "                            random_state=20210614,        # Seed\n",
    "                            missing=1                  # How are nulls encoded?\n",
    "                            )\n",
    "\n",
    "param_grid = dict({'n_estimators': [50, 100],\n",
    "                    'max_depth': [5, 7, 9],\n",
    "                    'learning_rate': [0.01, 0.1],\n",
    "                    'subsample': [0.632, 1.] \n",
    "                  })\n",
    "\n",
    "# # Always a good idea to tune on a reduce sample of the train set, as we will call many functions.\n",
    "# val_train = bankloan_train_noWoE.sample(frac = 0.3,                 # The fraction to extract\n",
    "#                                        random_state = 20201107   # The seed\n",
    "#                                        )\n",
    "\n",
    "# Define grid search object.\n",
    "GridXGB = GridSearchCV(XGB_Dpt,        # Original XGB.\n",
    "                       param_grid,          # Parameter grid\n",
    "                       cv = 3,              # Number of cross validation folds.\n",
    "                       n_jobs = 4,          # Parallel jobs. -1 is \"all you have\"\n",
    "                       refit = False,       # If refit at the end with the best. We'll do it manually\n",
    "                       verbose = 1           # If to show what it is doing\n",
    "                      )\n",
    "\n",
    "\n"
   ]
  },
  {
   "cell_type": "code",
   "execution_count": 21,
   "id": "cff37274",
   "metadata": {},
   "outputs": [
    {
     "name": "stdout",
     "output_type": "stream",
     "text": [
      "Fitting 3 folds for each of 24 candidates, totalling 72 fits\n",
      "{'learning_rate': 0.1, 'max_depth': 5, 'n_estimators': 100, 'subsample': 0.632}\n"
     ]
    }
   ],
   "source": [
    "# Train grid search.\n",
    "GridXGB.fit(Xtrain, Y_train1)\n",
    "\n",
    "# Show best params\n",
    "print(GridXGB.best_params_)"
   ]
  },
  {
   "cell_type": "code",
   "execution_count": 22,
   "id": "848cfaf0",
   "metadata": {},
   "outputs": [],
   "source": [
    "\"\"\"let's look at the feature importance, using the XGB results\n",
    "for depth: \n",
    "{'learning_rate': 0.1, 'max_depth': 5, 'n_estimators': 100, 'subsample': 0.632}\n",
    "\n",
    "for top width:\n",
    "{'learning_rate': 0.1, 'max_depth': 5, 'n_estimators': 50, 'subsample': 1.0}\n",
    "\n",
    "for bot width:\n",
    "{'learning_rate': 0.1, 'max_depth': 5, 'n_estimators': 100, 'subsample': 0.632}\n",
    "\n",
    "\"\"\"\n",
    "\n",
    "XGB = XGBRegressor(max_depth=GridXGB.best_params_.get('max_depth'),                 # Depth of each tree\n",
    "                    learning_rate=GridXGB.best_params_.get('learning_rate'),            # How much to shrink error in each subsequent training. Trade-off with no. estimators.\n",
    "                    n_estimators=GridXGB.best_params_.get('n_estimators'),             # How many trees to use, the more the better, but decrease learning rate if many used.\n",
    "                    verbosity=1,                  # If to show more errors or not.\n",
    "                    objective='reg:squarederror',  # Type of target variable. for classifieer use 'binary:logistic'\n",
    "                    booster='gbtree',             # What to boost. Trees in this case.\n",
    "                    n_jobs=4,                     # Parallel jobs to run. Set your processor number.\n",
    "                    gamma=0.001,                  # Minimum loss reduction required to make a further partition on a leaf node of the tree. (Controls growth!)\n",
    "                    subsample=GridXGB.best_params_.get('subsample'),              # Subsample ratio. Can set lower than 1. If we want perfect boosting\n",
    "                    colsample_bytree=1,           # Subsample ratio of columns when constructing each tree.\n",
    "                    colsample_bylevel=1,          # Subsample ratio of columns when constructing each level. 0.33 is similar to random forest. sqrt(no.var)\n",
    "                    colsample_bynode=1,           # Subsample ratio of columns when constructing each split.\n",
    "                    reg_alpha=1,                  # Regularizer for first fit. alpha = 1, lambda = 0 is LASSO.\n",
    "                    reg_lambda=0,                 # Regularizer for first fit.\n",
    "                    scale_pos_weight=1,           # Balancing of positive and negative weights.\n",
    "                    base_score=0.5,               # Global bias. Set to average of the target rate.\n",
    "                    random_state=20210614,        # Seed\n",
    "                    missing=1                  # How are nulls encoded?\n",
    "                    )\n",
    "\n"
   ]
  },
  {
   "cell_type": "code",
   "execution_count": 23,
   "id": "81331045",
   "metadata": {},
   "outputs": [],
   "source": [
    "# XGB.fit(Xtrain, Y_train1)\n",
    "\n",
    "# importance = XGB.feature_importances_\n",
    "\n",
    "# indices = np.argsort(importance)[::-1]\n",
    "\n",
    "# f, ax = plt.subplots(figsize=(5, 5))\n",
    "# plt.title(\"Variable Importance on depth prediction\", fontsize=20)\n",
    "# sns.set_color_codes(\"muted\")\n",
    "# sns.barplot(y = [Xtrain.columns[i] for i in indices],\n",
    "#             x = importance[indices], capsize=40)\n",
    "\n",
    "# ax.set(ylabel = 'Variable', xlabel = 'Variable Importance (Gini)')\n",
    "# sns.despine(left = True, bottom = True)\n",
    "\n",
    "# # plt.savefig('Graphs/VarImp_Ang.png',bbox_inches='tight')\n",
    "# plt.show()"
   ]
  },
  {
   "cell_type": "code",
   "execution_count": 24,
   "id": "26497a52",
   "metadata": {},
   "outputs": [
    {
     "data": {
      "image/png": "[encoded data removed]",
      "text/plain": [
       "<Figure size 360x360 with 1 Axes>"
      ]
     },
     "metadata": {},
     "output_type": "display_data"
    }
   ],
   "source": [
    "XGB.fit(Xtrain, Y_train1)\n",
    "\n",
    "importance = XGB.feature_importances_\n",
    "\n",
    "# indices = np.argsort(importance)[::-1]\n",
    "\n",
    "indices = np.arange(4)\n",
    "\n",
    "sns.set(font_scale = 1.5)\n",
    "f, ax = plt.subplots(figsize=(5, 5))\n",
    "# plt.title(\"Variable Importance on Angle prediction\", fontsize=20)\n",
    "sns.set_color_codes(\"muted\")\n",
    "sns.barplot(y = [Xtrain.columns[i] for i in indices],\n",
    "            x = importance[indices], capsize=40)\n",
    "\n",
    "ax.set(xlabel = 'Depth prediction feature importance')\n",
    "sns.despine(left = True, bottom = True)\n",
    "ax.annotate('(a)', xy = (0.6,0), fontsize=35)\n",
    "\n",
    "\n",
    "plt.savefig('Graphs/VarImp_depth.png',bbox_inches='tight')\n",
    "plt.show()"
   ]
  },
  {
   "cell_type": "code",
   "execution_count": 12,
   "id": "ac6e501e",
   "metadata": {},
   "outputs": [
    {
     "name": "stdout",
     "output_type": "stream",
     "text": [
      "Fitting 3 folds for each of 24 candidates, totalling 72 fits\n",
      "{'learning_rate': 0.1, 'max_depth': 5, 'n_estimators': 50, 'subsample': 1.0}\n"
     ]
    }
   ],
   "source": [
    "# Train grid search.\n",
    "GridXGB.fit(Xtrain, Y_train2)\n",
    "\n",
    "# Show best params\n",
    "print(GridXGB.best_params_)\n",
    "\n",
    "XGB = XGBRegressor(max_depth=GridXGB.best_params_.get('max_depth'),                 # Depth of each tree\n",
    "                    learning_rate=GridXGB.best_params_.get('learning_rate'),            # How much to shrink error in each subsequent training. Trade-off with no. estimators.\n",
    "                    n_estimators=GridXGB.best_params_.get('n_estimators'),             # How many trees to use, the more the better, but decrease learning rate if many used.\n",
    "                    verbosity=1,                  # If to show more errors or not.\n",
    "                    objective='reg:squarederror',  # Type of target variable. for classifieer use 'binary:logistic'\n",
    "                    booster='gbtree',             # What to boost. Trees in this case.\n",
    "                    n_jobs=4,                     # Parallel jobs to run. Set your processor number.\n",
    "                    gamma=0.001,                  # Minimum loss reduction required to make a further partition on a leaf node of the tree. (Controls growth!)\n",
    "                    subsample=GridXGB.best_params_.get('subsample'),              # Subsample ratio. Can set lower than 1. If we want perfect boosting\n",
    "                    colsample_bytree=1,           # Subsample ratio of columns when constructing each tree.\n",
    "                    colsample_bylevel=1,          # Subsample ratio of columns when constructing each level. 0.33 is similar to random forest. sqrt(no.var)\n",
    "                    colsample_bynode=1,           # Subsample ratio of columns when constructing each split.\n",
    "                    reg_alpha=1,                  # Regularizer for first fit. alpha = 1, lambda = 0 is LASSO.\n",
    "                    reg_lambda=0,                 # Regularizer for first fit.\n",
    "                    scale_pos_weight=1,           # Balancing of positive and negative weights.\n",
    "                    base_score=0.5,               # Global bias. Set to average of the target rate.\n",
    "                    random_state=20210614,        # Seed\n",
    "                    missing=1                  # How are nulls encoded?\n",
    "                    )"
   ]
  },
  {
   "cell_type": "code",
   "execution_count": 14,
   "id": "503e725d",
   "metadata": {},
   "outputs": [
    {
     "data": {
      "image/png": "[encoded data removed]",
      "text/plain": [
       "<Figure size 360x360 with 1 Axes>"
      ]
     },
     "metadata": {},
     "output_type": "display_data"
    }
   ],
   "source": [
    "XGB.fit(Xtrain, Y_train2)\n",
    "\n",
    "importance = XGB.feature_importances_\n",
    "\n",
    "# indices = np.argsort(importance)[::-1]\n",
    "\n",
    "indices = np.arange(4)\n",
    "\n",
    "sns.set(font_scale = 1.5)\n",
    "f, ax = plt.subplots(figsize=(5, 5))\n",
    "# plt.title(\"Variable Importance on Angle prediction\", fontsize=20)\n",
    "sns.set_color_codes(\"muted\")\n",
    "sns.barplot(y = [Xtrain.columns[i] for i in indices],\n",
    "            x = importance[indices], capsize=40)\n",
    "\n",
    "ax.set(xlabel = 'Top_w prediction feature importance')\n",
    "sns.despine(left = True, bottom = True)\n",
    "ax.annotate('(b)', xy = (0.65,0), fontsize=35)\n",
    "\n",
    "plt.savefig('Graphs/VarImp_Topwidth.png',bbox_inches='tight')\n",
    "plt.show()"
   ]
  },
  {
   "cell_type": "code",
   "execution_count": 15,
   "id": "7684947f",
   "metadata": {},
   "outputs": [
    {
     "name": "stdout",
     "output_type": "stream",
     "text": [
      "Fitting 3 folds for each of 24 candidates, totalling 72 fits\n",
      "{'learning_rate': 0.1, 'max_depth': 5, 'n_estimators': 100, 'subsample': 0.632}\n"
     ]
    }
   ],
   "source": [
    "# Train grid search.\n",
    "GridXGB.fit(Xtrain, Y_train3)\n",
    "\n",
    "# Show best params\n",
    "print(GridXGB.best_params_)\n",
    "\n",
    "XGB = XGBRegressor(max_depth=GridXGB.best_params_.get('max_depth'),                 # Depth of each tree\n",
    "                    learning_rate=GridXGB.best_params_.get('learning_rate'),            # How much to shrink error in each subsequent training. Trade-off with no. estimators.\n",
    "                    n_estimators=GridXGB.best_params_.get('n_estimators'),             # How many trees to use, the more the better, but decrease learning rate if many used.\n",
    "                    verbosity=1,                  # If to show more errors or not.\n",
    "                    objective='reg:squarederror',  # Type of target variable. for classifieer use 'binary:logistic'\n",
    "                    booster='gbtree',             # What to boost. Trees in this case.\n",
    "                    n_jobs=4,                     # Parallel jobs to run. Set your processor number.\n",
    "                    gamma=0.001,                  # Minimum loss reduction required to make a further partition on a leaf node of the tree. (Controls growth!)\n",
    "                    subsample=GridXGB.best_params_.get('subsample'),              # Subsample ratio. Can set lower than 1. If we want perfect boosting\n",
    "                    colsample_bytree=1,           # Subsample ratio of columns when constructing each tree.\n",
    "                    colsample_bylevel=1,          # Subsample ratio of columns when constructing each level. 0.33 is similar to random forest. sqrt(no.var)\n",
    "                    colsample_bynode=1,           # Subsample ratio of columns when constructing each split.\n",
    "                    reg_alpha=1,                  # Regularizer for first fit. alpha = 1, lambda = 0 is LASSO.\n",
    "                    reg_lambda=0,                 # Regularizer for first fit.\n",
    "                    scale_pos_weight=1,           # Balancing of positive and negative weights.\n",
    "                    base_score=0.5,               # Global bias. Set to average of the target rate.\n",
    "                    random_state=20210614,        # Seed\n",
    "                    missing=1                  # How are nulls encoded?\n",
    "                    )"
   ]
  },
  {
   "cell_type": "code",
   "execution_count": 19,
   "id": "5ecca55f",
   "metadata": {},
   "outputs": [
    {
     "data": {
      "image/png": "[encoded data removed]",
      "text/plain": [
       "<Figure size 360x360 with 1 Axes>"
      ]
     },
     "metadata": {},
     "output_type": "display_data"
    }
   ],
   "source": [
    "XGB.fit(Xtrain, Y_train3)\n",
    "\n",
    "importance = XGB.feature_importances_\n",
    "\n",
    "# indices = np.argsort(importance)[::-1]\n",
    "\n",
    "indices = np.arange(4)\n",
    "sns.set(font_scale = 1.5)\n",
    "f, ax = plt.subplots(figsize=(5, 5))\n",
    "\n",
    "# plt.title(\"Variable Importance on Angle prediction\", fontsize=20)\n",
    "# sns.set_color_codes(palette='deep')\n",
    "sns.set_color_codes(\"muted\")\n",
    "sns.barplot(y = [Xtrain.columns[i] for i in indices],\n",
    "            x = importance[indices], capsize=50)\n",
    "\n",
    "ax.set(xlabel = 'Bot_w prediction feature importance')\n",
    "sns.despine(left = True, bottom = True)\n",
    "ax.annotate('(c)', xy = (0.625,0), fontsize=35)\n",
    "# sns.set(font_scale = 2)\n",
    "plt.savefig('Graphs/VarImp_BotWidth.png',bbox_inches='tight')\n",
    "plt.show()"
   ]
  },
  {
   "cell_type": "code",
   "execution_count": null,
   "id": "64d9f52d",
   "metadata": {},
   "outputs": [],
   "source": []
  }
 ],
 "metadata": {
  "kernelspec": {
   "display_name": "Python 3",
   "language": "python",
   "name": "python3"
  },
  "language_info": {
   "codemirror_mode": {
    "name": "ipython",
    "version": 3
   },
   "file_extension": ".py",
   "mimetype": "text/x-python",
   "name": "python",
   "nbconvert_exporter": "python",
   "pygments_lexer": "ipython3",
   "version": "3.9.2"
  }
 },
 "nbformat": 4,
 "nbformat_minor": 5
}
