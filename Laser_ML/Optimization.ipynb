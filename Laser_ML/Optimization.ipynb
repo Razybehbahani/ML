{
 "cells": [
  {
   "cell_type": "code",
   "execution_count": 2,
   "id": "57ed9a9d",
   "metadata": {},
   "outputs": [],
   "source": [
    "import numpy as np\n",
    "import pandas as pd\n",
    "import seaborn as sns\n",
    "import matplotlib.pyplot as plt \n",
    "\n",
    "from sklearn.preprocessing import MinMaxScaler, PolynomialFeatures\n",
    "from sklearn.metrics import accuracy_score, mean_squared_error, r2_score\n",
    "from sklearn.model_selection import KFold\n",
    "from sklearn.model_selection import train_test_split, cross_val_score, GridSearchCV\n",
    "from sklearn.linear_model import LinearRegression, Ridge, Lasso\n",
    "from sklearn.pipeline import Pipeline\n",
    "from sklearn.compose import ColumnTransformer\n",
    "from sklearn.utils import shuffle\n",
    "\n",
    "# from IPython.display import clear_output\n",
    "import torch\n",
    "import torch.nn as nn\n",
    "from torch.utils.data import Dataset, TensorDataset, DataLoader\n",
    "\n",
    "# torch.manual_seed(20210614)\n",
    "\n",
    "import time\n"
   ]
  },
  {
   "cell_type": "markdown",
   "id": "a63cc03d",
   "metadata": {},
   "source": [
    "***Here we employ grid search, random and bayezian methods for finding the hyperparameters for the optimized NN structure.***\n",
    "\n",
    "We employ the following stages:\n",
    "\n",
    "- Reading the original data and separating the outputs \n",
    "- making train-test splits"
   ]
  },
  {
   "cell_type": "code",
   "execution_count": 9,
   "id": "d0e646eb",
   "metadata": {},
   "outputs": [],
   "source": [
    "\"\"\" Exp1, 2\"\"\"\n",
    "\n",
    "address = '/Volumes/GoogleDrive-117271245802891063093/My Drive/PostDoc/MLFE/ML-NRC-paper1/Data/'\n",
    "\n",
    "df_0 = pd.read_csv(address + 'Param0_2width.csv')\n",
    "df_1 = pd.read_csv(address +'Param1_2width.csv')\n",
    "df_2 = pd.read_csv(address +'Param2_2width.csv')\n",
    "df_3 = pd.read_csv(address +'Param3_2width.csv')\n",
    "df_4 = pd.read_csv(address +'Param4_2width.csv')\n",
    "\n",
    "combined_Exp = pd.concat([df_0, df_1, df_2, df_3, df_4], axis = 0, ignore_index = True)\n",
    "combined_Exp = shuffle(combined_Exp, random_state=20210614)\n",
    "\n",
    "###------- normalizing data \n",
    "normalizer = MinMaxScaler()\n",
    "df_norm = normalizer.fit_transform(combined_Exp)\n",
    "\n",
    "df = pd.DataFrame(df_norm, columns=combined_Exp.columns )\n",
    "\n",
    "\n",
    "X = df.drop(['Depth', 'Top_width', 'Bot_width', 'Speed'], axis = 'columns')\n",
    "Dpt = df.Depth.values\n",
    "Top_w = df.Top_width.values\n",
    "Bot_w = df.Bot_width.values\n",
    "\n",
    "##-------- split the data to training (80%) and test (20%) data sets\n",
    "Xtrain, Xtest, Dpt_train, Dpt_test, Topw_train, \\\n",
    "                Topw_test, Botw_train, Botw_test = train_test_split(X, Dpt, Top_w, Bot_w,\\\n",
    "                                                test_size = 0.1, random_state = 20210614)"
   ]
  },
  {
   "cell_type": "code",
   "execution_count": 10,
   "id": "e2267866",
   "metadata": {},
   "outputs": [],
   "source": [
    "# ##-------- If you want to predict Depth\n",
    "Y_train = np.c_[Dpt_train]\n",
    "Y_test = np.c_[Dpt_test]\n",
    "\n",
    "# # ##-------- If you want to predict top_width\n",
    "# Y_train = np.c_[Topw_train]\n",
    "# Y_test = np.c_[Topw_test]\n",
    "\n",
    "# # ##--------If you want to predict Bot_width\n",
    "# Y_train = np.c_[Botw_train]\n",
    "# Y_test = np.c_[Botw_test]"
   ]
  },
  {
   "cell_type": "code",
   "execution_count": 11,
   "id": "f68ffe94",
   "metadata": {},
   "outputs": [],
   "source": [
    "class Fare_Predictor(nn.Module):\n",
    "    def __init__(self, input_dim=4, no_layers=3, drp=0.2, output=1):\n",
    "        super().__init__()\n",
    "        if no_layers == 3:\n",
    "            self.net = nn.Sequential(\n",
    "                nn.Linear(input_dim, 128),\n",
    "                nn.ReLU(),\n",
    "                nn.Dropout(drp),\n",
    "                nn.Linear(128, 64),\n",
    "                nn.ReLU(),\n",
    "                nn.Dropout(drp),\n",
    "                nn.Linear(64, 32), \n",
    "                nn.ReLU(),\n",
    "                nn.Dropout(drp),\n",
    "                nn.Linear(32, output) \n",
    "            )\n",
    "        elif no_layers == 2:\n",
    "            self.net = nn.Sequential(\n",
    "                nn.Linear(input_dim, 128),\n",
    "                nn.ReLU(),\n",
    "                nn.Dropout(drp),\n",
    "                nn.Linear(64, 32),\n",
    "                nn.ReLU(),\n",
    "                nn.Dropout(drp),\n",
    "                nn.Linear(32, output) \n",
    "            )\n",
    "        \n",
    "    def forward(self, input):\n",
    "        return self.net(input)"
   ]
  },
  {
   "cell_type": "code",
   "execution_count": 12,
   "id": "9a30e58b",
   "metadata": {},
   "outputs": [],
   "source": [
    "def training(x_train=Xtrain, y_train=Y_train, x_test=Xtest, y_test=Y_test,\\\n",
    "             lr=0.001, l2=0.0001, batch_size=64, epochs=3000):\n",
    "    \n",
    "    torch.manual_seed(20210614)\n",
    "    losses=[]\n",
    "    \n",
    "    x_train, y_train, x_test, y_test = map(\n",
    "    torch.FloatTensor, (x_train.values, y_train, x_test.values, y_test)\n",
    "    )\n",
    "#     y_train = y_train.reshape(-1,1)\n",
    "#     y_test = y_test.reshape(-1,1)\n",
    "    \n",
    "    train_ds = TensorDataset(x_train, y_train)\n",
    "    train_dl = DataLoader(train_ds, batch_size=batch_size)\n",
    "    \n",
    "    model = Fare_Predictor()\n",
    "    \n",
    "    loss_func = nn.MSELoss()\n",
    "    optimizer = torch.optim.Adam(model.parameters(), lr = lr, weight_decay=l2)\n",
    "    \n",
    "    for epoch in range(epochs):\n",
    "        model.train()\n",
    "        for xb, yb in train_dl:\n",
    "            pred = model(xb)\n",
    "            loss = loss_func(pred, yb)\n",
    "            loss.backward()\n",
    "            optimizer.step()\n",
    "            optimizer.zero_grad()\n",
    "#         if epoch == 0 or epoch % 2 == 0:\n",
    "#             print(loss)\n",
    "        losses.append(loss)\n",
    "    plt.plot(losses)\n",
    "    model.eval()\n",
    "    pred = model(x_test)\n",
    "    y = y_test\n",
    "    mse = mean_squared_error(pred.detach().numpy(), y.detach().numpy())\n",
    "    print('MSE on test set: {}'.format(mse))\n",
    "#     return pred.detach().numpy()\n",
    "    return -mse\n",
    "        "
   ]
  },
  {
   "cell_type": "code",
   "execution_count": 13,
   "id": "e2c73f42",
   "metadata": {},
   "outputs": [
    {
     "name": "stdout",
     "output_type": "stream",
     "text": [
      "When the lr=0.001, l2= 0.0001, batch_size=64 and epochs=3000 are used for NN:\n",
      "MSE on test set: 0.005951165221631527\n"
     ]
    },
    {
     "data": {
      "text/plain": [
       "-0.005951165"
      ]
     },
     "execution_count": 13,
     "metadata": {},
     "output_type": "execute_result"
    },
    {
     "data": {
      "image/png": "[encoded data removed]",
      "text/plain": [
       "<Figure size 432x288 with 1 Axes>"
      ]
     },
     "metadata": {
      "needs_background": "light"
     },
     "output_type": "display_data"
    }
   ],
   "source": [
    "print('When the lr=0.001, l2= 0.0001, batch_size=64 and epochs=3000 are used for NN:')\n",
    "training()"
   ]
  },
  {
   "cell_type": "markdown",
   "id": "45066b85",
   "metadata": {},
   "source": [
    "## Grid Search:\n",
    "we can specify ranges for some parameters to grid search over and find the parameters corresponding to the smallest mse on training set"
   ]
  },
  {
   "cell_type": "code",
   "execution_count": 22,
   "id": "742c14b7",
   "metadata": {
    "scrolled": false
   },
   "outputs": [
    {
     "name": "stdout",
     "output_type": "stream",
     "text": [
      "Grid search takes 132.73 seconds to tune\n",
      "MSE on test set is :0.006689188546189147\n"
     ]
    }
   ],
   "source": [
    "from skorch import NeuralNetRegressor\n",
    "from sklearn.model_selection import GridSearchCV\n",
    "\n",
    "def gs_tune(x_train, y_train):\n",
    "    x_train , y_train = np.array(x_train), np.array(y_train)\n",
    "    x_train = x_train.astype(np.float32)\n",
    "    y_train = y_train.astype(np.float32)\n",
    "\n",
    "    net = NeuralNetRegressor(Fare_Predictor,\n",
    "                             optimizer = torch.optim.Adam\n",
    "                             , verbose = 0\n",
    "#                              , max_epochs = 3000\n",
    "#                              , lr = 0.001\n",
    "                             , batch_size = 64\n",
    "#                              , optimizer__weight_decay = .0001\n",
    "                            )\n",
    "    \n",
    "    param_grid = {   # arange([start,] stop[, step,], dtype=None)\n",
    "       'lr' : np.arange(1e-4, 1e-2, 0.005),\n",
    "#         'batch_size' : [16, 64],\n",
    "        'max_epochs' : np.arange(500, 2000, 1000), \n",
    "        'optimizer__weight_decay' : np.arange(1e-4, 1e-2, 0.005) \n",
    "    }\n",
    "    \n",
    "#     y_train = y_train.reshape(-1,1)\n",
    "    gs = GridSearchCV(net, param_grid, refit=True, cv = 2, scoring='neg_mean_squared_error')\n",
    "    gs.fit(x_train, y_train)\n",
    "    return gs\n",
    "\n",
    "start = time.time()\n",
    "grid_model = gs_tune(Xtrain, Y_train)\n",
    "end = time.time()\n",
    "\n",
    "print('Grid search takes {:.2f} seconds to tune'.format(end-start))\n",
    "x_test = np.array(Xtest)\n",
    "x_test = x_test.astype(np.float32)\n",
    "out = grid_model.predict(x_test)\n",
    "MSE = mean_squared_error(out, Y_test)\n",
    "print('MSE on test set is :{}'.format(MSE))\n",
    "    "
   ]
  },
  {
   "cell_type": "code",
   "execution_count": 23,
   "id": "1e5fd51f",
   "metadata": {},
   "outputs": [
    {
     "name": "stdout",
     "output_type": "stream",
     "text": [
      "{'lr': 0.0051, 'max_epochs': 1500, 'optimizer__weight_decay': 0.0001}\n"
     ]
    }
   ],
   "source": [
    "print(grid_model.best_params_)"
   ]
  },
  {
   "cell_type": "code",
   "execution_count": 25,
   "id": "e04c9c23",
   "metadata": {},
   "outputs": [
    {
     "name": "stdout",
     "output_type": "stream",
     "text": [
      "MSE on test set: 0.010715842247009277\n"
     ]
    },
    {
     "data": {
      "text/plain": [
       "-0.010715842"
      ]
     },
     "execution_count": 25,
     "metadata": {},
     "output_type": "execute_result"
    },
    {
     "data": {
      "image/png": "[encoded data removed]",
      "text/plain": [
       "<Figure size 432x288 with 1 Axes>"
      ]
     },
     "metadata": {
      "needs_background": "light"
     },
     "output_type": "display_data"
    }
   ],
   "source": [
    "training(x_train=Xtrain, y_train=Y_train, x_test=Xtest, y_test=Y_test,\\\n",
    "         lr=grid_model.best_params_.get('lr'),\\\n",
    "         l2=grid_model.best_params_.get('optimizer__weight_decay'),\\\n",
    "         batch_size=64,\\\n",
    "         epochs=grid_model.best_params_.get('max_epochs')\n",
    "        )"
   ]
  },
  {
   "cell_type": "markdown",
   "id": "7bd08956",
   "metadata": {},
   "source": [
    "## Random Search\n",
    "In random search values are taken n_iter times randomly from the specified ranges and their MSE are compared and the best parameters with n_iteration search are reported.   "
   ]
  },
  {
   "cell_type": "code",
   "execution_count": 33,
   "id": "dc191a3b",
   "metadata": {
    "scrolled": false
   },
   "outputs": [
    {
     "name": "stdout",
     "output_type": "stream",
     "text": [
      "Random search takes 255.24 seconds to tune\n",
      "MSE on test set is :0.005029939368476528\n"
     ]
    }
   ],
   "source": [
    "from sklearn.model_selection import RandomizedSearchCV\n",
    "\n",
    "def rs_tune(x_train, y_train):\n",
    "    x_train , y_train = np.array(x_train), np.array(y_train)\n",
    "    x_train = x_train.astype(np.float32)\n",
    "    y_train = y_train.astype(np.float32)\n",
    "\n",
    "    net = NeuralNetRegressor(Fare_Predictor,\n",
    "                             optimizer = torch.optim.Adam\n",
    "                             , verbose = 0\n",
    "#                              , max_epochs = 3000\n",
    "#                              , lr = 0.001\n",
    "                             , batch_size = 64\n",
    "#                              , optimizer__weight_decay = .001\n",
    "                            )\n",
    "    \n",
    "    param_grid = {\n",
    "       'lr' : np.arange(1e-4, 1e-2, 0.001),\n",
    "#         'batch_size' : np.arange(16, 129, 16),\n",
    "        'max_epochs' : np.arange(500, 1000, 100), \n",
    "        'optimizer__weight_decay' : np.arange(1e-4, 1e-2, .001) \n",
    "    }\n",
    "    \n",
    "#     y_train = y_train.reshape(-1,1)\n",
    "    rs = RandomizedSearchCV(net, param_grid, refit=True, n_iter=20, cv=3, scoring='neg_mean_squared_error')\n",
    "    rs.fit(x_train, y_train)\n",
    "    return rs\n",
    "\n",
    "start = time.time()\n",
    "grid_model = rs_tune(Xtrain, Y_train)\n",
    "end = time.time()\n",
    "print('Random search takes {:.2f} seconds to tune'.format(end-start))\n",
    "                             \n",
    "x_test = np.array(Xtest)\n",
    "x_test = x_test.astype(np.float32)\n",
    "                             \n",
    "out = grid_model.predict(x_test)\n",
    "MSE = mean_squared_error(out, Y_test)\n",
    "print('MSE on test set is :{}'.format(MSE))"
   ]
  },
  {
   "cell_type": "code",
   "execution_count": 34,
   "id": "40f0b8f6",
   "metadata": {},
   "outputs": [
    {
     "name": "stdout",
     "output_type": "stream",
     "text": [
      "{'optimizer__weight_decay': 0.0001, 'max_epochs': 500, 'lr': 0.0041}\n"
     ]
    }
   ],
   "source": [
    "print(grid_model.best_params_)"
   ]
  },
  {
   "cell_type": "code",
   "execution_count": 35,
   "id": "7ca2839a",
   "metadata": {},
   "outputs": [
    {
     "name": "stdout",
     "output_type": "stream",
     "text": [
      "MSE on test set: 0.005382168106734753\n"
     ]
    },
    {
     "data": {
      "text/plain": [
       "-0.005382168"
      ]
     },
     "execution_count": 35,
     "metadata": {},
     "output_type": "execute_result"
    },
    {
     "data": {
      "image/png": "[encoded data removed]",
      "text/plain": [
       "<Figure size 432x288 with 1 Axes>"
      ]
     },
     "metadata": {
      "needs_background": "light"
     },
     "output_type": "display_data"
    }
   ],
   "source": [
    "training(x_train=Xtrain, y_train=Y_train, x_test=Xtest, y_test=Y_test,\\\n",
    "         lr=grid_model.best_params_.get('lr'),\\\n",
    "         l2=grid_model.best_params_.get('optimizer__weight_decay'),\\\n",
    "         batch_size=64,\\\n",
    "         epochs=grid_model.best_params_.get('max_epochs')\n",
    "        )"
   ]
  },
  {
   "cell_type": "markdown",
   "id": "60925573",
   "metadata": {},
   "source": [
    "## Bayesian optimization\n",
    "Bayesian Optimization also runs models many times with different sets of hyperparameter values, but it evaluates the past model information to select hyperparameter values to build the newer model. This is said to spend less time to reach the highest accuracy model"
   ]
  },
  {
   "cell_type": "code",
   "execution_count": 36,
   "id": "1d7a58f4",
   "metadata": {},
   "outputs": [
    {
     "name": "stdout",
     "output_type": "stream",
     "text": [
      "MSE on test set: 0.014935449697077274\n",
      "MSE on test set: 0.004807372577488422\n",
      "MSE on test set: 0.006988943554461002\n",
      "MSE on test set: 0.008183571510016918\n",
      "MSE on test set: 0.01310526393353939\n",
      "MSE on test set: 0.01337637472897768\n",
      "MSE on test set: 0.010165884159505367\n",
      "MSE on test set: 0.006986874155700207\n",
      "MSE on test set: 0.01564430631697178\n",
      "MSE on test set: 0.006185063160955906\n",
      "MSE on test set: 0.0052506509236991405\n",
      "MSE on test set: 0.006728638429194689\n",
      "MSE on test set: 0.004922544118016958\n",
      "MSE on test set: 0.0062604304403066635\n",
      "MSE on test set: 0.014801952987909317\n",
      "MSE on test set: 0.004672167357057333\n",
      "MSE on test set: 0.005713275633752346\n",
      "MSE on test set: 0.0053055500611662865\n",
      "MSE on test set: 0.006134477909654379\n",
      "MSE on test set: 0.0057866452261805534\n",
      "MSE on test set: 0.007955830544233322\n",
      "MSE on test set: 0.00549683440476656\n",
      "MSE on test set: 0.00518688652664423\n",
      "MSE on test set: 0.0046609933488070965\n",
      "MSE on test set: 0.005016937851905823\n",
      "MSE on test set: 0.004959973506629467\n",
      "MSE on test set: 0.005213483236730099\n",
      "MSE on test set: 0.006003670860081911\n",
      "MSE on test set: 0.006026809103786945\n",
      "MSE on test set: 0.0071420869790017605\n",
      "Bayes optimization takes 333.47 seconds to tune\n",
      "{'target': -0.0046609933488070965, 'params': {'l2': 0.0005287604749446462, 'lr': 0.0015220764105204902}}\n"
     ]
    },
    {
     "data": {
      "image/png": "[encoded data removed]",
      "text/plain": [
       "<Figure size 432x288 with 1 Axes>"
      ]
     },
     "metadata": {
      "needs_background": "light"
     },
     "output_type": "display_data"
    }
   ],
   "source": [
    "from bayes_opt import BayesianOptimization\n",
    "\n",
    "pbounds = {\n",
    "    'lr' : (1e-5, 1e-2),\n",
    "    'l2' : (1e-5, 1e-2), \n",
    "    'max_epochs' : (500, 1000)\n",
    "}\n",
    "\n",
    "optimizer = BayesianOptimization(\n",
    "    f = training, \n",
    "    pbounds = pbounds,\n",
    "    verbose = 0,\n",
    "    random_state = 1,\n",
    ")\n",
    "\n",
    "start = time.time()\n",
    "\n",
    "optimizer.maximize(\n",
    "    init_points = 10,\n",
    "    n_iter = 20,\n",
    ")\n",
    "\n",
    "end = time.time()\n",
    "print('Bayes optimization takes {:.2f} seconds to tune'.format(end-start))\n",
    "\n",
    "print(optimizer.max)\n"
   ]
  },
  {
   "cell_type": "code",
   "execution_count": null,
   "id": "df8ad6e8",
   "metadata": {},
   "outputs": [],
   "source": [
    "# for i, res in enumerate(optimizer.res):\n",
    "#     print(\"Iteration {}: \\n\\t{}\".format(i, res))"
   ]
  },
  {
   "cell_type": "code",
   "execution_count": null,
   "id": "59506143",
   "metadata": {},
   "outputs": [],
   "source": [
    "# ! pip install bayesian-optimization"
   ]
  },
  {
   "cell_type": "code",
   "execution_count": null,
   "id": "7f101ad0",
   "metadata": {},
   "outputs": [],
   "source": [
    "training(Xtrain, Y_train, Xtest, Y_test,lr=0.01  , l2= 1e-05, batch_size=64, epochs = 800)"
   ]
  }
 ],
 "metadata": {
  "kernelspec": {
   "display_name": "Python 3 (ipykernel)",
   "language": "python",
   "name": "python3"
  },
  "language_info": {
   "codemirror_mode": {
    "name": "ipython",
    "version": 3
   },
   "file_extension": ".py",
   "mimetype": "text/x-python",
   "name": "python",
   "nbconvert_exporter": "python",
   "pygments_lexer": "ipython3",
   "version": "3.8.9"
  }
 },
 "nbformat": 4,
 "nbformat_minor": 5
}
