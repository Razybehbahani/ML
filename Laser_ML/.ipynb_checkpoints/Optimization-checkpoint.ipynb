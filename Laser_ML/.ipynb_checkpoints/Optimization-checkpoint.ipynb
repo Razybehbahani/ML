{
 "cells": [
  {
   "cell_type": "code",
   "execution_count": 1,
   "id": "57ed9a9d",
   "metadata": {},
   "outputs": [],
   "source": [
    "import numpy as np\n",
    "import pandas as pd\n",
    "import seaborn as sns\n",
    "import matplotlib.pyplot as plt \n",
    "\n",
    "from sklearn.preprocessing import MinMaxScaler, PolynomialFeatures\n",
    "from sklearn.metrics import accuracy_score, mean_squared_error, r2_score\n",
    "from sklearn.model_selection import KFold\n",
    "from sklearn.model_selection import train_test_split, cross_val_score, GridSearchCV\n",
    "from sklearn.linear_model import LinearRegression, Ridge, Lasso\n",
    "from sklearn.pipeline import Pipeline\n",
    "from sklearn.compose import ColumnTransformer\n",
    "from sklearn.utils import shuffle\n",
    "\n",
    "# from IPython.display import clear_output\n",
    "import torch\n",
    "import torch.nn as nn\n",
    "from torch.utils.data import Dataset, TensorDataset, DataLoader\n",
    "\n",
    "# torch.manual_seed(20210614)\n",
    "\n",
    "import time\n"
   ]
  },
  {
   "cell_type": "code",
   "execution_count": 2,
   "id": "d0e646eb",
   "metadata": {},
   "outputs": [],
   "source": [
    "\"\"\" Exp1, 2\"\"\"\n",
    "\n",
    "# df_clean = pd.read_csv('RawData/NewData_cleaned.csv')\n",
    "df_0 = pd.read_csv('RawData/ParametricStudy_0.csv')\n",
    "df_1 = pd.read_csv('RawData/ParametricStudy_1.csv')\n",
    "df_2 = pd.read_csv('RawData/ParametricStudy_2.csv')\n",
    "\n",
    "combined_Exp = pd.concat([df_0, df_1, df_2], axis = 0, ignore_index = True)\n",
    "combined_Exp = shuffle(combined_Exp, random_state=20210614)\n",
    "\n",
    "###------- normalizing data \n",
    "normalizer = MinMaxScaler()\n",
    "df_norm = normalizer.fit_transform(combined_Exp)\n",
    "\n",
    "df = pd.DataFrame(df_norm, columns=combined_Exp.columns )\n",
    "\n",
    "\n",
    "X = df.drop(['Depth', 'Top_width', 'Bot_width', 'Speed'], axis = 'columns')\n",
    "Dpt = df.Depth.values\n",
    "Ang = df.Angle.values\n",
    "\n",
    "##-------- split the data to training (80%) and test (20%) data sets\n",
    "Xtrain, Xtest,Dpt_train, Dpt_test, Ang_train, Ang_test = train_test_split(X, Dpt, Ang,\n",
    "                                                test_size = 0.2, random_state = 20210614)"
   ]
  },
  {
   "cell_type": "code",
   "execution_count": 3,
   "id": "e2267866",
   "metadata": {},
   "outputs": [],
   "source": [
    "# ##-------- If you want to predict Depth\n",
    "# Y_train = np.c_[Dpt_train]\n",
    "# Y_test = np.c_[Dpt_test]\n",
    "\n",
    "# # ##-------- If you want to predict angle\n",
    "Y_train = np.c_[Ang_train]\n",
    "Y_test = np.c_[Ang_test]\n",
    "\n",
    "\n",
    "\n",
    "# ##--------If you want to predict both Angle and Depth at the same time\n",
    "# Y_train = np.c_[Dpt_train, Ang_train]\n",
    "# Y_test = np.c_[Dpt_test, Ang_test]"
   ]
  },
  {
   "cell_type": "code",
   "execution_count": 4,
   "id": "29b14cde",
   "metadata": {},
   "outputs": [],
   "source": [
    "# Y_train.reshape(-1,1), Ang_train"
   ]
  },
  {
   "cell_type": "code",
   "execution_count": 17,
   "id": "f68ffe94",
   "metadata": {},
   "outputs": [],
   "source": [
    "class Fare_Predictor(nn.Module):\n",
    "    def __init__(self, input_dim=5, layer1=128, layer2=64, drp=0.2, output=1):\n",
    "        super().__init__()\n",
    "        self.net = nn.Sequential(\n",
    "            nn.Linear(input_dim, layer1),\n",
    "            nn.ReLU(),\n",
    "            nn.Dropout(drp),\n",
    "            nn.Linear(layer1, layer2),\n",
    "#             nn.ReLU(),\n",
    "#             nn.Dropout(drp),\n",
    "#             nn.Linear(layer2, 32), \n",
    "            nn.ReLU(),\n",
    "            nn.Dropout(drp),\n",
    "            nn.Linear(layer2, output) \n",
    "        )\n",
    "        \n",
    "    def forward(self, input):\n",
    "        return self.net(input)"
   ]
  },
  {
   "cell_type": "code",
   "execution_count": 18,
   "id": "9a30e58b",
   "metadata": {},
   "outputs": [],
   "source": [
    "def training(x_train=Xtrain, y_train=Y_train, x_test=Xtest, y_test=Y_test,\\\n",
    "             lr=0.001, l2=0.0001, batch_size=64, epochs=3000):\n",
    "    \n",
    "    torch.manual_seed(20210614)\n",
    "    losses=[]\n",
    "    \n",
    "    x_train, y_train, x_test, y_test = map(\n",
    "    torch.FloatTensor, (x_train.values, y_train, x_test.values, y_test)\n",
    "    )\n",
    "#     y_train = y_train.reshape(-1,1)\n",
    "#     y_test = y_test.reshape(-1,1)\n",
    "    \n",
    "    train_ds = TensorDataset(x_train, y_train)\n",
    "    train_dl = DataLoader(train_ds, batch_size=batch_size)\n",
    "    \n",
    "    model = Fare_Predictor()\n",
    "    \n",
    "    loss_func = nn.MSELoss()\n",
    "    optimizer = torch.optim.Adam(model.parameters(), lr = lr, weight_decay=l2)\n",
    "    \n",
    "    for epoch in range(epochs):\n",
    "        model.train()\n",
    "        for xb, yb in train_dl:\n",
    "            pred = model(xb)\n",
    "            loss = loss_func(pred, yb)\n",
    "            loss.backward()\n",
    "            optimizer.step()\n",
    "            optimizer.zero_grad()\n",
    "#         if epoch == 0 or epoch % 2 == 0:\n",
    "#             print(loss)\n",
    "        losses.append(loss)\n",
    "    plt.plot(losses)\n",
    "    model.eval()\n",
    "    pred = model(x_test)\n",
    "    y = y_test\n",
    "    mse = mean_squared_error(pred.detach().numpy(), y.detach().numpy())\n",
    "    print('RMSE on test ser: {}'.format(mse))\n",
    "#     return pred.detach().numpy()\n",
    "    return -mse\n",
    "        "
   ]
  },
  {
   "cell_type": "code",
   "execution_count": 19,
   "id": "e2c73f42",
   "metadata": {},
   "outputs": [
    {
     "name": "stdout",
     "output_type": "stream",
     "text": [
      "RMSE on test ser: 0.014708306640386581\n"
     ]
    },
    {
     "data": {
      "image/png": "[encoded data removed]",
      "text/plain": [
       "<Figure size 432x288 with 1 Axes>"
      ]
     },
     "metadata": {
      "needs_background": "light"
     },
     "output_type": "display_data"
    }
   ],
   "source": [
    "Ang_pred = training()"
   ]
  },
  {
   "cell_type": "code",
   "execution_count": 9,
   "id": "617025bb",
   "metadata": {},
   "outputs": [],
   "source": [
    "# fig = plt.figure(figsize=(12,5))\n",
    "# # plt.subplots_adjust(wspace = 0.35)\n",
    "# # fig, ax = plt.subplots(dpi = 120, nrows = 1, ncols = 3, figsize = (10,6))\n",
    "\n",
    "# ax1 = fig.add_subplot(121)\n",
    "# ax2 = fig.add_subplot(122)\n",
    "\n",
    "# ax1.plot(Ang_pred[:, 0], Y_test[:,0], 'ob', label = 'Depth')\n",
    "# ax1.plot(Y_test[:,0], Y_test[:,0])\n",
    "# print('Depth MSE, R2: ',mean_squared_error(Ang_pred[:, 0], Y_test[:,0]), r2_score(Ang_pred[:,0], Y_test[:,0])*100)\n",
    "\n",
    "# ax2.plot(Ang_pred[:, 1], Y_test[:,1], 'ob', label= 'Angle')\n",
    "# ax2.plot(Y_test[:,1], Y_test[:,1])\n",
    "# print('Angle MSE, R2:',mean_squared_error(Ang_pred[:,1], Y_test[:,1]), r2_score(Ang_pred[:,1], Y_test[:,1])*100)\n",
    "\n",
    "# ax1.legend()\n",
    "# ax2.legend()\n",
    "# plt.show()"
   ]
  },
  {
   "cell_type": "markdown",
   "id": "45066b85",
   "metadata": {},
   "source": [
    "## Grid Search"
   ]
  },
  {
   "cell_type": "code",
   "execution_count": 21,
   "id": "742c14b7",
   "metadata": {
    "scrolled": false
   },
   "outputs": [
    {
     "name": "stdout",
     "output_type": "stream",
     "text": [
      "Grid search takes 6609.85 seconds to tune\n",
      "MSE on test set is :0.03530147144004234\n"
     ]
    }
   ],
   "source": [
    "from skorch import NeuralNetRegressor\n",
    "# from sklearn.model_selection import GridSearchCV\n",
    "\n",
    "def gs_tune(x_train, y_train):\n",
    "    x_train , y_train = np.array(x_train), np.array(y_train)\n",
    "    x_train = x_train.astype(np.float32)\n",
    "    y_train = y_train.astype(np.float32)\n",
    "\n",
    "    net = NeuralNetRegressor(Fare_Predictor,\n",
    "                             optimizer = torch.optim.Adam\n",
    "                             , verbose = 0\n",
    "                             , max_epochs = 3000\n",
    "#                              , lr = 0.001\n",
    "                             , batch_size = 64\n",
    "                             , optimizer__weight_decay = .0001)\n",
    "    \n",
    "    param_grid = {\n",
    "       'lr' : np.arange(1e-4, 1e-3, 0.001),\n",
    "#         'batch_size' : np.arange(16, 129, 16),\n",
    "#         'max_epochs' : np.arange(500, 1000, 100) \n",
    "        'optimizer__weight_decay' : np.arange(1e-4, 1e-2, .001) \n",
    "    }\n",
    "    \n",
    "#     y_train = y_train.reshape(-1,1)\n",
    "    gs = GridSearchCV(net, param_grid, refit=True, cv = 3, scoring='neg_mean_squared_error')\n",
    "    gs.fit(x_train, y_train)\n",
    "    return gs\n",
    "\n",
    "start = time.time()\n",
    "grid_model = gs_tune(Xtrain, Y_train)\n",
    "end = time.time()\n",
    "\n",
    "print('Grid search takes {:.2f} seconds to tune'.format(end-start))\n",
    "x_test = np.array(Xtest)\n",
    "x_test = x_test.astype(np.float32)\n",
    "out = grid_model.predict(x_test)\n",
    "MSE = mean_squared_error(out, Y_test)\n",
    "print('MSE on test set is :{}'.format(MSE))\n",
    "    "
   ]
  },
  {
   "cell_type": "code",
   "execution_count": 9,
   "id": "1e5fd51f",
   "metadata": {},
   "outputs": [
    {
     "data": {
      "text/plain": [
       "0.18191876471997134"
      ]
     },
     "execution_count": 9,
     "metadata": {},
     "output_type": "execute_result"
    }
   ],
   "source": [
    "np.sqrt(MSE)"
   ]
  },
  {
   "cell_type": "markdown",
   "id": "7bd08956",
   "metadata": {},
   "source": [
    "## Random Search"
   ]
  },
  {
   "cell_type": "code",
   "execution_count": 10,
   "id": "dc191a3b",
   "metadata": {},
   "outputs": [
    {
     "name": "stdout",
     "output_type": "stream",
     "text": [
      "Random search takes 201.60 seconds to tune\n",
      "MSE on test set is :0.039229015972931144\n"
     ]
    }
   ],
   "source": [
    "from sklearn.model_selection import RandomizedSearchCV\n",
    "\n",
    "def rs_tune(x_train, y_train):\n",
    "    x_train , y_train = np.array(x_train), np.array(y_train)\n",
    "    x_train = x_train.astype(np.float32)\n",
    "    y_train = y_train.astype(np.float32)\n",
    "\n",
    "    net = NeuralNetRegressor(Fare_Predictor,\n",
    "                             optimizer = torch.optim.Adam\n",
    "                             , verbose = 0\n",
    "                             , max_epochs = 3000\n",
    "#                              , lr = 0.001\n",
    "                             , batch_size = 64\n",
    "#                              , optimizer__weight_decay = .001)\n",
    "    \n",
    "    param_grid = {\n",
    "       'lr' : np.arange(1e-4, 1e-3, 0.001),\n",
    "#         'batch_size' : np.arange(16, 129, 16),\n",
    "#         'max_epochs' : np.arange(500, 1000, 100) \n",
    "        'optimizer__weight_decay' : np.arange(1e-4, 1e-2, .001) \n",
    "    }\n",
    "    \n",
    "#     y_train = y_train.reshape(-1,1)\n",
    "    rs = RandomizedSearchCV(net, param_grid, refit=True, n_iter=20, cv=3, scoring='neg_mean_squared_error')\n",
    "    rs.fit(x_train, y_train)\n",
    "    return rs\n",
    "\n",
    "start = time.time()\n",
    "grid_model = rs_tune(Xtrain, Y_train)\n",
    "end = time.time()\n",
    "print('Random search takes {:.2f} seconds to tune'.format(end-start))\n",
    "                             \n",
    "x_test = np.array(Xtest)\n",
    "x_test = x_test.astype(np.float32)\n",
    "                             \n",
    "out = grid_model.predict(x_test)\n",
    "MSE = mean_squared_error(out, Y_test)\n",
    "print('MSE on test set is :{}'.format(MSE))"
   ]
  },
  {
   "cell_type": "code",
   "execution_count": 11,
   "id": "40f0b8f6",
   "metadata": {},
   "outputs": [
    {
     "data": {
      "text/plain": [
       "0.1980631615746127"
      ]
     },
     "execution_count": 11,
     "metadata": {},
     "output_type": "execute_result"
    }
   ],
   "source": [
    "np.sqrt(MSE)"
   ]
  },
  {
   "cell_type": "markdown",
   "id": "60925573",
   "metadata": {},
   "source": [
    "## Bayesian optimization"
   ]
  },
  {
   "cell_type": "code",
   "execution_count": 13,
   "id": "1d7a58f4",
   "metadata": {},
   "outputs": [
    {
     "name": "stdout",
     "output_type": "stream",
     "text": [
      "|   iter    |  target   |    l2     |    lr     |\n",
      "-------------------------------------------------\n",
      "RMSE on test ser: 0.019908035174012184\n",
      "| \u001b[0m 1       \u001b[0m | \u001b[0m-0.01991 \u001b[0m | \u001b[0m 0.004176\u001b[0m | \u001b[0m 0.007206\u001b[0m |\n",
      "RMSE on test ser: 0.00916361715644598\n",
      "| \u001b[95m 2       \u001b[0m | \u001b[95m-0.009164\u001b[0m | \u001b[95m 1.114e-0\u001b[0m | \u001b[95m 0.00303 \u001b[0m |\n",
      "RMSE on test ser: 0.012126067653298378\n",
      "| \u001b[0m 3       \u001b[0m | \u001b[0m-0.01213 \u001b[0m | \u001b[0m 0.001476\u001b[0m | \u001b[0m 0.000932\u001b[0m |\n",
      "RMSE on test ser: 0.01409053523093462\n",
      "| \u001b[0m 4       \u001b[0m | \u001b[0m-0.01409 \u001b[0m | \u001b[0m 0.001871\u001b[0m | \u001b[0m 0.003462\u001b[0m |\n",
      "RMSE on test ser: 0.018745146691799164\n",
      "| \u001b[0m 5       \u001b[0m | \u001b[0m-0.01875 \u001b[0m | \u001b[0m 0.003974\u001b[0m | \u001b[0m 0.005393\u001b[0m |\n",
      "RMSE on test ser: 0.019270943477749825\n",
      "| \u001b[0m 6       \u001b[0m | \u001b[0m-0.01927 \u001b[0m | \u001b[0m 0.004198\u001b[0m | \u001b[0m 0.006855\u001b[0m |\n",
      "RMSE on test ser: 0.013396099209785461\n",
      "| \u001b[0m 7       \u001b[0m | \u001b[0m-0.0134  \u001b[0m | \u001b[0m 0.002052\u001b[0m | \u001b[0m 0.008782\u001b[0m |\n",
      "RMSE on test ser: 0.011045937426388264\n",
      "| \u001b[0m 8       \u001b[0m | \u001b[0m-0.01105 \u001b[0m | \u001b[0m 0.000283\u001b[0m | \u001b[0m 0.006708\u001b[0m |\n",
      "RMSE on test ser: 0.01954813301563263\n",
      "| \u001b[0m 9       \u001b[0m | \u001b[0m-0.01955 \u001b[0m | \u001b[0m 0.004179\u001b[0m | \u001b[0m 0.005591\u001b[0m |\n",
      "RMSE on test ser: 0.013054574839770794\n",
      "| \u001b[0m 10      \u001b[0m | \u001b[0m-0.01305 \u001b[0m | \u001b[0m 0.001412\u001b[0m | \u001b[0m 0.001989\u001b[0m |\n",
      "RMSE on test ser: 0.009784448891878128\n",
      "| \u001b[0m 11      \u001b[0m | \u001b[0m-0.009784\u001b[0m | \u001b[0m 2.808e-0\u001b[0m | \u001b[0m 0.004811\u001b[0m |\n",
      "RMSE on test ser: 0.009151658043265343\n",
      "| \u001b[95m 12      \u001b[0m | \u001b[95m-0.009152\u001b[0m | \u001b[95m 1e-05   \u001b[0m | \u001b[95m 0.01    \u001b[0m |\n",
      "RMSE on test ser: 0.037255581468343735\n",
      "| \u001b[0m 13      \u001b[0m | \u001b[0m-0.03726 \u001b[0m | \u001b[0m 0.01    \u001b[0m | \u001b[0m 1e-05   \u001b[0m |\n",
      "RMSE on test ser: 0.028670534491539\n",
      "| \u001b[0m 14      \u001b[0m | \u001b[0m-0.02867 \u001b[0m | \u001b[0m 1e-05   \u001b[0m | \u001b[0m 1e-05   \u001b[0m |\n",
      "RMSE on test ser: 0.019084814935922623\n",
      "| \u001b[0m 15      \u001b[0m | \u001b[0m-0.01908 \u001b[0m | \u001b[0m 0.003829\u001b[0m | \u001b[0m 0.000138\u001b[0m |\n",
      "RMSE on test ser: 0.012909912504255772\n",
      "| \u001b[0m 16      \u001b[0m | \u001b[0m-0.01291 \u001b[0m | \u001b[0m 0.001425\u001b[0m | \u001b[0m 0.001998\u001b[0m |\n",
      "RMSE on test ser: 0.011208361946046352\n",
      "| \u001b[0m 17      \u001b[0m | \u001b[0m-0.01121 \u001b[0m | \u001b[0m 6.437e-0\u001b[0m | \u001b[0m 0.008515\u001b[0m |\n",
      "RMSE on test ser: 0.015086987055838108\n",
      "| \u001b[0m 18      \u001b[0m | \u001b[0m-0.01509 \u001b[0m | \u001b[0m 0.00303 \u001b[0m | \u001b[0m 0.002016\u001b[0m |\n",
      "RMSE on test ser: 0.02457912638783455\n",
      "| \u001b[0m 19      \u001b[0m | \u001b[0m-0.02458 \u001b[0m | \u001b[0m 0.01    \u001b[0m | \u001b[0m 0.01    \u001b[0m |\n",
      "RMSE on test ser: 0.014797169715166092\n",
      "| \u001b[0m 20      \u001b[0m | \u001b[0m-0.0148  \u001b[0m | \u001b[0m 0.001313\u001b[0m | \u001b[0m 0.01    \u001b[0m |\n",
      "RMSE on test ser: 0.014125766232609749\n",
      "| \u001b[0m 21      \u001b[0m | \u001b[0m-0.01413 \u001b[0m | \u001b[0m 0.001588\u001b[0m | \u001b[0m 0.005858\u001b[0m |\n",
      "RMSE on test ser: 0.0244187843054533\n",
      "| \u001b[0m 22      \u001b[0m | \u001b[0m-0.02442 \u001b[0m | \u001b[0m 0.01    \u001b[0m | \u001b[0m 0.005356\u001b[0m |\n",
      "RMSE on test ser: 0.023384667932987213\n",
      "| \u001b[0m 23      \u001b[0m | \u001b[0m-0.02338 \u001b[0m | \u001b[0m 0.005952\u001b[0m | \u001b[0m 0.01    \u001b[0m |\n",
      "RMSE on test ser: 0.024279221892356873\n",
      "| \u001b[0m 24      \u001b[0m | \u001b[0m-0.02428 \u001b[0m | \u001b[0m 0.006449\u001b[0m | \u001b[0m 0.003044\u001b[0m |\n",
      "RMSE on test ser: 0.011656816117465496\n",
      "| \u001b[0m 25      \u001b[0m | \u001b[0m-0.01166 \u001b[0m | \u001b[0m 0.000453\u001b[0m | \u001b[0m 0.003847\u001b[0m |\n",
      "RMSE on test ser: 0.013189919292926788\n",
      "| \u001b[0m 26      \u001b[0m | \u001b[0m-0.01319 \u001b[0m | \u001b[0m 0.001391\u001b[0m | \u001b[0m 0.00753 \u001b[0m |\n",
      "RMSE on test ser: 0.018412215635180473\n",
      "| \u001b[0m 27      \u001b[0m | \u001b[0m-0.01841 \u001b[0m | \u001b[0m 0.002199\u001b[0m | \u001b[0m 6.42e-05\u001b[0m |\n",
      "RMSE on test ser: 0.02407696284353733\n",
      "| \u001b[0m 28      \u001b[0m | \u001b[0m-0.02408 \u001b[0m | \u001b[0m 0.007298\u001b[0m | \u001b[0m 0.007006\u001b[0m |\n",
      "RMSE on test ser: 0.03405892103910446\n",
      "| \u001b[0m 29      \u001b[0m | \u001b[0m-0.03406 \u001b[0m | \u001b[0m 0.006178\u001b[0m | \u001b[0m 1e-05   \u001b[0m |\n",
      "RMSE on test ser: 0.01846558041870594\n",
      "| \u001b[0m 30      \u001b[0m | \u001b[0m-0.01847 \u001b[0m | \u001b[0m 0.00352 \u001b[0m | \u001b[0m 0.009981\u001b[0m |\n",
      "=================================================\n",
      "Bayes optimization takes 96.57 seconds to tune\n",
      "{'target': -0.009151658043265343, 'params': {'l2': 1e-05, 'lr': 0.01}}\n"
     ]
    },
    {
     "data": {
      "image/png": "[encoded data removed]",
      "text/plain": [
       "<Figure size 432x288 with 1 Axes>"
      ]
     },
     "metadata": {
      "needs_background": "light"
     },
     "output_type": "display_data"
    }
   ],
   "source": [
    "from bayes_opt import BayesianOptimization\n",
    "\n",
    "pbounds = {\n",
    "    'lr' : (1e-5, 1e-2),\n",
    "    'l2' : (1e-5, 1e-2)\n",
    "}\n",
    "\n",
    "optimizer = BayesianOptimization(\n",
    "    f = training, \n",
    "    pbounds = pbounds,\n",
    "    verbose = 0,\n",
    "    random_state = 1,\n",
    ")\n",
    "\n",
    "start = time.time()\n",
    "\n",
    "optimizer.maximize(\n",
    "    init_points = 10,\n",
    "    n_iter = 20,\n",
    ")\n",
    "\n",
    "end = time.time()\n",
    "print('Bayes optimization takes {:.2f} seconds to tune'.format(end-start))\n",
    "\n",
    "print(optimizer.max)\n"
   ]
  },
  {
   "cell_type": "code",
   "execution_count": 14,
   "id": "df8ad6e8",
   "metadata": {},
   "outputs": [],
   "source": [
    "# for i, res in enumerate(optimizer.res):\n",
    "#     print(\"Iteration {}: \\n\\t{}\".format(i, res))"
   ]
  },
  {
   "cell_type": "code",
   "execution_count": 301,
   "id": "59506143",
   "metadata": {},
   "outputs": [],
   "source": [
    "# ! pip install bayesian-optimization"
   ]
  },
  {
   "cell_type": "code",
   "execution_count": 15,
   "id": "7f101ad0",
   "metadata": {},
   "outputs": [
    {
     "name": "stdout",
     "output_type": "stream",
     "text": [
      "RMSE on test ser: 0.009151658043265343\n"
     ]
    },
    {
     "data": {
      "text/plain": [
       "-0.009151658"
      ]
     },
     "execution_count": 15,
     "metadata": {},
     "output_type": "execute_result"
    },
    {
     "data": {
      "image/png": "[encoded data removed]",
      "text/plain": [
       "<Figure size 432x288 with 1 Axes>"
      ]
     },
     "metadata": {
      "needs_background": "light"
     },
     "output_type": "display_data"
    }
   ],
   "source": [
    "training(Xtrain, Y_train, Xtest, Y_test,lr=0.01  , l2= 1e-05, batch_size=64, epochs = 800)"
   ]
  },
  {
   "cell_type": "code",
   "execution_count": 2,
   "id": "1ca54563",
   "metadata": {},
   "outputs": [
    {
     "name": "stdout",
     "output_type": "stream",
     "text": [
      "Index(['Frequency', 'Speed', 'Amplitude', 'Passes', 'Focal_Position', 'Depth',\n",
      "       'Top_width', 'Bot_width'],\n",
      "      dtype='object')\n",
      "Index(['Frequency', 'Speed', 'Amplitude', 'Passes', 'Focal_Position', 'Depth',\n",
      "       'Top_width', 'Bot_width'],\n",
      "      dtype='object')\n"
     ]
    }
   ],
   "source": [
    "df_0 = pd.read_csv('RawData/two_widths/Param0_2width.csv')\n",
    "df_1 = pd.read_csv('RawData/two_widths/Param1_2width.csv')\n",
    "df_2 = pd.read_csv('RawData/two_widths/Param2_2width.csv')\n",
    "df_3 = pd.read_csv('RawData/two_widths/Param3_2width.csv')\n",
    "df_4 = pd.read_csv('RawData/two_widths/Param4_2width.csv')\n",
    "\n",
    "df1 = pd.concat([df_0, df_1, df_2, df_3, df_4], axis = 0, ignore_index = True)\n",
    "print(df1.keys())\n",
    "df1 = shuffle(df1, random_state=20210614)\n",
    "\n",
    "# ###------- normalizing data \n",
    "normalizer = MinMaxScaler()\n",
    "df_norm = normalizer.fit_transform(df1)\n",
    "\n",
    "df = pd.DataFrame(df_norm, columns=df1.columns )\n",
    "print(df.keys())\n",
    "\n",
    "\n",
    "# X = df.drop(['Depth', 'Top_width', 'Bot_width'], axis = 'columns')\n",
    "# Dpt = df.Depth.values\n",
    "# Topw = df.Top_width.values\n",
    "# Botw = df.Bot_width.values\n",
    "\n"
   ]
  },
  {
   "cell_type": "code",
   "execution_count": 12,
   "id": "b9e384c8",
   "metadata": {},
   "outputs": [],
   "source": [
    "class Predictor(nn.Module):\n",
    "    def __init__(self, input_dim=5, layer1=128, layer2=64, drp=0.05, output=1):\n",
    "        super().__init__()\n",
    "        self.net = nn.Sequential(\n",
    "            nn.Linear(input_dim, layer1),\n",
    "            nn.ReLU(),\n",
    "            nn.Dropout(drp),\n",
    "            nn.Linear(layer1, layer2),\n",
    "            nn.ReLU(),\n",
    "            nn.Dropout(drp),\n",
    "            nn.Linear(layer2, output)   \n",
    "        )\n",
    "        \n",
    "    def forward(self, input):\n",
    "        return self.net(input)"
   ]
  },
  {
   "cell_type": "code",
   "execution_count": 13,
   "id": "8513d1a5",
   "metadata": {},
   "outputs": [],
   "source": [
    "def training_pred(x_train, y_train, x_test, y_test,\\\n",
    "             lr=0.01, l2=1e-5, batch_size=64, epochs=800):\n",
    "    \n",
    "    torch.manual_seed(20210617)\n",
    "    losses=[]\n",
    "    \n",
    "    x_train, y_train, x_test, y_test = map(\n",
    "    torch.FloatTensor, (x_train.values, y_train, x_test.values, y_test)\n",
    "    )\n",
    "#     y_train = y_train.reshape(-1,1)\n",
    "#     y_test = y_test.reshape(-1,1)\n",
    "    \n",
    "    train_ds = TensorDataset(x_train, y_train)\n",
    "    train_dl = DataLoader(train_ds, batch_size=batch_size)\n",
    "    \n",
    "    model = Predictor()\n",
    "    \n",
    "    loss_func = nn.MSELoss()\n",
    "    optimizer = torch.optim.Adam(model.parameters(), lr = lr, weight_decay=l2)\n",
    "    \n",
    "    for epoch in range(epochs):\n",
    "        model.train()\n",
    "        for xb, yb in train_dl:\n",
    "            pred = model(xb)\n",
    "            loss = loss_func(pred, yb)\n",
    "            loss.backward()\n",
    "            optimizer.step()\n",
    "            optimizer.zero_grad()\n",
    "#         if epoch == 0 or epoch % 2 == 0:\n",
    "#             print(loss)\n",
    "#         losses.append(loss)\n",
    "#     plt.plot(losses)\n",
    "    model.eval()\n",
    "    pred = model(x_test)\n",
    "    y = y_test\n",
    "    mse = mean_squared_error(pred.detach().numpy(), y.detach().numpy())\n",
    "    R2 = r2_score(pred.detach().numpy(), y.detach().numpy())\n",
    "#     print('RMSE on test ser: {}'.format(mse))\n",
    "#     return pred.detach().numpy()\n",
    "    return mse, R2\n",
    "\n",
    "        "
   ]
  },
  {
   "cell_type": "code",
   "execution_count": 45,
   "id": "50d29d56",
   "metadata": {},
   "outputs": [],
   "source": [
    "# ##--------If you want to predict both Angle and Depth at the same time\n",
    "Y_train = np.c_[Dpt_train, Ang_train]\n",
    "Y_test = np.c_[Dpt_test, Ang_test]"
   ]
  },
  {
   "cell_type": "code",
   "execution_count": 46,
   "id": "39bf5ce7",
   "metadata": {},
   "outputs": [
    {
     "name": "stdout",
     "output_type": "stream",
     "text": [
      "RMSE on test ser: 0.0050630709156394005\n"
     ]
    },
    {
     "data": {
      "image/png": "[encoded data removed]",
      "text/plain": [
       "<Figure size 432x288 with 1 Axes>"
      ]
     },
     "metadata": {
      "needs_background": "light"
     },
     "output_type": "display_data"
    }
   ],
   "source": [
    "Ang_pred = training_pred(Xtrain, Y_train, Xtest, Y_test,lr=0.01  , l2= 1e-05, batch_size=64, epochs = 800)"
   ]
  },
  {
   "cell_type": "code",
   "execution_count": 47,
   "id": "6d461f58",
   "metadata": {},
   "outputs": [
    {
     "name": "stdout",
     "output_type": "stream",
     "text": [
      "Depth MSE, R2:  0.0012142299028099178 96.92374577658805\n",
      "Angle MSE, R2: 0.008911914898270264 87.99873628225144\n"
     ]
    },
    {
     "data": {
      "image/png": "[encoded data removed]",
      "text/plain": [
       "<Figure size 864x360 with 2 Axes>"
      ]
     },
     "metadata": {
      "needs_background": "light"
     },
     "output_type": "display_data"
    }
   ],
   "source": [
    "fig = plt.figure(figsize=(12,5))\n",
    "# plt.subplots_adjust(wspace = 0.35)\n",
    "# fig, ax = plt.subplots(dpi = 120, nrows = 1, ncols = 3, figsize = (10,6))\n",
    "\n",
    "ax1 = fig.add_subplot(121)\n",
    "ax2 = fig.add_subplot(122)\n",
    "\n",
    "ax1.plot(Ang_pred[:, 0], Y_test[:,0], 'ob', label = 'Depth')\n",
    "ax1.plot(Y_test[:,0], Y_test[:,0])\n",
    "print('Depth MSE, R2: ',mean_squared_error(Ang_pred[:, 0], Y_test[:,0]), r2_score(Ang_pred[:,0], Y_test[:,0])*100)\n",
    "\n",
    "ax2.plot(Ang_pred[:, 1], Y_test[:,1], 'ob', label= 'Angle')\n",
    "ax2.plot(Y_test[:,1], Y_test[:,1])\n",
    "print('Angle MSE, R2:',mean_squared_error(Ang_pred[:,1], Y_test[:,1]), r2_score(Ang_pred[:,1], Y_test[:,1])*100)\n",
    "\n",
    "ax1.legend()\n",
    "ax2.legend()\n",
    "plt.show()"
   ]
  },
  {
   "cell_type": "code",
   "execution_count": 15,
   "id": "26149f1c",
   "metadata": {},
   "outputs": [
    {
     "name": "stdout",
     "output_type": "stream",
     "text": [
      "\n",
      "MSE for NN is:  0.5960582755506039\n",
      "R2 for NN is:  88.78198346171547  %\n",
      "time:  0.186391 \n",
      "*********\n",
      "\n"
     ]
    }
   ],
   "source": [
    "losses = []\n",
    "R2es = []\n",
    "t = time.process_time()\n",
    "for i in range(10):\n",
    "    Train, Test = train_test_split(df, test_size = 0.20)\n",
    "    loss, R2 = training_pred(Train.iloc[:,0:5], np.array(Train.iloc[:,5:6]),\n",
    "                                Test.iloc[:,0:5], np.array(Test.iloc[:,5:6]),\n",
    "                                                           lr=0.01  , l2= 1e-05, batch_size=64, epochs = 800) \n",
    "#     loss, R2 = NN_MultiLayer(Train.iloc[:,0:5], np.array(Train.iloc[:,5]), \n",
    "#                              Test.iloc[:,0:5], np.array(Test.iloc[:,5]))\n",
    "    losses.append(loss)\n",
    "    R2es.append(R2)\n",
    "    \n",
    "elapsed_time = time.process_time() - t  \n",
    "\n",
    "# Dpt_loss = [a_tuple[0] for a_tuple in losses]\n",
    "# Topwidth_loss = [a_tuple[1] for a_tuple in losses]\n",
    "\n",
    "print('\\nMSE for NN is: ', np.mean(np.array(losses))*100)\n",
    "print('R2 for NN is: ', np.mean(np.array(R2es))*100, ' %')\n",
    "print('time: ',round(elapsed_time/100, 6), '\\n*********\\n')"
   ]
  },
  {
   "cell_type": "code",
   "execution_count": null,
   "id": "a235b11c",
   "metadata": {},
   "outputs": [],
   "source": []
  }
 ],
 "metadata": {
  "kernelspec": {
   "display_name": "Python 3 (ipykernel)",
   "language": "python",
   "name": "python3"
  },
  "language_info": {
   "codemirror_mode": {
    "name": "ipython",
    "version": 3
   },
   "file_extension": ".py",
   "mimetype": "text/x-python",
   "name": "python",
   "nbconvert_exporter": "python",
   "pygments_lexer": "ipython3",
   "version": "3.8.9"
  }
 },
 "nbformat": 4,
 "nbformat_minor": 5
}
