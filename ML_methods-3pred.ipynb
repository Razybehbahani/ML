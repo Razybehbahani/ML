{
 "cells": [
  {
   "cell_type": "code",
   "execution_count": 1,
   "metadata": {
    "colab": {
     "base_uri": "https://localhost:8080/"
    },
    "executionInfo": {
     "elapsed": 18219,
     "status": "ok",
     "timestamp": 1628526204791,
     "user": {
      "displayName": "Razyeh Behbahani",
      "photoUrl": "https://lh3.googleusercontent.com/a-/AOh14GjB_Pj1Qai0-BVcw2zuu1V77hlda5xHh5NGsdSx=s64",
      "userId": "14065031321747261255"
     },
     "user_tz": 240
    },
    "id": "UXsGhbN9iYiI",
    "outputId": "d7923052-196b-4c38-ad4f-b750c50cf8da"
   },
   "outputs": [],
   "source": [
    "#### Include commands to run the code on the google colab\n",
    "# from google.colab import drive\n",
    "# drive.mount('/content/gdrive')"
   ]
  },
  {
   "cell_type": "code",
   "execution_count": 1,
   "metadata": {
    "executionInfo": {
     "elapsed": 4952,
     "status": "ok",
     "timestamp": 1628526211175,
     "user": {
      "displayName": "Razyeh Behbahani",
      "photoUrl": "https://lh3.googleusercontent.com/a-/AOh14GjB_Pj1Qai0-BVcw2zuu1V77hlda5xHh5NGsdSx=s64",
      "userId": "14065031321747261255"
     },
     "user_tz": 240
    },
    "id": "aov6WPEPXVdJ"
   },
   "outputs": [],
   "source": [
    "#### Defining required packages\n",
    "import numpy as np\n",
    "import pandas as pd\n",
    "import seaborn as sns\n",
    "import matplotlib.pyplot as plt \n",
    "\n",
    "from sklearn.preprocessing import MinMaxScaler, PolynomialFeatures\n",
    "from sklearn.metrics import accuracy_score, mean_squared_error, r2_score\n",
    "from sklearn.model_selection import KFold\n",
    "from sklearn.model_selection import train_test_split, cross_val_score, GridSearchCV\n",
    "from sklearn.linear_model import LinearRegression, Ridge, Lasso\n",
    "from sklearn.pipeline import Pipeline\n",
    "from sklearn.compose import ColumnTransformer\n",
    "from sklearn.utils import shuffle\n",
    "\n",
    "from xgboost import XGBRegressor\n",
    "from IPython.display import clear_output\n",
    "import torch\n",
    "import torch.nn as nn\n",
    "from torch.utils.data import Dataset\n",
    "torch.manual_seed(20210614)\n",
    "import itertools\n",
    "from tensorflow.python.keras.layers import Input, Dense\n",
    "from tensorflow.python.keras.models import Model\n",
    "import time\n",
    "from sklearn.gaussian_process import GaussianProcessRegressor\n",
    "\n",
    "\n",
    "##### In case we use GPUs\n",
    "# device = torch.device(\"cuda\")"
   ]
  },
  {
   "cell_type": "markdown",
   "metadata": {},
   "source": [
    "## Preprocessing data\n",
    "- To import the data that we want to apply ML models on uncomment the proper cell from bellow \n",
    "- As the range of values for laser parameters are different we need to standardize them in a fix range not to ignore some parameters because of their small values.\n"
   ]
  },
  {
   "cell_type": "code",
   "execution_count": 6,
   "metadata": {
    "id": "AT9j9NSCXVdM"
   },
   "outputs": [
    {
     "data": {
      "text/plain": [
       "'Exp 1'"
      ]
     },
     "execution_count": 6,
     "metadata": {},
     "output_type": "execute_result"
    }
   ],
   "source": [
    "\n",
    "\"\"\"Exp 1\"\"\"\n",
    "##------- read experimental data from an excel file\n",
    "# df1 = pd.read_excel('RawData/Machine Learning Data_01.xlsx')\n",
    "\n",
    "# # ##------- give a fixed random state to reproduce the same result\n",
    "# df1 = shuffle(df1, random_state=20210614)\n",
    "\n",
    "# ##------- drop the columns with unnecessary information\n",
    "# df = df1.dropna(how='any', axis=1, inplace = True) \n",
    "# print(f'shape of data frame: {df1.shape}')\n",
    "\n",
    "# normalizer = MinMaxScaler()   \n",
    "# df_norm = normalizer.fit_transform(df1)\n",
    "\n",
    "# df = pd.DataFrame(df_norm, columns=df1.columns )"
   ]
  },
  {
   "cell_type": "code",
   "execution_count": 7,
   "metadata": {},
   "outputs": [
    {
     "data": {
      "text/plain": [
       "' Exp1, 2'"
      ]
     },
     "execution_count": 7,
     "metadata": {},
     "output_type": "execute_result"
    }
   ],
   "source": [
    "\"\"\" Exp1, 2\"\"\"\n",
    "\n",
    "# df_clean = pd.read_csv('RawData/NewData_cleaned.csv')\n",
    "# df_0 = pd.read_csv('RawData/ParametricStudy_0.csv')\n",
    "# df_1 = pd.read_csv('RawData/ParametricStudy_1.csv')\n",
    "# df_2 = pd.read_csv('RawData/ParametricStudy_2.csv')\n",
    "\n",
    "# # combined_Exp = df_clean\n",
    "# combined_Exp = pd.concat([df_clean, df_0, df_1, df_2], axis = 0, ignore_index = True)\n",
    "# ###############\n",
    "# # combined_Exp = pd.read_csv('RawData/Exp_tunedlazer.csv')\n",
    "\n",
    "# # combined_Exp = pd.read_csv('RawData/Exp_tunnedlazer_ave.csv')\n",
    "# # combined_Exp = pd.read_csv('RawData/Exp_tuned.csv')\n",
    "# # combined_Exp = shuffle(combined_Exp, random_state=20210614)\n",
    "# # print(combined_Exp.shape)\n",
    "\n",
    "# ###------- normalizing data \n",
    "# normalizer = MinMaxScaler()\n",
    "# df_norm = normalizer.fit_transform(combined_Exp)\n",
    "\n",
    "# df = pd.DataFrame(df_norm, columns=combined_Exp.columns )"
   ]
  },
  {
   "cell_type": "code",
   "execution_count": 2,
   "metadata": {},
   "outputs": [
    {
     "name": "stdout",
     "output_type": "stream",
     "text": [
      "Index(['Frequency', 'Speed', 'Amplitude', 'Passes', 'Focal_Position', 'Depth',\n",
      "       'Top_width', 'Bot_width'],\n",
      "      dtype='object')\n"
     ]
    }
   ],
   "source": [
    "df_0 = pd.read_csv('RawData/two_widths/Param0_2width.csv')\n",
    "df_1 = pd.read_csv('RawData/two_widths/Param1_2width.csv')\n",
    "df_2 = pd.read_csv('RawData/two_widths/Param2_2width.csv')\n",
    "df_3 = pd.read_csv('RawData/two_widths/Param3_2width.csv')\n",
    "df_4 = pd.read_csv('RawData/two_widths/Param4_2width.csv')\n",
    "\n",
    "df1 = pd.concat([df_0, df_1, df_2, df_3, df_4], axis = 0, ignore_index = True)\n",
    "print(df1.keys())\n",
    "df1 = shuffle(df1, random_state=20210614)"
   ]
  },
  {
   "cell_type": "markdown",
   "metadata": {},
   "source": [
    "## The correlation between data and their pairplot"
   ]
  },
  {
   "cell_type": "code",
   "execution_count": 9,
   "metadata": {
    "colab": {
     "base_uri": "https://localhost:8080/",
     "height": 615
    },
    "executionInfo": {
     "elapsed": 690,
     "status": "ok",
     "timestamp": 1628526275818,
     "user": {
      "displayName": "Razyeh Behbahani",
      "photoUrl": "https://lh3.googleusercontent.com/a-/AOh14GjB_Pj1Qai0-BVcw2zuu1V77hlda5xHh5NGsdSx=s64",
      "userId": "14065031321747261255"
     },
     "user_tz": 240
    },
    "id": "2LkX9g7uXVdM",
    "outputId": "d86b795d-d837-4209-ad70-71b58de5a6a9"
   },
   "outputs": [],
   "source": [
    "# \"\"\"looking at the correlation between data \"\"\"\n",
    "# fig= plt.figure(figsize=(10,8))\n",
    "\n",
    "# sns.set(font_scale=2)\n",
    "\n",
    "# heatmap = sns.heatmap(df1.iloc[:,1:].corr(), \n",
    "#                       annot=True, annot_kws={'size': 22},\n",
    "#                       cmap=\"Spectral\", vmin=-0.6, vmax=1,\n",
    "#                       cbar=True, xticklabels=True)\n",
    "\n",
    "# heatmap.set_xticklabels(heatmap.get_xticklabels(),\n",
    "#                         rotation=50, horizontalalignment='right'\n",
    "#                        )\n",
    "# # plt.savefig('Graphs/Tune_corr.png',bbox_inches='tight')\n",
    "# plt.show()"
   ]
  },
  {
   "cell_type": "code",
   "execution_count": 10,
   "metadata": {},
   "outputs": [],
   "source": [
    "# df1.Frequency.values / df1.Speed.values"
   ]
  },
  {
   "cell_type": "code",
   "execution_count": 3,
   "metadata": {},
   "outputs": [
    {
     "name": "stdout",
     "output_type": "stream",
     "text": [
      "Index(['Frequency', 'Speed', 'Amplitude', 'Passes', 'Focal_Position', 'Depth',\n",
      "       'Top_width', 'Bot_width'],\n",
      "      dtype='object')\n"
     ]
    }
   ],
   "source": [
    "# ###------- normalizing data \n",
    "normalizer = MinMaxScaler()\n",
    "df_norm = normalizer.fit_transform(df1)\n",
    "\n",
    "df = pd.DataFrame(df_norm, columns=df1.columns )\n",
    "print(df.keys())"
   ]
  },
  {
   "cell_type": "code",
   "execution_count": 4,
   "metadata": {
    "colab": {
     "base_uri": "https://localhost:8080/",
     "height": 52
    },
    "executionInfo": {
     "elapsed": 113,
     "status": "ok",
     "timestamp": 1628526281044,
     "user": {
      "displayName": "Razyeh Behbahani",
      "photoUrl": "https://lh3.googleusercontent.com/a-/AOh14GjB_Pj1Qai0-BVcw2zuu1V77hlda5xHh5NGsdSx=s64",
      "userId": "14065031321747261255"
     },
     "user_tz": 240
    },
    "id": "S0-FJLbvwTM3",
    "outputId": "4a49d061-e6ec-47c2-9f89-7bc7df5be78f"
   },
   "outputs": [],
   "source": [
    "# \"\"\"Looking at the mutual dependency of data for each feature\n",
    "# versus others, to see if there is any quadratic dependancy\"\"\"\n",
    "\n",
    "# sns.pairplot(data = df, corner = True, height=1.5)\n",
    "# # # plt.savefig('Graphs/Exp1_2pairplot.png')\n",
    "# plt.show()"
   ]
  },
  {
   "cell_type": "code",
   "execution_count": 6,
   "metadata": {
    "executionInfo": {
     "elapsed": 115,
     "status": "ok",
     "timestamp": 1628526284047,
     "user": {
      "displayName": "Razyeh Behbahani",
      "photoUrl": "https://lh3.googleusercontent.com/a-/AOh14GjB_Pj1Qai0-BVcw2zuu1V77hlda5xHh5NGsdSx=s64",
      "userId": "14065031321747261255"
     },
     "user_tz": 240
    },
    "id": "JWBvAElbXVdN"
   },
   "outputs": [],
   "source": [
    "X = df.drop(['Depth', 'Top_width', 'Bot_width'], axis = 'columns')\n",
    "Dpt = df.Depth.values\n",
    "Topw = df.Top_width.values\n",
    "Botw = df.Bot_width.values\n",
    "\n",
    "# ##-------- split the data to training (80%) and test (20%) data sets\n",
    "Xtrain, Xtest,Dpt_train, Dpt_test, Topw_train, Topw_test, Botw_train, Botw_test  =\\\n",
    "            train_test_split(X, Dpt,Topw ,Botw ,\n",
    "            test_size = 0.2, random_state = 1)\n"
   ]
  },
  {
   "cell_type": "markdown",
   "metadata": {
    "id": "KQ3HXXNe8O9Z"
   },
   "source": [
    "## decide what data you want to predict and see the loss for predicting them individually or simultaniously"
   ]
  },
  {
   "cell_type": "code",
   "execution_count": 7,
   "metadata": {
    "executionInfo": {
     "elapsed": 120,
     "status": "ok",
     "timestamp": 1628526297002,
     "user": {
      "displayName": "Razyeh Behbahani",
      "photoUrl": "https://lh3.googleusercontent.com/a-/AOh14GjB_Pj1Qai0-BVcw2zuu1V77hlda5xHh5NGsdSx=s64",
      "userId": "14065031321747261255"
     },
     "user_tz": 240
    },
    "id": "19jol-JRlryA"
   },
   "outputs": [],
   "source": [
    "#### predict outputs independently\n",
    "### predict Depth\n",
    "Y_train = np.c_[Dpt_train]\n",
    "Y_test = np.c_[Dpt_test]\n",
    "\n",
    "####### predict Top width\n",
    "# Y_train = np.c_[Topw_train]\n",
    "# Y_test = np.c_[Topw_test]\n",
    "\n",
    "\n",
    "####### predict Bottom width\n",
    "# Y_train = np.c_[Botw_train]\n",
    "# Y_test = np.c_[Botw_test]\n",
    "\n"
   ]
  },
  {
   "cell_type": "markdown",
   "metadata": {
    "id": "YLyqZQwhXVdP"
   },
   "source": [
    "## Defining different models\n",
    "\n",
    "Comparing the MSE and R2 factor for predictions with different models."
   ]
  },
  {
   "cell_type": "code",
   "execution_count": 8,
   "metadata": {
    "executionInfo": {
     "elapsed": 129,
     "status": "ok",
     "timestamp": 1628526300937,
     "user": {
      "displayName": "Razyeh Behbahani",
      "photoUrl": "https://lh3.googleusercontent.com/a-/AOh14GjB_Pj1Qai0-BVcw2zuu1V77hlda5xHh5NGsdSx=s64",
      "userId": "14065031321747261255"
     },
     "user_tz": 240
    },
    "id": "vGbh6O8sXVdP"
   },
   "outputs": [],
   "source": [
    "##### Define different models\n",
    "\n",
    "model1 = Pipeline([\n",
    "    ('linear_regression', LinearRegression())\n",
    "])\n",
    "\n",
    "model2 = Pipeline([   # higher degree might causes overfitting\n",
    "    ('poly', PolynomialFeatures(degree=2, include_bias=False)), \n",
    "    ('linear_regression', LinearRegression())\n",
    "])\n",
    "\n",
    "\n",
    "##---- Apply Lasso or Ridge to reduce the no. of the features\n",
    "model3 = Pipeline([\n",
    "    ('poly', PolynomialFeatures(degree=2, include_bias=False)),\n",
    "    ('ridge', Ridge(alpha=11, fit_intercept=True))\n",
    "])\n",
    "\n",
    "model4 = Pipeline([\n",
    "    ('poly', PolynomialFeatures(degree=2, include_bias=False)),\n",
    "    ('lasso', Lasso(alpha=11, fit_intercept=True))\n",
    "])\n",
    "\n",
    "model5 = Pipeline([\n",
    "    ('ridge', Ridge(alpha=11, fit_intercept=True))\n",
    "])\n",
    "\n",
    "model6 = Pipeline([\n",
    "    ('lasso', Lasso(alpha=11, fit_intercept=True))\n",
    "])\n",
    "\n",
    "\n",
    "\"\"\"let's look at the feature importance, using the XGB results\n",
    "for depth: \n",
    "{'learning_rate': 0.1, 'max_depth': 5, 'n_estimators': 100, 'subsample': 0.632}\n",
    "\n",
    "for top width:\n",
    "{'learning_rate': 0.1, 'max_depth': 5, 'n_estimators': 50, 'subsample': 1.0}\n",
    "\n",
    "for bot width:\n",
    "{'learning_rate': 0.1, 'max_depth': 5, 'n_estimators': 100, 'subsample': 0.632}\n",
    "\n",
    "\"\"\"\n",
    "\n",
    "model7 = Pipeline([\n",
    "    ('poly', PolynomialFeatures(degree=2, include_bias=False)),\n",
    "    ('XGB', XGBRegressor(max_depth=5,                \n",
    "                        learning_rate=0.1,            \n",
    "                        n_estimators=100,             \n",
    "                        verbosity=1,                  \n",
    "                        objective='reg:squarederror', \n",
    "                        booster='gbtree',             \n",
    "                        n_jobs=4,                     \n",
    "                        gamma=0.001,                  \n",
    "                        subsample=0.632,              \n",
    "                        colsample_bytree=1,           \n",
    "                        colsample_bylevel=1,          \n",
    "                        colsample_bynode=1,           \n",
    "                        reg_alpha=1,                  \n",
    "                        reg_lambda=0,                 \n",
    "                        scale_pos_weight=1,           \n",
    "                        base_score=0.5,               \n",
    "                        random_state=20210614,        \n",
    "                        missing=1                  \n",
    "                        ))\n",
    "])\n",
    "\n",
    "model8 = Pipeline([\n",
    "    ('XGB', XGBRegressor(max_depth=5,                 # Depth of each tree\n",
    "                        learning_rate=0.1,            # How much to shrink error in each subsequent training.\n",
    "                                                      # Trade-off with no. estimators.\n",
    "                        n_estimators=100,             # How many trees to use, the more the better, \n",
    "                                                      # but decrease learning rate if many used.\n",
    "                        verbosity=1,                  # If to show more errors or not.\n",
    "                        objective='reg:squarederror',  # Type of target variable. for classifieer use\n",
    "                                                       # 'binary:logistic'\n",
    "                        booster='gbtree',             # What to boost. Trees in this case.\n",
    "                        n_jobs=4,                     # Parallel jobs to run. Set your processor number.\n",
    "                        gamma=0.001,                  # Minimum loss reduction required to make a further \n",
    "                                                      # partition on a leaf node of the tree. (Controls growth!)\n",
    "                        subsample=0.632,                  # Subsample ratio. Can set lower than 1. \n",
    "                                                      # If we want perfect boosting\n",
    "                        colsample_bytree=1,           # Subsample ratio of columns when constructing each tree.\n",
    "                        colsample_bylevel=1,          # Subsample ratio of columns when constructing each level.\n",
    "                                                      # 0.33 is similar to random forest. sqrt(no.var)\n",
    "                        colsample_bynode=1,           # Subsample ratio of columns when constructing each split.\n",
    "                        reg_alpha=1,                  # Regularizer for first fit. alpha = 1, lambda = 0 is LASSO.\n",
    "                        reg_lambda=0,                 # Regularizer for first fit.\n",
    "                        scale_pos_weight=1,           # Balancing of positive and negative weights.\n",
    "                        base_score=0.5,               # Global bias. Set to average of the target rate.\n",
    "                        random_state=20210614,        # Seed\n",
    "                        missing=1                 # How are nulls encoded?\n",
    "                        ))\n",
    "])\n",
    "\n",
    "\n",
    "model_poly3 = Pipeline([   # higher degree might causes overfitting\n",
    "    ('poly', PolynomialFeatures(degree=3, include_bias=False)), \n",
    "    ('linear_regression', LinearRegression())\n",
    "])\n",
    "\n",
    "model_poly4 = Pipeline([   \n",
    "    ('poly', PolynomialFeatures(degree=4, include_bias=False)), \n",
    "    ('linear_regression', LinearRegression())\n",
    "])\n",
    "\n",
    "\n",
    "model9 = Pipeline([   \n",
    "    ('Gaus', GaussianProcessRegressor()) \n",
    "])"
   ]
  },
  {
   "cell_type": "code",
   "execution_count": 9,
   "metadata": {
    "colab": {
     "base_uri": "https://localhost:8080/"
    },
    "executionInfo": {
     "elapsed": 2801,
     "status": "ok",
     "timestamp": 1628526306667,
     "user": {
      "displayName": "Razyeh Behbahani",
      "photoUrl": "https://lh3.googleusercontent.com/a-/AOh14GjB_Pj1Qai0-BVcw2zuu1V77hlda5xHh5NGsdSx=s64",
      "userId": "14065031321747261255"
     },
     "user_tz": 240
    },
    "id": "OuRF8p2vXVdR",
    "outputId": "e8311172-6600-43bd-cc19-5fcc6f1fd609"
   },
   "outputs": [
    {
     "name": "stdout",
     "output_type": "stream",
     "text": [
      "The cross validation loss on `Depth` for different models:\n",
      "\n",
      "Linear regression:\n",
      "2.007 %\n",
      "test_MSE:  1.9821936082005907\n",
      "\n",
      "Ridge:\n",
      "2.8129 %\n",
      "test_MSE:  2.534060675388006\n",
      "\n",
      "Lasso:\n",
      "7.1089 %\n",
      "test_MSE:  5.553727823675021\n",
      "\n",
      "2nd order Polynomial + LR:\n",
      "1.1364 %\n",
      "test_MSE:  1.479416604786725\n",
      "\n",
      "3rd order Polynomial + LR:\n",
      "0.6760999999999999 %\n",
      "test_MSE:  1.7698610241874746\n",
      "\n",
      "4th order Polynomial + LR:\n",
      "3.6248000000000005 %\n",
      "test_MSE:  3.5112881083162293\n",
      "\n",
      "2nd order Polynomial + Ridge:\n",
      "2.0661 %\n",
      "test_MSE:  2.389393500671268\n",
      "\n",
      "2nd order Polynomial + Lasso:\n",
      "7.1089 %\n",
      "test_MSE:  5.553727823675021\n",
      "\n",
      "XGB:\n",
      "1.5592 %\n",
      "test_MSE:  1.164708286193464\n",
      "\n",
      "2nd order Polynomial + XGB:\n",
      "1.4743 %\n",
      "test_MSE:  1.2445249086946546\n",
      "\n",
      "Gaussian:\n",
      "16.3004 %\n",
      "test_MSE:  343.8885256613936\n"
     ]
    }
   ],
   "source": [
    "kf = KFold(n_splits=10)\n",
    "print('The cross validation loss on `Depth` for different models:')\n",
    "\n",
    "#################################################\n",
    "print('\\nLinear regression:')\n",
    "print((-cross_val_score(model1, Xtrain, Y_train,\n",
    "                      cv=kf, scoring='neg_mean_squared_error').mean()).round(6)*100,'%')\n",
    "Model1 = model1.fit(Xtrain, Y_train)\n",
    "predict_1 = Model1.predict(Xtest)\n",
    "print('test_MSE: ',mean_squared_error(Y_test, predict_1)*100)\n",
    "\n",
    "#####################\n",
    "\n",
    "print('\\nRidge:')\n",
    "print((-cross_val_score(model5, Xtrain, Y_train,\n",
    "                      cv=kf, scoring='neg_mean_squared_error').mean()).round(6)*100,'%')\n",
    "\n",
    "Model5 = model5.fit(Xtrain, Y_train)\n",
    "predict_5 = Model5.predict(Xtest)\n",
    "print('test_MSE: ',mean_squared_error(Y_test, predict_5)*100)\n",
    "#####################\n",
    "\n",
    "print('\\nLasso:')\n",
    "print((-cross_val_score(model6, Xtrain, Y_train,\n",
    "                      cv=kf, scoring='neg_mean_squared_error').mean()).round(6)*100,'%')\n",
    "\n",
    "Model6 = model6.fit(Xtrain, Y_train)\n",
    "predict_6 = Model6.predict(Xtest)\n",
    "print('test_MSE: ',mean_squared_error(Y_test, predict_6)*100)\n",
    "#######################\n",
    "\n",
    "\n",
    "print('\\n2nd order Polynomial + LR:')\n",
    "print((-cross_val_score(model2, Xtrain, Y_train,\n",
    "                      cv=kf, scoring='neg_mean_squared_error').mean()).round(6)*100,'%')\n",
    "\n",
    "Model2 = model2.fit(Xtrain, Y_train)\n",
    "predict_2 = Model2.predict(Xtest)\n",
    "print('test_MSE: ',mean_squared_error(Y_test, predict_2)*100)\n",
    "\n",
    "\n",
    "########################    \n",
    "\n",
    "print('\\n3rd order Polynomial + LR:')\n",
    "print((-cross_val_score(model_poly3, Xtrain, Y_train,\n",
    "                      cv=kf, scoring='neg_mean_squared_error').mean()).round(6)*100,'%')\n",
    "\n",
    "Model03 = model_poly3.fit(Xtrain, Y_train)\n",
    "predict_03 = Model03.predict(Xtest)\n",
    "print('test_MSE: ',mean_squared_error(Y_test, predict_03)*100)\n",
    "\n",
    "########################\n",
    "   \n",
    "\n",
    "print('\\n4th order Polynomial + LR:')\n",
    "print((-cross_val_score(model_poly4, Xtrain, Y_train,\n",
    "                      cv=kf, scoring='neg_mean_squared_error').mean()).round(6)*100,'%')\n",
    "\n",
    "Model04 = model_poly4.fit(Xtrain, Y_train)\n",
    "predict_04 = Model04.predict(Xtest)\n",
    "print('test_MSE: ',mean_squared_error(Y_test, predict_04)*100)\n",
    "\n",
    "########################\n",
    "\n",
    "print('\\n2nd order Polynomial + Ridge:')\n",
    "print((-cross_val_score(model3, Xtrain, Y_train,\n",
    "                      cv=kf, scoring='neg_mean_squared_error').mean()).round(6)*100,'%')\n",
    "\n",
    "Model3 = model3.fit(Xtrain, Y_train)\n",
    "predict_3 = Model3.predict(Xtest)\n",
    "print('test_MSE: ',mean_squared_error(Y_test, predict_3)*100)\n",
    "\n",
    "########################\n",
    "\n",
    "\n",
    "print('\\n2nd order Polynomial + Lasso:')\n",
    "print((-cross_val_score(model4, Xtrain, Y_train,\n",
    "                      cv=kf, scoring='neg_mean_squared_error').mean()).round(6)*100,'%')\n",
    "\n",
    "Model4 = model4.fit(Xtrain, Y_train)\n",
    "predict_4 = Model4.predict(Xtest)\n",
    "print('test_MSE: ',mean_squared_error(Y_test, predict_4)*100)\n",
    "\n",
    "#######################\n",
    "\n",
    "print('\\nXGB:')\n",
    "print((-cross_val_score(model8, Xtrain, Y_train,\n",
    "                        cv=kf, scoring='neg_mean_squared_error').mean()).round(6)*100,'%')\n",
    "\n",
    "Model8 = model8.fit(Xtrain, Y_train)\n",
    "predict_8 = Model8.predict(Xtest)\n",
    "print('test_MSE: ',mean_squared_error(Y_test, predict_8)*100)   \n",
    "\n",
    "##################\n",
    "\n",
    "print('\\n2nd order Polynomial + XGB:')\n",
    "print((-cross_val_score(model7, Xtrain, Y_train,\n",
    "                        cv=kf, scoring='neg_mean_squared_error').mean()).round(6)*100,'%')\n",
    "\n",
    "Model7 = model7.fit(Xtrain, Y_train)\n",
    "predict_7 = Model7.predict(Xtest)\n",
    "print('test_MSE: ',mean_squared_error(Y_test, predict_7)*100)\n",
    "    \n",
    "    \n",
    "##################\n",
    "\n",
    "print('\\nGaussian:')\n",
    "print((-cross_val_score(model9, Xtrain, Y_train,\n",
    "                        cv=kf, scoring='neg_mean_squared_error').mean()).round(6)*100,'%')\n",
    "\n",
    "Model9 = model9.fit(Xtrain, Y_train)\n",
    "predict_9 = Model9.predict(Xtest)\n",
    "print('test_MSE: ',mean_squared_error(Y_test, predict_9)*100)"
   ]
  },
  {
   "cell_type": "markdown",
   "metadata": {
    "id": "KVAutfzmXVdR"
   },
   "source": [
    "### Comparing the test loss for above models to compare with the cross validation error"
   ]
  },
  {
   "cell_type": "code",
   "execution_count": 13,
   "metadata": {
    "scrolled": false
   },
   "outputs": [
    {
     "name": "stdout",
     "output_type": "stream",
     "text": [
      "Ave. MSE for:  LR  =  1.965975\n",
      "Ave. R2 for:  LR  =  69.189317  %\n",
      "time for each split:  0.003101 s \n",
      "*********\n",
      "\n",
      "Ave. MSE for:  LR_ridge  =  2.492591\n",
      "Ave. R2 for:  LR_ridge  =  59.083701  %\n",
      "time for each split:  0.003173 s \n",
      "*********\n",
      "\n",
      "Ave. MSE for:  LR_lasso  =  6.671335\n",
      "Ave. R2 for:  LR_lasso  =  -7.242413  %\n",
      "time for each split:  0.003467 s \n",
      "*********\n",
      "\n",
      "Ave. MSE for:  2poly_LR  =  1.116476\n",
      "Ave. R2 for:  2poly_LR  =  81.481763  %\n",
      "time for each split:  0.004641 s \n",
      "*********\n",
      "\n",
      "Ave. MSE for:  3poly_LR  =  1.105947\n",
      "Ave. R2 for:  3poly_LR  =  80.780198  %\n",
      "time for each split:  0.008893 s \n",
      "*********\n",
      "\n",
      "Ave. MSE for:  4poly_LR  =  5.078497\n",
      "Ave. R2 for:  4poly_LR  =  21.028702  %\n",
      "time for each split:  0.022182 s \n",
      "*********\n",
      "\n",
      "Ave. MSE for:  2poly_ridge  =  2.04836\n",
      "Ave. R2 for:  2poly_ridge  =  67.797087  %\n",
      "time for each split:  0.010179 s \n",
      "*********\n",
      "\n",
      "Ave. MSE for:  2poly_lasso  =  6.973331\n",
      "Ave. R2 for:  2poly_lasso  =  -6.769622  %\n",
      "time for each split:  0.004612 s \n",
      "*********\n",
      "\n",
      "Ave. MSE for:  XGB  =  1.438543\n",
      "Ave. R2 for:  XGB  =  77.485567  %\n",
      "time for each split:  0.085694 s \n",
      "*********\n",
      "\n",
      "Ave. MSE for:  2poly_XGB  =  1.295308\n",
      "Ave. R2 for:  2poly_XGB  =  77.025792  %\n",
      "time for each split:  0.103983 s \n",
      "*********\n",
      "\n",
      "Ave. MSE for:  Gaussian  =  514.743099\n",
      "Ave. R2 for:  Gaussian  =  -8237.319582  %\n",
      "time for each split:  0.022855 s \n",
      "*********\n",
      "\n"
     ]
    }
   ],
   "source": [
    "losses = []\n",
    "R2es = []\n",
    "\n",
    "models = {'LR': model1, 'LR_ridge': model5,'LR_lasso': model6, \n",
    "          '2poly_LR': model2, '3poly_LR': model_poly3, '4poly_LR': model_poly4,\n",
    "          '2poly_ridge': model3, '2poly_lasso': model4, 'XGB': model8, \n",
    "          '2poly_XGB': model7, 'Gaussian': model9 }\n",
    "\n",
    "    \n",
    "n = 100   # how many different test-train splits\n",
    "for key, value in models.items():\n",
    "    losses = []\n",
    "    R2es = []\n",
    "    t = time.process_time()\n",
    "    for i in range(n):\n",
    "        Train, Test = train_test_split(df, test_size = 0.20)\n",
    "        Y_train = Train.iloc[:,5]\n",
    "        Y_test = Test.iloc[:,5]\n",
    "        Models = value.fit(Train.iloc[:,:5], Y_train)\n",
    "        predict = Models.predict(Test.iloc[:,:5])\n",
    "        loss = mean_squared_error(Y_test, predict)\n",
    "        R2 = r2_score(Y_test, predict)\n",
    "        losses.append(loss)\n",
    "        R2es.append(R2)\n",
    "    elapsed_time = time.process_time() - t\n",
    "    print('Ave. MSE for: ',key ,' = ', (np.mean(np.array(losses))*100).round(6))\n",
    "    print('Ave. R2 for: ',key ,' = ', (np.mean(np.array(R2es))*100).round(6),' %')\n",
    "    print('time for each split: ',round(elapsed_time/n, 6), 's \\n*********\\n')\n"
   ]
  },
  {
   "cell_type": "markdown",
   "metadata": {
    "id": "u1Hv6dsRXVdS"
   },
   "source": [
    "## Using Keras in Tensorflow"
   ]
  },
  {
   "cell_type": "code",
   "execution_count": 11,
   "metadata": {},
   "outputs": [],
   "source": [
    "def NN_MultiLayer(Xtrain, Y_train, Xtest, Y_test):\n",
    "#     n_outputs = Y_train.shape[1]           # in case we want to predict multiple parameters \n",
    "#     tensorflow.random.set_seed(20210614)   # to fix initial coeficients \n",
    "#     input = Input(shape=(Xtrain.shape[1],))# to read no of parameters from \n",
    "    input = Input(shape=(5,))\n",
    "    x = Dense(64, activation='relu')(input)\n",
    "    x = Dense(32, activation='relu')(x)\n",
    "#     x = Dense(32, activation='relu')(x)\n",
    "    # x = Dense(16, activation='relu')(x)    # uncomment in case more layers are needed\n",
    "    output = Dense(1)(x)\n",
    "    model = Model(inputs=input, outputs=output)\n",
    "    model.compile(optimizer='adam', loss='mse')\n",
    "\n",
    "    model.fit(Xtrain, (Y_train) , epochs=1000, batch_size=16 ,verbose=0)\n",
    "    pred = model.predict(Xtest)\n",
    "\n",
    "    error = (mean_squared_error(pred, Y_test)).round(3)\n",
    "    Rsquare = (r2_score(pred, Y_test)).round(3)\n",
    "    return error , Rsquare"
   ]
  },
  {
   "cell_type": "code",
   "execution_count": 12,
   "metadata": {
    "colab": {
     "base_uri": "https://localhost:8080/"
    },
    "executionInfo": {
     "elapsed": 23719,
     "status": "ok",
     "timestamp": 1628526439902,
     "user": {
      "displayName": "Razyeh Behbahani",
      "photoUrl": "https://lh3.googleusercontent.com/a-/AOh14GjB_Pj1Qai0-BVcw2zuu1V77hlda5xHh5NGsdSx=s64",
      "userId": "14065031321747261255"
     },
     "user_tz": 240
    },
    "id": "7F2Nqjwaptyp",
    "outputId": "a6f05908-fc71-45c4-c93b-6f9109c291ea"
   },
   "outputs": [
    {
     "name": "stdout",
     "output_type": "stream",
     "text": [
      "\n",
      "MSE for NN is:  0.8990000000000001\n",
      "R2 for NN is:  85.66300000000001  %\n",
      "time:  7.101986 \n",
      "*********\n",
      "\n"
     ]
    }
   ],
   "source": [
    "losses = []\n",
    "R2es = []\n",
    "t = time.process_time()\n",
    "for i in range(100):\n",
    "    Train, Test = train_test_split(df, test_size = 0.20)\n",
    "    loss, R2 = NN_MultiLayer(Train.iloc[:,0:5], np.array(Train.iloc[:,5]), \n",
    "                             Test.iloc[:,0:5], np.array(Test.iloc[:,5]))\n",
    "    losses.append(loss)\n",
    "    R2es.append(R2)\n",
    "    \n",
    "elapsed_time = time.process_time() - t  \n",
    "\n",
    "# Dpt_loss = [a_tuple[0] for a_tuple in losses]\n",
    "# Topwidth_loss = [a_tuple[1] for a_tuple in losses]\n",
    "\n",
    "print('\\nMSE for NN is: ', np.mean(np.array(losses))*100)\n",
    "print('R2 for NN is: ', np.mean(np.array(R2es))*100, ' %')\n",
    "print('time: ',round(elapsed_time/100, 6), '\\n*********\\n')\n",
    "   "
   ]
  },
  {
   "cell_type": "code",
   "execution_count": 15,
   "metadata": {},
   "outputs": [],
   "source": [
    "X = df.drop(['Depth', 'Top_width', 'Bot_width'], axis = 'columns')\n",
    "Dpt = df.Depth.values\n",
    "Topw = df.Top_width.values\n",
    "Botw = df.Bot_width.values\n",
    "\n",
    "##-------- split the data to training (80%) and test (20%) data sets\n",
    "Xtrain, Xtest,Dpt_train, Dpt_test, Topw_train, Topw_test, Botw_train, Botw_test  =\\\n",
    "            train_test_split(X, Dpt,Topw ,Botw ,\n",
    "            test_size = 0.2, random_state = 20210614)\n",
    "\n",
    "\n"
   ]
  },
  {
   "cell_type": "code",
   "execution_count": 14,
   "metadata": {},
   "outputs": [],
   "source": [
    "def NN_MultiLayer_pred(Xtrain, Y_train, Xtest):\n",
    "#     n_outputs = Y_train.shape[1]           # in case we want to predict multiple parameters \n",
    "#     tensorflow.random.set_seed(20210614)   # to fix initial coeficients \n",
    "#     input = Input(shape=(Xtrain.shape[1],))# to read no of parameters from \n",
    "    input = Input(shape=(5,))\n",
    "    x = Dense(64, activation='relu')(input)\n",
    "    x = Dense(32, activation='relu')(x)\n",
    "#     x = Dense(32, activation='relu')(x)\n",
    "    # x = Dense(16, activation='relu')(x)    # uncomment in case more layers are needed\n",
    "    output = Dense(1)(x)\n",
    "    model = Model(inputs=input, outputs=output)\n",
    "    model.compile(optimizer='adam', loss='mse')\n",
    "\n",
    "    model.fit(Xtrain, (Y_train) , epochs=1000, batch_size=64 ,verbose=0)\n",
    "    pred = model.predict(Xtest)\n",
    "#     print(pred.shape)\n",
    "    return pred"
   ]
  },
  {
   "cell_type": "markdown",
   "metadata": {},
   "source": [
    "## Looking at the residual plots for different models"
   ]
  },
  {
   "cell_type": "code",
   "execution_count": 18,
   "metadata": {},
   "outputs": [
    {
     "data": {
      "image/png": "[encoded data removed]",
      "text/plain": [
       "<Figure size 864x216 with 3 Axes>"
      ]
     },
     "metadata": {
      "needs_background": "light"
     },
     "output_type": "display_data"
    }
   ],
   "source": [
    "\"\"\"As model2, model7, model8 have close R2 scores, lets compare their test loss\"\"\"\n",
    "fig = plt.figure(figsize=(12,3))\n",
    "plt.subplots_adjust(wspace = 0.35)\n",
    "\n",
    "ax1 = fig.add_subplot(131)\n",
    "ax2 = fig.add_subplot(132)\n",
    "ax3 = fig.add_subplot(133)\n",
    "\n",
    "######################\n",
    "Model2 = model2.fit(Xtrain.iloc[:,:5], Y_train)\n",
    "predict2 = Model2.predict(Xtest.iloc[:,:5])\n",
    "loss = mean_squared_error(Y_test, predict2)\n",
    "res2 = predict2.ravel() - Y_test.ravel()\n",
    "\n",
    "ax1.scatter(predict2, res2)\n",
    "ax1.axhline(y=res2.mean(), color='r', linestyle='-')\n",
    "ax1.set_title('2nd_Poly+LR', fontsize=20)\n",
    "ax1.plot(res2.mean())\n",
    "\n",
    "ax1.set_xlabel('Predicted Depth', fontsize=20)\n",
    "ax1.set_ylabel('MSE', fontsize=20)\n",
    "\n",
    "##################\n",
    "\n",
    "\n",
    "Model3 = model_poly3.fit(Xtrain.iloc[:,:5], Y_train)\n",
    "predict3 = Model3.predict(Xtest.iloc[:,:5])\n",
    "loss = mean_squared_error(Y_test, predict3)\n",
    "res3 = predict3.ravel() - Y_test.ravel()\n",
    "\n",
    "ax2.scatter(predict3, res3)\n",
    "ax2.axhline(y=res3.mean(), color='r', linestyle='-')\n",
    "ax2.set_title('3rd_Poly+LR', fontsize=20)\n",
    "ax2.plot(res3.mean())\n",
    "\n",
    "ax2.set_xlabel('Predicted Depth', fontsize=20)\n",
    "ax2.set_ylabel('MSE', fontsize=20)\n",
    "\n",
    "# ##################\n",
    "predict4 = NN_MultiLayer_pred(Xtrain.iloc[:,:5], Y_train, Xtest.iloc[:,:5])\n",
    "loss = mean_squared_error(Y_test, predict4)\n",
    "res4 = predict4.ravel() - Y_test.ravel()\n",
    "\n",
    "ax3.scatter(predict4, res4)\n",
    "ax3.axhline(y=res4.mean(), color='r', linestyle='-')\n",
    "ax3.set_title('NN', fontsize=20)\n",
    "ax3.plot(res4.mean())\n",
    "\n",
    "ax3.set_xlabel('Predicted Depth', fontsize=20)\n",
    "ax3.set_ylabel('MSE', fontsize=20)\n",
    "\n",
    "# plt.savefig('Graphs/residualplot.png',bbox_inches='tight')\n",
    "plt.show()"
   ]
  },
  {
   "cell_type": "markdown",
   "metadata": {},
   "source": [
    "## Prediciting depth"
   ]
  },
  {
   "cell_type": "code",
   "execution_count": 16,
   "metadata": {},
   "outputs": [],
   "source": [
    "\n",
    "### predict Depth\n",
    "Y_train = np.c_[Dpt_train]\n",
    "Y_test = np.c_[Dpt_test]"
   ]
  },
  {
   "cell_type": "code",
   "execution_count": 17,
   "metadata": {},
   "outputs": [
    {
     "name": "stderr",
     "output_type": "stream",
     "text": [
      "2021-11-01 08:58:54.930700: I tensorflow/core/platform/cpu_feature_guard.cc:142] This TensorFlow binary is optimized with oneAPI Deep Neural Network Library (oneDNN) to use the following CPU instructions in performance-critical operations:  AVX2 FMA\n",
      "To enable them in other operations, rebuild TensorFlow with the appropriate compiler flags.\n",
      "2021-11-01 08:58:54.996395: I tensorflow/compiler/mlir/mlir_graph_optimization_pass.cc:185] None of the MLIR Optimization Passes are enabled (registered 2)\n"
     ]
    },
    {
     "name": "stdout",
     "output_type": "stream",
     "text": [
      "WARNING:tensorflow:5 out of the last 5 calls to <function Model.make_predict_function.<locals>.predict_function at 0x1803a9430> triggered tf.function retracing. Tracing is expensive and the excessive number of tracings could be due to (1) creating @tf.function repeatedly in a loop, (2) passing tensors with different shapes, (3) passing Python objects instead of tensors. For (1), please define your @tf.function outside of the loop. For (2), @tf.function has experimental_relax_shapes=True option that relaxes argument shapes that can avoid unnecessary retracing. For (3), please refer to https://www.tensorflow.org/guide/function#controlling_retracing and https://www.tensorflow.org/api_docs/python/tf/function for  more details.\n",
      "WARNING:tensorflow:6 out of the last 6 calls to <function Model.make_predict_function.<locals>.predict_function at 0x18050f700> triggered tf.function retracing. Tracing is expensive and the excessive number of tracings could be due to (1) creating @tf.function repeatedly in a loop, (2) passing tensors with different shapes, (3) passing Python objects instead of tensors. For (1), please define your @tf.function outside of the loop. For (2), @tf.function has experimental_relax_shapes=True option that relaxes argument shapes that can avoid unnecessary retracing. For (3), please refer to https://www.tensorflow.org/guide/function#controlling_retracing and https://www.tensorflow.org/api_docs/python/tf/function for  more details.\n"
     ]
    }
   ],
   "source": [
    "case_pred = []\n",
    "\n",
    "for i in range(100):\n",
    "\n",
    "    pred = NN_MultiLayer_pred(Xtrain.iloc[:,:5],Y_train, \n",
    "                             Xtest.iloc[:,0:5], )\n",
    "\n",
    "    case_pred.append(pred)\n",
    "\n",
    "B = np.array(case_pred)\n",
    "\n",
    "meanDpt_pred = []\n",
    "stdDpt_pred = []\n",
    "\n",
    "for l in range(B.shape[1]):\n",
    "    meanDpt_pred.append(B[:, l, 0].mean())\n",
    "    stdDpt_pred.append(B[:, l, 0].std(ddof=1))\n",
    "    \n",
    "stdDpt_pred = [element * 2 for element in stdDpt_pred]"
   ]
  },
  {
   "cell_type": "code",
   "execution_count": 18,
   "metadata": {},
   "outputs": [
    {
     "data": {
      "image/png": "[encoded data removed]",
      "text/plain": [
       "<Figure size 504x432 with 1 Axes>"
      ]
     },
     "metadata": {
      "needs_background": "light"
     },
     "output_type": "display_data"
    }
   ],
   "source": [
    "fig = plt.figure(figsize=(7,6))\n",
    "ax1 = fig.add_subplot(111)\n",
    "\n",
    "plt.subplots_adjust(wspace=0.25)\n",
    "bbox_propsLAD = dict(boxstyle=\"round4,pad=0.3\", fc=\"white\", ec=\"k\", lw=1.5, alpha=0.6)\n",
    "\n",
    "###################\n",
    "Model2 = model2.fit(Xtrain.iloc[:,:5], Y_train)\n",
    "predict2 = Model2.predict(Xtest.iloc[:,:5])\n",
    "\n",
    "ax1.scatter(Y_test,predict2,color='r', marker='X',s=75,alpha=0.5, label = 'Poly2_LR')\n",
    "\n",
    "###################\n",
    "Model3 = model_poly3.fit(Xtrain.iloc[:,:5], Y_train)\n",
    "predict3 = Model3.predict(Xtest.iloc[:,:5])\n",
    "\n",
    "ax1.scatter(Y_test,predict3, marker='^',s=105,\n",
    "            facecolors='none', edgecolors='b', alpha=0.75, label = 'Poly3_LR')\n",
    "\n",
    "###################\n",
    "ax1.scatter(Y_test,meanDpt_pred,color='g', marker='o',s=100,alpha=0.9, label = 'NN')\n",
    "\n",
    "##### In case we want to show the error bars\n",
    "\n",
    "# ax1.errorbar(Y_test, meanDpt_pred,\n",
    "#             yerr= stdDpt_pred,\n",
    "#              capsize=5,\n",
    "#             fmt='og', ms=10, lw =2, label = 'NN')\n",
    "\n",
    "####################\n",
    "\n",
    "ax1.annotate('Poly2_R$^2$='+str(round(r2_score(Y_test, predict2)*100,2))+'%'+\n",
    "             '\\nPoly3_R$^2$='+str(round(r2_score(Y_test, predict3)*100,2))+'%'+\n",
    "             '\\nNN_R$^2$='+str(round(r2_score(Y_test, meanDpt_pred)*100,2))+'%', \n",
    "             xy=(0.60,0.1),fontsize=15,bbox=bbox_propsLAD)\n",
    "###############################\n",
    "x=np.linspace(0,1,10)\n",
    "ax1.plot(x,x*(x>0),linewidth=1, color='k')\n",
    "\n",
    "ax1.set_xlabel('Depth', fontsize=25)\n",
    "ax1.set_ylabel('Predicted depth', fontsize=25)\n",
    "\n",
    "ax1.legend(loc=(0.2,0.7), fontsize=18, handlelength=1.4, handletextpad=0.3, borderpad=0.2)\n",
    "ax1.tick_params(axis='x', labelsize=20)\n",
    "ax1.tick_params(axis='y', labelsize=20)\n",
    "\n",
    "ax1.text(0,0.9,'(a)',fontsize= 40)\n",
    "\n",
    "# plt.savefig('Graphs/Depth_Models.png',bbox_inches='tight')\n",
    "\n",
    "plt.show()"
   ]
  },
  {
   "cell_type": "markdown",
   "metadata": {},
   "source": [
    "## Predicting Top width"
   ]
  },
  {
   "cell_type": "code",
   "execution_count": 19,
   "metadata": {},
   "outputs": [],
   "source": [
    "####### predict Top width\n",
    "Y_train = np.c_[Topw_train]\n",
    "Y_test = np.c_[Topw_test]\n",
    "\n",
    "\n",
    "case_pred = []\n",
    "for i in range(100):\n",
    "\n",
    "    pred = NN_MultiLayer_pred(Xtrain.iloc[:,:5],Y_train, \n",
    "                             Xtest.iloc[:,0:5], )\n",
    "\n",
    "    case_pred.append(pred)\n",
    "\n",
    "B = np.array(case_pred)\n",
    "\n",
    "mean_pred = []\n",
    "std_pred = []\n",
    "\n",
    "for l in range(B.shape[1]):\n",
    "    mean_pred.append(B[:, l, 0].mean())\n",
    "    std_pred.append(B[:, l, 0].std(ddof=1))\n",
    "    \n",
    "std_pred = [element * 2 for element in std_pred]"
   ]
  },
  {
   "cell_type": "code",
   "execution_count": 20,
   "metadata": {},
   "outputs": [
    {
     "data": {
      "image/png": "[encoded data removed]",
      "text/plain": [
       "<Figure size 504x432 with 1 Axes>"
      ]
     },
     "metadata": {
      "needs_background": "light"
     },
     "output_type": "display_data"
    }
   ],
   "source": [
    "fig = plt.figure(figsize=(7,6))\n",
    "ax1 = fig.add_subplot(111)\n",
    "\n",
    "plt.subplots_adjust(wspace=0.25)\n",
    "bbox_propsLAD = dict(boxstyle=\"round4,pad=0.3\", fc=\"white\", ec=\"k\", lw=1.5, alpha=0.6)\n",
    "\n",
    "###################\n",
    "Model2 = model2.fit(Xtrain.iloc[:,:5], Y_train)\n",
    "predict2 = Model2.predict(Xtest.iloc[:,:5])\n",
    "\n",
    "ax1.scatter(Y_test,predict2,color='r', marker='X',s=75,alpha=0.5, label = 'Poly2_LR')\n",
    "\n",
    "###################\n",
    "Model3 = model_poly3.fit(Xtrain.iloc[:,:5], Y_train)\n",
    "predict3 = Model3.predict(Xtest.iloc[:,:5])\n",
    "ax1.scatter(Y_test,predict3, marker='^',s=105,\n",
    "            facecolors='none', edgecolors='b', alpha=0.75, label = 'Poly3_LR')\n",
    "\n",
    "\n",
    "\n",
    "###################\n",
    "ax1.scatter(Y_test,mean_pred,color='g', marker='o',s=100,alpha=0.9, label = 'NN')\n",
    "\n",
    "##### In case we want to show the error bars\n",
    "\n",
    "# ax1.errorbar(Y_test, mean_pred,\n",
    "#             yerr= std_pred,\n",
    "#              capsize=5,\n",
    "#             fmt='og', ms=10, lw =2, label = 'NN')\n",
    "\n",
    "####################\n",
    "\n",
    "ax1.annotate('Poly2_R$^2$='+str(round(r2_score(Y_test, predict2)*100,2))+'%'+\n",
    "             '\\nPoly3_R$^2$='+str(round(r2_score(Y_test, predict3)*100,2))+'%'+\n",
    "             '\\nNN_R$^2$='+str(round(r2_score(Y_test, mean_pred)*100,2))+'%', \n",
    "             xy=(0.60,0.1),fontsize=15,bbox=bbox_propsLAD)\n",
    "###############################\n",
    "x=np.linspace(0,1,10)\n",
    "ax1.plot(x,x*(x>0),linewidth=1, color='k')\n",
    "\n",
    "ax1.set_xlabel('Top Width', fontsize=25)\n",
    "ax1.set_ylabel('Predicted Top Width', fontsize=25)\n",
    "\n",
    "ax1.legend(loc=(0.2,0.7), fontsize=18, handlelength=1.4, handletextpad=0.3, borderpad=0.2)\n",
    "ax1.tick_params(axis='x', labelsize=20)\n",
    "ax1.tick_params(axis='y', labelsize=20)\n",
    "\n",
    "ax1.text(0,0.9,'(b)',fontsize= 40)\n",
    "\n",
    "plt.savefig('Graphs/TopWidth_Models.png',bbox_inches='tight')\n",
    "\n",
    "plt.show()"
   ]
  },
  {
   "cell_type": "markdown",
   "metadata": {},
   "source": [
    "## Predicting bottom width"
   ]
  },
  {
   "cell_type": "code",
   "execution_count": 21,
   "metadata": {},
   "outputs": [],
   "source": [
    "####### predict Bottom width\n",
    "Y_train = np.c_[Botw_train]\n",
    "Y_test = np.c_[Botw_test]\n",
    "\n",
    "case_pred = []\n",
    "for i in range(100):\n",
    "\n",
    "    pred = NN_MultiLayer_pred(Xtrain.iloc[:,:5],Y_train, \n",
    "                             Xtest.iloc[:,0:5], )\n",
    "\n",
    "    case_pred.append(pred)\n",
    "\n",
    "B = np.array(case_pred)\n",
    "\n",
    "mean_pred = []\n",
    "std_pred = []\n",
    "\n",
    "for l in range(B.shape[1]):\n",
    "    mean_pred.append(B[:, l, 0].mean())\n",
    "    std_pred.append(B[:, l, 0].std(ddof=1))\n",
    "    \n",
    "std_pred = [element * 2 for element in std_pred]"
   ]
  },
  {
   "cell_type": "code",
   "execution_count": 22,
   "metadata": {},
   "outputs": [
    {
     "data": {
      "image/png": "[encoded data removed]",
      "text/plain": [
       "<Figure size 504x432 with 1 Axes>"
      ]
     },
     "metadata": {
      "needs_background": "light"
     },
     "output_type": "display_data"
    }
   ],
   "source": [
    "fig = plt.figure(figsize=(7,6))\n",
    "ax1 = fig.add_subplot(111)\n",
    "\n",
    "plt.subplots_adjust(wspace=0.25)\n",
    "bbox_propsLAD = dict(boxstyle=\"round4,pad=0.3\", fc=\"white\", ec=\"k\", lw=1.5, alpha=0.6)\n",
    "###################\n",
    "Model2 = model2.fit(Xtrain.iloc[:,:5], Y_train)\n",
    "predict2 = Model2.predict(Xtest.iloc[:,:5])\n",
    "\n",
    "ax1.scatter(Y_test,predict2,color='r', marker='X',s=75,alpha=0.5, label = 'Poly2_LR')\n",
    "###################\n",
    "Model3 = model_poly3.fit(Xtrain.iloc[:,:5], Y_train)\n",
    "predict3 = Model3.predict(Xtest.iloc[:,:5])\n",
    "\n",
    "ax1.scatter(Y_test,predict3, marker='^',s=105,\n",
    "            facecolors='none', edgecolors='b', alpha=0.75, label = 'Poly3_LR')\n",
    "\n",
    "ax1.scatter(Y_test,mean_pred,color='g', marker='o',s=100,alpha=0.9, label = 'NN')\n",
    "\n",
    "##### In case we want to show the error bars\n",
    "\n",
    "# ax1.errorbar(Y_test, mean_pred,\n",
    "#             yerr= std_pred,\n",
    "#              capsize=2,\n",
    "#             fmt='og', ms=10, lw =2, label = 'NN')\n",
    "\n",
    "####################\n",
    "\n",
    "ax1.annotate('Poly2_R$^2$='+str(round(r2_score(Y_test, predict2)*100,2))+'%'+\n",
    "             '\\nPoly3_R$^2$='+str(round(r2_score(Y_test, predict3)*100,2))+'%'+\n",
    "             '\\nNN_R$^2$='+str(round(r2_score(Y_test, mean_pred)*100,2))+'%', \n",
    "             xy=(0.60,0.1),fontsize=15,bbox=bbox_propsLAD)\n",
    "###############################\n",
    "x=np.linspace(0,1,10)\n",
    "ax1.plot(x,x*(x>0),linewidth=1, color='k')\n",
    "\n",
    "ax1.set_xlabel('Bottom Width', fontsize=25)\n",
    "ax1.set_ylabel('Predicted Bottom Width', fontsize=25)\n",
    "\n",
    "ax1.legend(loc=(0.2,0.75), fontsize=18, handlelength=1.4, handletextpad=0.3, borderpad=0.2)\n",
    "ax1.tick_params(axis='x', labelsize=20)\n",
    "ax1.tick_params(axis='y', labelsize=20)\n",
    "\n",
    "ax1.text(0,0.9,'(c)',fontsize= 40)\n",
    "\n",
    "plt.savefig('Graphs/BotWidth_Models.png',bbox_inches='tight')\n",
    "plt.show()"
   ]
  },
  {
   "cell_type": "code",
   "execution_count": null,
   "metadata": {},
   "outputs": [],
   "source": [
    "def NN_MultiLayer_pred(Xtrain, Y_train, Xtest):\n",
    "    input = Input(shape=(5,))\n",
    "    x = Dense(64, activation='relu')(input)\n",
    "    x = Dense(32, activation='relu')(x)\n",
    "    output = Dense(1)(x)\n",
    "    model = Model(inputs=input, outputs=output)\n",
    "    model.compile(optimizer='adam', loss='mse')\n",
    "\n",
    "    model.fit(Xtrain, (Y_train) , epochs=1000, batch_size=64 ,verbose=0)\n",
    "    pred = model.predict(Xtest)\n",
    "    return pred"
   ]
  }
 ],
 "metadata": {
  "accelerator": "GPU",
  "colab": {
   "collapsed_sections": [],
   "name": "ML_methods.ipynb",
   "provenance": []
  },
  "kernelspec": {
   "display_name": "Python 3 (ipykernel)",
   "language": "python",
   "name": "python3"
  },
  "language_info": {
   "codemirror_mode": {
    "name": "ipython",
    "version": 3
   },
   "file_extension": ".py",
   "mimetype": "text/x-python",
   "name": "python",
   "nbconvert_exporter": "python",
   "pygments_lexer": "ipython3",
   "version": "3.8.9"
  }
 },
 "nbformat": 4,
 "nbformat_minor": 1
}
