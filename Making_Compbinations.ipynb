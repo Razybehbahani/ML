{
 "cells": [
  {
   "cell_type": "code",
   "execution_count": 6,
   "metadata": {
    "colab": {
     "base_uri": "https://localhost:8080/"
    },
    "executionInfo": {
     "elapsed": 103,
     "status": "ok",
     "timestamp": 1628533919210,
     "user": {
      "displayName": "Razyeh Behbahani",
      "photoUrl": "https://lh3.googleusercontent.com/a-/AOh14GjB_Pj1Qai0-BVcw2zuu1V77hlda5xHh5NGsdSx=s64",
      "userId": "14065031321747261255"
     },
     "user_tz": 240
    },
    "id": "L9GszxuNSH4W",
    "outputId": "29c978b1-52b1-4ae0-e0ef-faae47985e7e"
   },
   "outputs": [],
   "source": [
    "# from google.colab import drive\n",
    "# drive.mount('/content/gdrive')"
   ]
  },
  {
   "cell_type": "markdown",
   "metadata": {},
   "source": [
    "**Read me:**\n",
    "In this notebook we make a grid of the laser parameters to feed to the NN model and predict the channel dimensions. What we do\n",
    "- reading experimental data\n",
    "- finding the list of used parameters as the grid parametrs should be the same range as experimental data\n",
    "- set nested for-loops for making combinations and save it\n"
   ]
  },
  {
   "cell_type": "code",
   "execution_count": 1,
   "metadata": {
    "executionInfo": {
     "elapsed": 113,
     "status": "ok",
     "timestamp": 1628533920435,
     "user": {
      "displayName": "Razyeh Behbahani",
      "photoUrl": "https://lh3.googleusercontent.com/a-/AOh14GjB_Pj1Qai0-BVcw2zuu1V77hlda5xHh5NGsdSx=s64",
      "userId": "14065031321747261255"
     },
     "user_tz": 240
    },
    "id": "iSz-LNBiR6vH"
   },
   "outputs": [],
   "source": [
    "\"\"\"import packages you need\"\"\"\n",
    "import numpy as np\n",
    "import pandas as pd\n",
    "import seaborn as sns\n",
    "# import matplotlib.pyplot as plt \n",
    "\n",
    "# from sklearn.preprocessing import MinMaxScaler, PolynomialFeatures\n",
    "# from sklearn.metrics import accuracy_score, mean_squared_error\n",
    "# from sklearn.model_selection import KFold\n",
    "# from sklearn.model_selection import train_test_split, cross_val_score, GridSearchCV\n",
    "# from sklearn.linear_model import LinearRegression, Ridge, Lasso\n",
    "# from sklearn.pipeline import Pipeline\n",
    "# from sklearn.utils import shuffle\n",
    "\n",
    "# from xgboost import XGBRegressor\n",
    "# import torch\n",
    "# import torch.nn as nn\n",
    "# from torch.utils.data import Dataset\n",
    "# torch.manual_seed(20210614)\n",
    "# device = torch.device(\"cuda\")"
   ]
  },
  {
   "cell_type": "code",
   "execution_count": 8,
   "metadata": {
    "colab": {
     "base_uri": "https://localhost:8080/"
    },
    "executionInfo": {
     "elapsed": 18,
     "status": "ok",
     "timestamp": 1628532650072,
     "user": {
      "displayName": "Razyeh Behbahani",
      "photoUrl": "https://lh3.googleusercontent.com/a-/AOh14GjB_Pj1Qai0-BVcw2zuu1V77hlda5xHh5NGsdSx=s64",
      "userId": "14065031321747261255"
     },
     "user_tz": 240
    },
    "id": "ZdEOeJc2R6vK",
    "outputId": "8a34dffa-a27a-4f49-8e56-7372e42b8740"
   },
   "outputs": [],
   "source": [
    "# df1 = pd.read_excel('RawData/Machine Learning Data_01.xlsx')\n",
    "\n",
    "# df1.dropna(how='any', axis=1, inplace = True) \n",
    "\n",
    "# print(f'shape of the data frame: {df1.shape}')"
   ]
  },
  {
   "cell_type": "code",
   "execution_count": 2,
   "metadata": {},
   "outputs": [],
   "source": [
    "\"\"\"After tunning data\"\"\"\n",
    "\n",
    "df_0 = pd.read_csv('RawData/two_widths/Param0_2width.csv')\n",
    "df_1 = pd.read_csv('RawData/two_widths/Param1_2width.csv')\n",
    "df_2 = pd.read_csv('RawData/two_widths/Param2_2width.csv')\n",
    "df_3 = pd.read_csv('RawData/two_widths/Param3_2width.csv')\n",
    "df_4 = pd.read_csv('RawData/two_widths/Param4_2width.csv')\n",
    "\n",
    "df1 = pd.concat([df_0, df_1, df_2, df_3, df_4], axis = 0, ignore_index = True)"
   ]
  },
  {
   "cell_type": "code",
   "execution_count": 10,
   "metadata": {},
   "outputs": [],
   "source": [
    "# combined_Exp = pd.read_csv('RawData/AllExpComb_tuned.csv')\n",
    "# df1 = shuffle(combined_Exp, random_state=20210614)"
   ]
  },
  {
   "cell_type": "code",
   "execution_count": 11,
   "metadata": {},
   "outputs": [],
   "source": [
    "# df_new = pd.read_excel('RawData/New set of data.xlsx', header=1)\n",
    "\n",
    "# df_new.drop(df_new.index[df_new['Angle (deg)'] == 0], inplace = True)\n",
    "# df_new.drop(df_new.index[df_new['Depth (um)'] == 0], inplace = True)\n",
    "\n",
    "# DATA_new = np.c_[df_new.iloc[:,3].values, df_new.iloc[:,2].values, df_new.iloc[:,4].values,\\\n",
    "#                 df_new.iloc[:,5].values, df_new.iloc[:,1].values, df_new.iloc[:,6].values,\\\n",
    "#               df_new.iloc[:,7].values ] \n",
    "\n",
    "# column_names = ['Frequency', 'Speed', 'Amplitude', 'Passes','Focal_Position',\n",
    "#                           'Depth','Angle']\n",
    "\n",
    "# df1 = pd.DataFrame(DATA_new, columns = column_names)"
   ]
  },
  {
   "cell_type": "markdown",
   "metadata": {
    "id": "DDYKmwsdR6vM"
   },
   "source": [
    "### Exploring the data set"
   ]
  },
  {
   "cell_type": "code",
   "execution_count": 12,
   "metadata": {
    "colab": {
     "base_uri": "https://localhost:8080/"
    },
    "executionInfo": {
     "elapsed": 15,
     "status": "ok",
     "timestamp": 1628532650072,
     "user": {
      "displayName": "Razyeh Behbahani",
      "photoUrl": "https://lh3.googleusercontent.com/a-/AOh14GjB_Pj1Qai0-BVcw2zuu1V77hlda5xHh5NGsdSx=s64",
      "userId": "14065031321747261255"
     },
     "user_tz": 240
    },
    "id": "6zlViYvPR6vM",
    "outputId": "092e0272-930f-49cc-ace6-ac4ebd071a5c"
   },
   "outputs": [
    {
     "data": {
      "text/plain": [
       "Index(['Frequency', 'Speed', 'Amplitude', 'Passes', 'Focal_Position', 'Depth',\n",
       "       'Top_width', 'Bot_width'],\n",
       "      dtype='object')"
      ]
     },
     "execution_count": 12,
     "metadata": {},
     "output_type": "execute_result"
    }
   ],
   "source": [
    "# df1.columns = df1.columns.str.replace(' ', '')\n",
    "df1.keys()"
   ]
  },
  {
   "cell_type": "code",
   "execution_count": 3,
   "metadata": {
    "colab": {
     "base_uri": "https://localhost:8080/"
    },
    "executionInfo": {
     "elapsed": 146,
     "status": "ok",
     "timestamp": 1628532650214,
     "user": {
      "displayName": "Razyeh Behbahani",
      "photoUrl": "https://lh3.googleusercontent.com/a-/AOh14GjB_Pj1Qai0-BVcw2zuu1V77hlda5xHh5NGsdSx=s64",
      "userId": "14065031321747261255"
     },
     "user_tz": 240
    },
    "id": "wjiq0l-9R6vN",
    "outputId": "c3462ddf-b661-4335-920c-fba044fd34af"
   },
   "outputs": [
    {
     "name": "stdout",
     "output_type": "stream",
     "text": [
      "Exp Params. after tuning:\n",
      "\n",
      "Used frequencies are :\n",
      " [ 200.  300.  480.  600.  800. 1000. 1200. 1400. 1600.]\n",
      "\n",
      "Used speeds are :\n",
      " [ 5.   7.5 12.  15.  20.  25.  30.  35.  40. ]\n",
      "\n",
      "Used Amplitudes are :\n",
      " [0.1 0.2 0.3 0.4 0.5 0.7 0.8 0.9 1.  1.2]\n",
      "\n",
      "Used no. of passes are :\n",
      " [ 10.  15.  20.  30.  40.  80. 120. 160.]\n",
      "\n",
      "Used focal positions are :\n",
      " [91.676 92.057 92.438 92.819 93.2  ]\n"
     ]
    }
   ],
   "source": [
    "\"\"\"Listing the values of each parameter\"\"\"\n",
    "\n",
    "print('Exp Params. after tuning:\\n')\n",
    "freq = df1.Frequency.drop_duplicates().values.round(3)\n",
    "# print(freq.shape, '\\n min :', min(freq),'\\n max:' , max(freq))\n",
    "freq.sort()\n",
    "print('Used frequencies are :\\n', freq)\n",
    "\n",
    "speed = df1.Speed.drop_duplicates().values.round(3)\n",
    "# print(speed.shape,'\\n min:', min(speed),'\\n max:', max(speed))\n",
    "speed.sort()\n",
    "print('\\nUsed speeds are :\\n', speed)\n",
    "\n",
    "Ampl = df1.Amplitude.drop_duplicates().values.round(3)\n",
    "# print(Ampl.shape,'\\n min:', min(Ampl),'\\n max:', max(Ampl))\n",
    "Ampl.sort()\n",
    "print('\\nUsed Amplitudes are :\\n', Ampl)\n",
    "\n",
    "no_pass = df1.Passes.drop_duplicates().values.round(3)\n",
    "# print(no_pass.shape,'\\n min:', min(no_pass),'\\n max:', max(no_pass))\n",
    "no_pass.sort()\n",
    "print('\\nUsed no. of passes are :\\n', no_pass)\n",
    "\n",
    "pos = df1.Focal_Position.drop_duplicates().values.round(3)\n",
    "# print(pos.shape,'\\n min:', min(pos),'\\n max:', max(pos))\n",
    "pos.sort()\n",
    "print('\\nUsed focal positions are :\\n', pos)\n",
    "\n"
   ]
  },
  {
   "cell_type": "code",
   "execution_count": 14,
   "metadata": {},
   "outputs": [
    {
     "data": {
      "text/plain": [
       "' Counting the number of occurances of each instant'"
      ]
     },
     "execution_count": 14,
     "metadata": {},
     "output_type": "execute_result"
    }
   ],
   "source": [
    "\"\"\" Counting the number of occurances of each instant\"\"\"\n",
    "\n",
    "# from collections import Counter\n",
    "\n",
    "# frequency = df1.Frequency.values.round(3)\n",
    "# linear_speed = df1.Speed.values.round(3)\n",
    "# Ampllitude = df1.Amplitude.values.round(3)\n",
    "# number_pass = df1.Passes.values.round(3)\n",
    "# focal_position = df1.Focal_Position.values.round(3)\n",
    "\n",
    "# print('Exp1 frequencies:')\n",
    "# print(Counter(frequency))\n",
    "\n",
    "# print('\\n Exp1 Speeds:')\n",
    "# print(Counter(linear_speed))\n",
    "\n",
    "# print('\\n Exp1 Amplitudes:')\n",
    "# print(Counter(Ampllitude))\n",
    "\n",
    "# print('\\n Exp1 No. of Passes:')\n",
    "# print(Counter(number_pass))\n",
    "\n",
    "# print('\\n Exp1 focal Position:')\n",
    "# print(Counter(focal_position))"
   ]
  },
  {
   "cell_type": "code",
   "execution_count": 15,
   "metadata": {
    "colab": {
     "base_uri": "https://localhost:8080/",
     "height": 35
    },
    "executionInfo": {
     "elapsed": 8,
     "status": "ok",
     "timestamp": 1628532650216,
     "user": {
      "displayName": "Razyeh Behbahani",
      "photoUrl": "https://lh3.googleusercontent.com/a-/AOh14GjB_Pj1Qai0-BVcw2zuu1V77hlda5xHh5NGsdSx=s64",
      "userId": "14065031321747261255"
     },
     "user_tz": 240
    },
    "id": "5d1phMBqR6vO",
    "outputId": "01a74fde-2b19-432f-b772-ccfe55fa3718"
   },
   "outputs": [
    {
     "name": "stdout",
     "output_type": "stream",
     "text": [
      "\n",
      " (123,) \n",
      " min Depth: 3.45 \n",
      " max Depth: 1197.31\n",
      "\n",
      "Measured Depth are :\n",
      " [   3.45    4.93    6.45   35.05   39.91   67.55   70.64   73.93   78.46\n",
      "   87.21   89.76   91.21   92.65  115.35  116.28  117.76  122.93  125.88\n",
      "  126.03  131.8   133.92  143.43  153.52  153.87  161.68  164.42  171.66\n",
      "  171.7   173.95  174.92  177.03  177.29  182.18  183.31  184.33  188.51\n",
      "  201.42  206.52  209.07  210.9   212.55  214.92  221.04  224.43  226.86\n",
      "  226.92  231.9   238.31  245.26  245.67  247.33  247.34  250.41  251.98\n",
      "  258.59  265.8   272.44  295.04  296.42  303.03  304.18  304.66  306.55\n",
      "  308.27  323.5   325.22  330.92  336.52  338.83  346.19  348.1   360.5\n",
      "  367.66  370.66  372.63  378.05  388.15  395.62  401.07  404.71  408.05\n",
      "  423.24  425.73  455.52  461.3   461.36  483.79  485.07  498.65  507.55\n",
      "  515.12  517.73  563.77  569.69  572.83  573.91  594.35  631.13  637.41\n",
      "  657.24  662.28  681.88  710.99  732.06  825.25  859.6   865.62  887.63\n",
      "  936.02  975.17  985.38  993.86 1006.46 1029.73 1038.27 1042.26 1070.39\n",
      " 1077.3  1090.3  1102.2  1111.99 1131.71 1197.31]\n",
      "\n",
      " (124,) \n",
      " min top_width: 117.04 \n",
      " max top_width: 1267.09\n",
      "\n",
      "Measured Top_width are :\n",
      " [ 117.04  123.05  150.16  207.52  207.72  208.24  210.89  211.9   213.17\n",
      "  213.89  215.32  216.2   219.64  219.8   227.77  255.01  265.36  271.77\n",
      "  273.17  278.1   290.45  299.26  299.59  299.96  300.51  304.6   306.08\n",
      "  306.4   307.06  309.83  313.15  316.88  317.35  317.82  322.94  325.6\n",
      "  327.38  345.76  349.93  365.12  372.28  393.32  395.    395.59  398.07\n",
      "  399.72  400.4   401.79  406.58  407.37  407.95  408.1   490.62  493.01\n",
      "  493.29  495.87  500.2   500.29  500.37  501.44  502.17  504.2   508.27\n",
      "  509.21  510.92  513.    515.23  516.44  523.96  527.5   532.92  536.99\n",
      "  539.34  583.84  597.62  665.56  690.12  701.41  703.92  706.1   706.39\n",
      "  707.2   709.29  709.81  711.07  714.45  735.25  773.21  776.83  787.63\n",
      "  794.92  795.39  823.4   883.68  886.27  887.42  892.76  896.38  900.81\n",
      "  908.91  972.93  977.53  981.48  985.51  992.6   995.09  995.71  996.67\n",
      "  998.91 1001.83 1002.18 1002.3  1011.42 1095.53 1150.25 1163.58 1165.55\n",
      " 1179.56 1180.75 1183.17 1186.18 1199.24 1208.61 1267.09]\n",
      "\n",
      " (78,) \n",
      " min bottom_width: 0.0 \n",
      " max bottom_width: 1037.68\n",
      "\n",
      "Measured Bot_width are :\n",
      " [   0.     11.37   16.13   18.28   27.4    29.87   36.18   45.32   61.99\n",
      "   71.79   77.34   79.73  100.69  100.76  116.91  119.04  120.51  126.76\n",
      "  138.95  144.61  147.53  161.81  169.01  179.1   181.66  193.51  194.28\n",
      "  204.3   206.37  214.7   217.34  232.64  235.25  240.41  244.85  258.73\n",
      "  280.87  283.59  283.92  307.83  332.52  334.56  345.72  369.07  384.49\n",
      "  386.3   419.71  436.02  437.16  454.88  464.25  482.02  491.14  496.12\n",
      "  499.38  502.94  558.81  575.57  593.19  612.12  657.46  663.22  669.81\n",
      "  717.49  725.41  753.11  759.85  779.88  796.25  803.58  832.24  839.15\n",
      "  879.52  891.87  956.03  981.32 1009.51 1037.68]\n"
     ]
    }
   ],
   "source": [
    "\"\"\"Measured depth and widths\"\"\"\n",
    "Depth = df1.Depth.drop_duplicates().values.round(2)\n",
    "print('\\n',Depth.shape,'\\n min Depth:', min(Depth),'\\n max Depth:', max(Depth))\n",
    "Depth.sort()\n",
    "print('\\nMeasured Depth are :\\n', Depth)\n",
    "\n",
    "Top_w = df1.Top_width.drop_duplicates().values.round(2)\n",
    "print('\\n',Top_w.shape,'\\n min top_width:', min(Top_w),'\\n max top_width:', max(Top_w))\n",
    "Top_w.sort()\n",
    "print('\\nMeasured Top_width are :\\n', Top_w)\n",
    "\n",
    "\n",
    "Bot_w = df1.Bot_width.drop_duplicates().values.round(2)\n",
    "print('\\n',Bot_w.shape,'\\n min bottom_width:', min(Bot_w),'\\n max bottom_width:', max(Bot_w))\n",
    "Bot_w.sort()\n",
    "print('\\nMeasured Bot_width are :\\n', Bot_w)"
   ]
  },
  {
   "cell_type": "code",
   "execution_count": 16,
   "metadata": {},
   "outputs": [
    {
     "data": {
      "text/plain": [
       "array([40., 40., 40., 40., 40., 40., 40., 40., 40., 40., 40., 40., 40.,\n",
       "       40., 40., 40., 40., 40., 40., 40., 40., 40., 40., 40., 40., 40.,\n",
       "       40., 40., 40., 40., 40., 40., 40., 40., 40., 40., 40., 40., 40.,\n",
       "       40., 40., 40., 40., 40., 40., 40., 40., 40., 40., 40., 40., 40.,\n",
       "       40., 40., 40., 40., 40., 40., 40., 40., 40., 40., 40., 40., 40.,\n",
       "       40., 40., 40., 40., 40., 40., 40., 40., 40., 40., 40., 40., 40.,\n",
       "       40., 40., 40., 40., 40., 40., 40., 40., 40., 40., 40., 40., 40.,\n",
       "       40., 40., 40., 40., 40., 40., 40., 40., 40., 40., 40., 40., 40.,\n",
       "       40., 40., 40., 40., 40., 40., 40., 40., 40., 40., 40., 40., 40.,\n",
       "       40., 40., 40., 40., 40., 40., 40.])"
      ]
     },
     "execution_count": 16,
     "metadata": {},
     "output_type": "execute_result"
    }
   ],
   "source": [
    "df1.Frequency.values/df1.Speed.values"
   ]
  },
  {
   "cell_type": "markdown",
   "metadata": {
    "id": "toSDIZmER6vP"
   },
   "source": [
    "# Making data frames to feed to the trained model \n",
    "\n",
    "- Using only used laser parameters\n",
    "- Using finer mesh of laser parameters"
   ]
  },
  {
   "cell_type": "code",
   "execution_count": 17,
   "metadata": {
    "colab": {
     "base_uri": "https://localhost:8080/",
     "height": 221
    },
    "executionInfo": {
     "elapsed": 599,
     "status": "ok",
     "timestamp": 1628532650809,
     "user": {
      "displayName": "Razyeh Behbahani",
      "photoUrl": "https://lh3.googleusercontent.com/a-/AOh14GjB_Pj1Qai0-BVcw2zuu1V77hlda5xHh5NGsdSx=s64",
      "userId": "14065031321747261255"
     },
     "user_tz": 240
    },
    "id": "1J4dbHtAR6vQ",
    "outputId": "c207ff67-fe4a-4bd2-85a1-5b7747237332"
   },
   "outputs": [
    {
     "name": "stdout",
     "output_type": "stream",
     "text": [
      "Shape of the new data frame: (3600, 5)\n"
     ]
    },
    {
     "data": {
      "text/plain": [
       "(3600, 5)"
      ]
     },
     "execution_count": 17,
     "metadata": {},
     "output_type": "execute_result"
    }
   ],
   "source": [
    "\"\"\"Making a dataframe with all the reported values for parametres\n",
    "In case we want some restrictions on the combination of parameters we can\n",
    "give it initial values like: ``pos = [93.2]`` or as if statements like: \n",
    "if (s*1000/f) <= 35\n",
    "Just double check the indentations when you include if statements\n",
    "\"\"\"\n",
    "\n",
    "\n",
    "# pos = [93.2]\n",
    "DATA = []\n",
    "for f in freq:\n",
    "#     for s in speed:\n",
    "    for a in Ampl:\n",
    "        for np in no_pass:\n",
    "            for p in pos:\n",
    "#                     if (f/s) == 40:\n",
    "                data_point = [f, f/40, a, np, p] \n",
    "                DATA.append(data_point)\n",
    "\n",
    "    \n",
    "\n",
    "import numpy as np\n",
    "Data = np.array([np.array(xi) for xi in DATA])\n",
    "\n",
    "print(f\"Shape of the new data frame: {Data.shape}\")\n",
    "\n",
    "df_target = pd.DataFrame(Data, columns = \n",
    "    ['Frequency', 'Speed', 'Amplitude', 'Passes', 'Focal_Position'])\n",
    "                    \n",
    "\n",
    "# df_target.to_csv(r'/content/gdrive/MyDrive/PostDoc/MLFE/Python_codes/RawData/UsedVal_comb.csv', header=True, index = False)\n",
    "\n",
    "df_target.shape"
   ]
  },
  {
   "cell_type": "code",
   "execution_count": 18,
   "metadata": {},
   "outputs": [
    {
     "data": {
      "text/plain": [
       "0       40.0\n",
       "1       40.0\n",
       "2       40.0\n",
       "3       40.0\n",
       "4       40.0\n",
       "        ... \n",
       "3595    40.0\n",
       "3596    40.0\n",
       "3597    40.0\n",
       "3598    40.0\n",
       "3599    40.0\n",
       "Length: 3600, dtype: float64"
      ]
     },
     "execution_count": 18,
     "metadata": {},
     "output_type": "execute_result"
    }
   ],
   "source": [
    "# df_target.head()\n",
    "df_target.Frequency/df_target.Speed"
   ]
  },
  {
   "cell_type": "code",
   "execution_count": 19,
   "metadata": {
    "colab": {
     "base_uri": "https://localhost:8080/",
     "height": 221
    },
    "executionInfo": {
     "elapsed": 51124,
     "status": "ok",
     "timestamp": 1628532701928,
     "user": {
      "displayName": "Razyeh Behbahani",
      "photoUrl": "https://lh3.googleusercontent.com/a-/AOh14GjB_Pj1Qai0-BVcw2zuu1V77hlda5xHh5NGsdSx=s64",
      "userId": "14065031321747261255"
     },
     "user_tz": 240
    },
    "id": "BAobSrVyR6vR",
    "outputId": "eb1341fb-2ee8-4928-96d7-8a4f3f6a1a8d"
   },
   "outputs": [
    {
     "name": "stdout",
     "output_type": "stream",
     "text": [
      "Shape of the new data frame: (53940, 5)\n"
     ]
    },
    {
     "data": {
      "text/html": [
       "<div>\n",
       "<style scoped>\n",
       "    .dataframe tbody tr th:only-of-type {\n",
       "        vertical-align: middle;\n",
       "    }\n",
       "\n",
       "    .dataframe tbody tr th {\n",
       "        vertical-align: top;\n",
       "    }\n",
       "\n",
       "    .dataframe thead th {\n",
       "        text-align: right;\n",
       "    }\n",
       "</style>\n",
       "<table border=\"1\" class=\"dataframe\">\n",
       "  <thead>\n",
       "    <tr style=\"text-align: right;\">\n",
       "      <th></th>\n",
       "      <th>Frequency</th>\n",
       "      <th>Speed</th>\n",
       "      <th>Amplitude</th>\n",
       "      <th>Passes</th>\n",
       "      <th>Focal_Position</th>\n",
       "    </tr>\n",
       "  </thead>\n",
       "  <tbody>\n",
       "    <tr>\n",
       "      <th>0</th>\n",
       "      <td>200.0</td>\n",
       "      <td>5.0</td>\n",
       "      <td>0.1</td>\n",
       "      <td>10.0</td>\n",
       "      <td>91.676</td>\n",
       "    </tr>\n",
       "    <tr>\n",
       "      <th>1</th>\n",
       "      <td>200.0</td>\n",
       "      <td>5.0</td>\n",
       "      <td>0.1</td>\n",
       "      <td>10.0</td>\n",
       "      <td>92.057</td>\n",
       "    </tr>\n",
       "    <tr>\n",
       "      <th>2</th>\n",
       "      <td>200.0</td>\n",
       "      <td>5.0</td>\n",
       "      <td>0.1</td>\n",
       "      <td>10.0</td>\n",
       "      <td>92.438</td>\n",
       "    </tr>\n",
       "    <tr>\n",
       "      <th>3</th>\n",
       "      <td>200.0</td>\n",
       "      <td>5.0</td>\n",
       "      <td>0.1</td>\n",
       "      <td>10.0</td>\n",
       "      <td>92.819</td>\n",
       "    </tr>\n",
       "    <tr>\n",
       "      <th>4</th>\n",
       "      <td>200.0</td>\n",
       "      <td>5.0</td>\n",
       "      <td>0.1</td>\n",
       "      <td>10.0</td>\n",
       "      <td>93.200</td>\n",
       "    </tr>\n",
       "  </tbody>\n",
       "</table>\n",
       "</div>"
      ],
      "text/plain": [
       "   Frequency  Speed  Amplitude  Passes  Focal_Position\n",
       "0      200.0    5.0        0.1    10.0          91.676\n",
       "1      200.0    5.0        0.1    10.0          92.057\n",
       "2      200.0    5.0        0.1    10.0          92.438\n",
       "3      200.0    5.0        0.1    10.0          92.819\n",
       "4      200.0    5.0        0.1    10.0          93.200"
      ]
     },
     "execution_count": 19,
     "metadata": {},
     "output_type": "execute_result"
    }
   ],
   "source": [
    "\"\"\"Making a dataframe with finer mesh of possible values for parametres\"\"\"\n",
    "\n",
    "\n",
    "DATA = []\n",
    "for f in np.arange(freq.min(), freq.max()+50, 50):\n",
    "#     for s in np.arange(speed.min(), speed.max()+1, 1) :\n",
    "    for a in np.arange(Ampl.min(), Ampl.max()+0.1, 0.1):\n",
    "        for no_p in np.arange(no_pass.min(), no_pass.max()+5, 5):\n",
    "            for p in pos:\n",
    "                data_point = [f, f/40, a, no_p, p] \n",
    "                DATA.append(data_point)\n",
    "\n",
    "    \n",
    "\n",
    "import numpy as np\n",
    "Data = np.array([np.array(xi) for xi in DATA])\n",
    "\n",
    "print(f\"Shape of the new data frame: {Data.shape}\")\n",
    "\n",
    "df_possible = pd.DataFrame(Data, columns = \n",
    "    ['Frequency', 'Speed', 'Amplitude', 'Passes', 'Focal_Position'])\n",
    "                    \n",
    "df_possible.to_csv(r'RawData/two_widths/Grid_TunedLaserParam.csv', header=True, index = False)\n",
    "df_possible.head()"
   ]
  },
  {
   "cell_type": "code",
   "execution_count": 10,
   "metadata": {
    "executionInfo": {
     "elapsed": 15,
     "status": "ok",
     "timestamp": 1628532701929,
     "user": {
      "displayName": "Razyeh Behbahani",
      "photoUrl": "https://lh3.googleusercontent.com/a-/AOh14GjB_Pj1Qai0-BVcw2zuu1V77hlda5xHh5NGsdSx=s64",
      "userId": "14065031321747261255"
     },
     "user_tz": 240
    },
    "id": "f7wCfi3KR6vS"
   },
   "outputs": [],
   "source": [
    "# target = pd.read_csv(\"Data/Used_combination.csv\")\n",
    "# org = pd.read_excel('Data/Machine Learning Data_org.xlsx')\n",
    "\n",
    "# org.dropna(how='any', axis=1, inplace = True) \n",
    "# fig, axs = plt.subplots(nrows = 1, ncols=2, figsize = (12,4))\n",
    "\n",
    "\n",
    "# sns.distplot(df_target.Frequency, ax=axs[0], color = 'b', label = 'Exp Freq')\n",
    "# sns.distplot(df_possible.Frequency, ax=axs[0], color = 'r', label = 'Possible Free')\n",
    "\n",
    "# sns.distplot(df_target.Amplitude, ax=axs[1], color = 'b', label = 'Exp Amp')\n",
    "# sns.distplot(df_possible.Amplitude, ax=axs[1], color = 'r', label = 'Possible Amp')\n",
    "\n",
    "# axs[0].legend(fontsize=12)\n",
    "# axs[1].legend(fontsize=12)\n",
    "# axs[0].set_xlabel('Freq', fontsize=20)\n",
    "# axs[1].set_xlabel('Amp', fontsize=20)"
   ]
  },
  {
   "cell_type": "code",
   "execution_count": null,
   "metadata": {},
   "outputs": [],
   "source": []
  }
 ],
 "metadata": {
  "colab": {
   "collapsed_sections": [],
   "name": "Making_Compbinations.ipynb",
   "provenance": []
  },
  "kernelspec": {
   "display_name": "Python 3 (ipykernel)",
   "language": "python",
   "name": "python3"
  },
  "language_info": {
   "codemirror_mode": {
    "name": "ipython",
    "version": 3
   },
   "file_extension": ".py",
   "mimetype": "text/x-python",
   "name": "python",
   "nbconvert_exporter": "python",
   "pygments_lexer": "ipython3",
   "version": "3.8.9"
  }
 },
 "nbformat": 4,
 "nbformat_minor": 1
}
